{
 "cells": [
  {
   "cell_type": "code",
   "execution_count": 5,
   "metadata": {},
   "outputs": [],
   "source": [
    "import pandas as pd \n",
    "import numpy as np \n",
    "import matplotlib.pyplot as plt \n",
    "import seaborn as sns"
   ]
  },
  {
   "cell_type": "code",
   "execution_count": 6,
   "metadata": {},
   "outputs": [
    {
     "name": "stdout",
     "output_type": "stream",
     "text": [
      "Requirement already satisfied: brisque in /opt/anaconda3/lib/python3.9/site-packages (0.0.12)\n",
      "Requirement already satisfied: numpy in /opt/anaconda3/lib/python3.9/site-packages (from brisque) (1.21.5)\n",
      "Requirement already satisfied: libsvm in /opt/anaconda3/lib/python3.9/site-packages (from brisque) (3.23.0.4)\n",
      "Requirement already satisfied: scikit-image in /opt/anaconda3/lib/python3.9/site-packages (from brisque) (0.19.2)\n",
      "Requirement already satisfied: scipy in /opt/anaconda3/lib/python3.9/site-packages (from brisque) (1.7.3)\n",
      "Requirement already satisfied: opencv-python in /opt/anaconda3/lib/python3.9/site-packages (from brisque) (4.6.0.66)\n",
      "Requirement already satisfied: networkx>=2.2 in /opt/anaconda3/lib/python3.9/site-packages (from scikit-image->brisque) (2.7.1)\n",
      "Requirement already satisfied: PyWavelets>=1.1.1 in /opt/anaconda3/lib/python3.9/site-packages (from scikit-image->brisque) (1.3.0)\n",
      "Requirement already satisfied: tifffile>=2019.7.26 in /opt/anaconda3/lib/python3.9/site-packages (from scikit-image->brisque) (2021.7.2)\n",
      "Requirement already satisfied: packaging>=20.0 in /opt/anaconda3/lib/python3.9/site-packages (from scikit-image->brisque) (21.3)\n",
      "Requirement already satisfied: pillow!=7.1.0,!=7.1.1,!=8.3.0,>=6.1.0 in /opt/anaconda3/lib/python3.9/site-packages (from scikit-image->brisque) (9.0.1)\n",
      "Requirement already satisfied: imageio>=2.4.1 in /opt/anaconda3/lib/python3.9/site-packages (from scikit-image->brisque) (2.9.0)\n",
      "Requirement already satisfied: pyparsing!=3.0.5,>=2.0.2 in /opt/anaconda3/lib/python3.9/site-packages (from packaging>=20.0->scikit-image->brisque) (3.0.4)\n"
     ]
    }
   ],
   "source": [
    "!pip3 install brisque"
   ]
  },
  {
   "cell_type": "code",
   "execution_count": 7,
   "metadata": {},
   "outputs": [
    {
     "data": {
      "text/html": [
       "<div>\n",
       "<style scoped>\n",
       "    .dataframe tbody tr th:only-of-type {\n",
       "        vertical-align: middle;\n",
       "    }\n",
       "\n",
       "    .dataframe tbody tr th {\n",
       "        vertical-align: top;\n",
       "    }\n",
       "\n",
       "    .dataframe thead th {\n",
       "        text-align: right;\n",
       "    }\n",
       "</style>\n",
       "<table border=\"1\" class=\"dataframe\">\n",
       "  <thead>\n",
       "    <tr style=\"text-align: right;\">\n",
       "      <th></th>\n",
       "      <th>step</th>\n",
       "      <th>video</th>\n",
       "      <th>accel</th>\n",
       "    </tr>\n",
       "  </thead>\n",
       "  <tbody>\n",
       "    <tr>\n",
       "      <th>0</th>\n",
       "      <td>0</td>\n",
       "      <td>5.554502</td>\n",
       "      <td>5.855149</td>\n",
       "    </tr>\n",
       "    <tr>\n",
       "      <th>1</th>\n",
       "      <td>5</td>\n",
       "      <td>5.798855</td>\n",
       "      <td>5.864104</td>\n",
       "    </tr>\n",
       "    <tr>\n",
       "      <th>2</th>\n",
       "      <td>10</td>\n",
       "      <td>5.946825</td>\n",
       "      <td>5.867571</td>\n",
       "    </tr>\n",
       "    <tr>\n",
       "      <th>3</th>\n",
       "      <td>15</td>\n",
       "      <td>5.982464</td>\n",
       "      <td>5.870358</td>\n",
       "    </tr>\n",
       "    <tr>\n",
       "      <th>4</th>\n",
       "      <td>20</td>\n",
       "      <td>6.265037</td>\n",
       "      <td>5.876516</td>\n",
       "    </tr>\n",
       "    <tr>\n",
       "      <th>5</th>\n",
       "      <td>25</td>\n",
       "      <td>6.277508</td>\n",
       "      <td>5.882580</td>\n",
       "    </tr>\n",
       "    <tr>\n",
       "      <th>6</th>\n",
       "      <td>30</td>\n",
       "      <td>6.308421</td>\n",
       "      <td>5.906539</td>\n",
       "    </tr>\n",
       "    <tr>\n",
       "      <th>7</th>\n",
       "      <td>35</td>\n",
       "      <td>6.371583</td>\n",
       "      <td>5.906502</td>\n",
       "    </tr>\n",
       "    <tr>\n",
       "      <th>8</th>\n",
       "      <td>40</td>\n",
       "      <td>6.456995</td>\n",
       "      <td>5.929871</td>\n",
       "    </tr>\n",
       "  </tbody>\n",
       "</table>\n",
       "</div>"
      ],
      "text/plain": [
       "   step     video     accel\n",
       "0     0  5.554502  5.855149\n",
       "1     5  5.798855  5.864104\n",
       "2    10  5.946825  5.867571\n",
       "3    15  5.982464  5.870358\n",
       "4    20  6.265037  5.876516\n",
       "5    25  6.277508  5.882580\n",
       "6    30  6.308421  5.906539\n",
       "7    35  6.371583  5.906502\n",
       "8    40  6.456995  5.929871"
      ]
     },
     "execution_count": 7,
     "metadata": {},
     "output_type": "execute_result"
    }
   ],
   "source": [
    "df = pd.read_csv(\"/Users/kyungyunlee/Desktop/ IRP reference/Data/final_comparison.csv\")\n",
    "df"
   ]
  },
  {
   "cell_type": "code",
   "execution_count": 8,
   "metadata": {},
   "outputs": [
    {
     "data": {
      "text/html": [
       "<div>\n",
       "<style scoped>\n",
       "    .dataframe tbody tr th:only-of-type {\n",
       "        vertical-align: middle;\n",
       "    }\n",
       "\n",
       "    .dataframe tbody tr th {\n",
       "        vertical-align: top;\n",
       "    }\n",
       "\n",
       "    .dataframe thead th {\n",
       "        text-align: right;\n",
       "    }\n",
       "</style>\n",
       "<table border=\"1\" class=\"dataframe\">\n",
       "  <thead>\n",
       "    <tr style=\"text-align: right;\">\n",
       "      <th></th>\n",
       "      <th>step</th>\n",
       "      <th>video</th>\n",
       "      <th>accel</th>\n",
       "      <th>video_gap</th>\n",
       "      <th>accel_gap</th>\n",
       "    </tr>\n",
       "  </thead>\n",
       "  <tbody>\n",
       "    <tr>\n",
       "      <th>0</th>\n",
       "      <td>0</td>\n",
       "      <td>5.554502</td>\n",
       "      <td>5.855149</td>\n",
       "      <td>NaN</td>\n",
       "      <td>NaN</td>\n",
       "    </tr>\n",
       "    <tr>\n",
       "      <th>1</th>\n",
       "      <td>5</td>\n",
       "      <td>5.798855</td>\n",
       "      <td>5.864104</td>\n",
       "      <td>0.244353</td>\n",
       "      <td>0.008955</td>\n",
       "    </tr>\n",
       "    <tr>\n",
       "      <th>2</th>\n",
       "      <td>10</td>\n",
       "      <td>5.946825</td>\n",
       "      <td>5.867571</td>\n",
       "      <td>0.147970</td>\n",
       "      <td>0.003467</td>\n",
       "    </tr>\n",
       "    <tr>\n",
       "      <th>3</th>\n",
       "      <td>15</td>\n",
       "      <td>5.982464</td>\n",
       "      <td>5.870358</td>\n",
       "      <td>0.035639</td>\n",
       "      <td>0.002787</td>\n",
       "    </tr>\n",
       "    <tr>\n",
       "      <th>4</th>\n",
       "      <td>20</td>\n",
       "      <td>6.265037</td>\n",
       "      <td>5.876516</td>\n",
       "      <td>0.282573</td>\n",
       "      <td>0.006157</td>\n",
       "    </tr>\n",
       "    <tr>\n",
       "      <th>5</th>\n",
       "      <td>25</td>\n",
       "      <td>6.277508</td>\n",
       "      <td>5.882580</td>\n",
       "      <td>0.012471</td>\n",
       "      <td>0.006065</td>\n",
       "    </tr>\n",
       "    <tr>\n",
       "      <th>6</th>\n",
       "      <td>30</td>\n",
       "      <td>6.308421</td>\n",
       "      <td>5.906539</td>\n",
       "      <td>0.030914</td>\n",
       "      <td>0.023959</td>\n",
       "    </tr>\n",
       "    <tr>\n",
       "      <th>7</th>\n",
       "      <td>35</td>\n",
       "      <td>6.371583</td>\n",
       "      <td>5.906502</td>\n",
       "      <td>0.063162</td>\n",
       "      <td>-0.000037</td>\n",
       "    </tr>\n",
       "    <tr>\n",
       "      <th>8</th>\n",
       "      <td>40</td>\n",
       "      <td>6.456995</td>\n",
       "      <td>5.929871</td>\n",
       "      <td>0.085412</td>\n",
       "      <td>0.023370</td>\n",
       "    </tr>\n",
       "  </tbody>\n",
       "</table>\n",
       "</div>"
      ],
      "text/plain": [
       "   step     video     accel  video_gap  accel_gap\n",
       "0     0  5.554502  5.855149        NaN        NaN\n",
       "1     5  5.798855  5.864104   0.244353   0.008955\n",
       "2    10  5.946825  5.867571   0.147970   0.003467\n",
       "3    15  5.982464  5.870358   0.035639   0.002787\n",
       "4    20  6.265037  5.876516   0.282573   0.006157\n",
       "5    25  6.277508  5.882580   0.012471   0.006065\n",
       "6    30  6.308421  5.906539   0.030914   0.023959\n",
       "7    35  6.371583  5.906502   0.063162  -0.000037\n",
       "8    40  6.456995  5.929871   0.085412   0.023370"
      ]
     },
     "execution_count": 8,
     "metadata": {},
     "output_type": "execute_result"
    }
   ],
   "source": [
    "df[\"video_gap\"] = df[\"video\"] - df[\"video\"].shift()\n",
    "df[\"accel_gap\"] = df[\"accel\"] - df[\"accel\"].shift()\n",
    "df"
   ]
  },
  {
   "cell_type": "code",
   "execution_count": 9,
   "metadata": {},
   "outputs": [
    {
     "data": {
      "text/html": [
       "<div>\n",
       "<style scoped>\n",
       "    .dataframe tbody tr th:only-of-type {\n",
       "        vertical-align: middle;\n",
       "    }\n",
       "\n",
       "    .dataframe tbody tr th {\n",
       "        vertical-align: top;\n",
       "    }\n",
       "\n",
       "    .dataframe thead th {\n",
       "        text-align: right;\n",
       "    }\n",
       "</style>\n",
       "<table border=\"1\" class=\"dataframe\">\n",
       "  <thead>\n",
       "    <tr style=\"text-align: right;\">\n",
       "      <th></th>\n",
       "      <th>step</th>\n",
       "      <th>video</th>\n",
       "      <th>accel</th>\n",
       "      <th>video_gap</th>\n",
       "      <th>accel_gap</th>\n",
       "    </tr>\n",
       "  </thead>\n",
       "  <tbody>\n",
       "    <tr>\n",
       "      <th>step</th>\n",
       "      <td>1.000000</td>\n",
       "      <td>0.959928</td>\n",
       "      <td>0.956033</td>\n",
       "      <td>-0.518879</td>\n",
       "      <td>0.463591</td>\n",
       "    </tr>\n",
       "    <tr>\n",
       "      <th>video</th>\n",
       "      <td>0.959928</td>\n",
       "      <td>1.000000</td>\n",
       "      <td>0.865966</td>\n",
       "      <td>-0.393109</td>\n",
       "      <td>0.408070</td>\n",
       "    </tr>\n",
       "    <tr>\n",
       "      <th>accel</th>\n",
       "      <td>0.956033</td>\n",
       "      <td>0.865966</td>\n",
       "      <td>1.000000</td>\n",
       "      <td>-0.442977</td>\n",
       "      <td>0.644957</td>\n",
       "    </tr>\n",
       "    <tr>\n",
       "      <th>video_gap</th>\n",
       "      <td>-0.518879</td>\n",
       "      <td>-0.393109</td>\n",
       "      <td>-0.442977</td>\n",
       "      <td>1.000000</td>\n",
       "      <td>-0.163148</td>\n",
       "    </tr>\n",
       "    <tr>\n",
       "      <th>accel_gap</th>\n",
       "      <td>0.463591</td>\n",
       "      <td>0.408070</td>\n",
       "      <td>0.644957</td>\n",
       "      <td>-0.163148</td>\n",
       "      <td>1.000000</td>\n",
       "    </tr>\n",
       "  </tbody>\n",
       "</table>\n",
       "</div>"
      ],
      "text/plain": [
       "               step     video     accel  video_gap  accel_gap\n",
       "step       1.000000  0.959928  0.956033  -0.518879   0.463591\n",
       "video      0.959928  1.000000  0.865966  -0.393109   0.408070\n",
       "accel      0.956033  0.865966  1.000000  -0.442977   0.644957\n",
       "video_gap -0.518879 -0.393109 -0.442977   1.000000  -0.163148\n",
       "accel_gap  0.463591  0.408070  0.644957  -0.163148   1.000000"
      ]
     },
     "execution_count": 9,
     "metadata": {},
     "output_type": "execute_result"
    }
   ],
   "source": [
    "df.corr()"
   ]
  },
  {
   "cell_type": "code",
   "execution_count": 10,
   "metadata": {},
   "outputs": [
    {
     "data": {
      "text/html": [
       "<div>\n",
       "<style scoped>\n",
       "    .dataframe tbody tr th:only-of-type {\n",
       "        vertical-align: middle;\n",
       "    }\n",
       "\n",
       "    .dataframe tbody tr th {\n",
       "        vertical-align: top;\n",
       "    }\n",
       "\n",
       "    .dataframe thead th {\n",
       "        text-align: right;\n",
       "    }\n",
       "</style>\n",
       "<table border=\"1\" class=\"dataframe\">\n",
       "  <thead>\n",
       "    <tr style=\"text-align: right;\">\n",
       "      <th></th>\n",
       "      <th>step</th>\n",
       "      <th>video</th>\n",
       "      <th>accel</th>\n",
       "      <th>video_gap</th>\n",
       "      <th>accel_gap</th>\n",
       "      <th>corr_vid_accel</th>\n",
       "      <th>corr_step_vid</th>\n",
       "      <th>corr_step_accel</th>\n",
       "    </tr>\n",
       "  </thead>\n",
       "  <tbody>\n",
       "    <tr>\n",
       "      <th>0</th>\n",
       "      <td>0</td>\n",
       "      <td>5.554502</td>\n",
       "      <td>5.855149</td>\n",
       "      <td>NaN</td>\n",
       "      <td>NaN</td>\n",
       "      <td>0.865966</td>\n",
       "      <td>0.959928</td>\n",
       "      <td>0.956033</td>\n",
       "    </tr>\n",
       "    <tr>\n",
       "      <th>1</th>\n",
       "      <td>5</td>\n",
       "      <td>5.798855</td>\n",
       "      <td>5.864104</td>\n",
       "      <td>0.244353</td>\n",
       "      <td>0.008955</td>\n",
       "      <td>0.865966</td>\n",
       "      <td>0.959928</td>\n",
       "      <td>0.956033</td>\n",
       "    </tr>\n",
       "    <tr>\n",
       "      <th>2</th>\n",
       "      <td>10</td>\n",
       "      <td>5.946825</td>\n",
       "      <td>5.867571</td>\n",
       "      <td>0.147970</td>\n",
       "      <td>0.003467</td>\n",
       "      <td>0.865966</td>\n",
       "      <td>0.959928</td>\n",
       "      <td>0.956033</td>\n",
       "    </tr>\n",
       "    <tr>\n",
       "      <th>3</th>\n",
       "      <td>15</td>\n",
       "      <td>5.982464</td>\n",
       "      <td>5.870358</td>\n",
       "      <td>0.035639</td>\n",
       "      <td>0.002787</td>\n",
       "      <td>0.865966</td>\n",
       "      <td>0.959928</td>\n",
       "      <td>0.956033</td>\n",
       "    </tr>\n",
       "    <tr>\n",
       "      <th>4</th>\n",
       "      <td>20</td>\n",
       "      <td>6.265037</td>\n",
       "      <td>5.876516</td>\n",
       "      <td>0.282573</td>\n",
       "      <td>0.006157</td>\n",
       "      <td>0.865966</td>\n",
       "      <td>0.959928</td>\n",
       "      <td>0.956033</td>\n",
       "    </tr>\n",
       "    <tr>\n",
       "      <th>5</th>\n",
       "      <td>25</td>\n",
       "      <td>6.277508</td>\n",
       "      <td>5.882580</td>\n",
       "      <td>0.012471</td>\n",
       "      <td>0.006065</td>\n",
       "      <td>0.865966</td>\n",
       "      <td>0.959928</td>\n",
       "      <td>0.956033</td>\n",
       "    </tr>\n",
       "    <tr>\n",
       "      <th>6</th>\n",
       "      <td>30</td>\n",
       "      <td>6.308421</td>\n",
       "      <td>5.906539</td>\n",
       "      <td>0.030914</td>\n",
       "      <td>0.023959</td>\n",
       "      <td>0.865966</td>\n",
       "      <td>0.959928</td>\n",
       "      <td>0.956033</td>\n",
       "    </tr>\n",
       "    <tr>\n",
       "      <th>7</th>\n",
       "      <td>35</td>\n",
       "      <td>6.371583</td>\n",
       "      <td>5.906502</td>\n",
       "      <td>0.063162</td>\n",
       "      <td>-0.000037</td>\n",
       "      <td>0.865966</td>\n",
       "      <td>0.959928</td>\n",
       "      <td>0.956033</td>\n",
       "    </tr>\n",
       "    <tr>\n",
       "      <th>8</th>\n",
       "      <td>40</td>\n",
       "      <td>6.456995</td>\n",
       "      <td>5.929871</td>\n",
       "      <td>0.085412</td>\n",
       "      <td>0.023370</td>\n",
       "      <td>0.865966</td>\n",
       "      <td>0.959928</td>\n",
       "      <td>0.956033</td>\n",
       "    </tr>\n",
       "  </tbody>\n",
       "</table>\n",
       "</div>"
      ],
      "text/plain": [
       "   step     video     accel  video_gap  accel_gap  corr_vid_accel  \\\n",
       "0     0  5.554502  5.855149        NaN        NaN        0.865966   \n",
       "1     5  5.798855  5.864104   0.244353   0.008955        0.865966   \n",
       "2    10  5.946825  5.867571   0.147970   0.003467        0.865966   \n",
       "3    15  5.982464  5.870358   0.035639   0.002787        0.865966   \n",
       "4    20  6.265037  5.876516   0.282573   0.006157        0.865966   \n",
       "5    25  6.277508  5.882580   0.012471   0.006065        0.865966   \n",
       "6    30  6.308421  5.906539   0.030914   0.023959        0.865966   \n",
       "7    35  6.371583  5.906502   0.063162  -0.000037        0.865966   \n",
       "8    40  6.456995  5.929871   0.085412   0.023370        0.865966   \n",
       "\n",
       "   corr_step_vid  corr_step_accel  \n",
       "0       0.959928         0.956033  \n",
       "1       0.959928         0.956033  \n",
       "2       0.959928         0.956033  \n",
       "3       0.959928         0.956033  \n",
       "4       0.959928         0.956033  \n",
       "5       0.959928         0.956033  \n",
       "6       0.959928         0.956033  \n",
       "7       0.959928         0.956033  \n",
       "8       0.959928         0.956033  "
      ]
     },
     "execution_count": 10,
     "metadata": {},
     "output_type": "execute_result"
    }
   ],
   "source": [
    "df[\"corr_vid_accel\"] = df.corr().iloc[2, 1]\n",
    "df[\"corr_step_vid\"] = df.corr().iloc[0, 1]\n",
    "df[\"corr_step_accel\"] = df.corr().iloc[0, 2]\n",
    "df"
   ]
  },
  {
   "cell_type": "code",
   "execution_count": 11,
   "metadata": {},
   "outputs": [
    {
     "data": {
      "text/plain": [
       "count    9.000000\n",
       "mean     6.106910\n",
       "std      0.301764\n",
       "min      5.554502\n",
       "25%      5.946825\n",
       "50%      6.265037\n",
       "75%      6.308421\n",
       "max      6.456995\n",
       "Name: video, dtype: float64"
      ]
     },
     "execution_count": 11,
     "metadata": {},
     "output_type": "execute_result"
    }
   ],
   "source": [
    "df[\"video\"].describe()"
   ]
  },
  {
   "cell_type": "code",
   "execution_count": 12,
   "metadata": {},
   "outputs": [
    {
     "data": {
      "text/plain": [
       "count    9.000000\n",
       "mean     5.884355\n",
       "std      0.024647\n",
       "min      5.855149\n",
       "25%      5.867571\n",
       "50%      5.876516\n",
       "75%      5.906502\n",
       "max      5.929871\n",
       "Name: accel, dtype: float64"
      ]
     },
     "execution_count": 12,
     "metadata": {},
     "output_type": "execute_result"
    }
   ],
   "source": [
    "df[\"accel\"].describe()"
   ]
  },
  {
   "cell_type": "code",
   "execution_count": 13,
   "metadata": {},
   "outputs": [
    {
     "name": "stderr",
     "output_type": "stream",
     "text": [
      "/opt/anaconda3/lib/python3.9/site-packages/seaborn/_decorators.py:36: FutureWarning: Pass the following variables as keyword args: x, y. From version 0.12, the only valid positional argument will be `data`, and passing other arguments without an explicit keyword will result in an error or misinterpretation.\n",
      "  warnings.warn(\n"
     ]
    },
    {
     "data": {
      "image/png": "[encoded data removed]",
      "text/plain": [
       "<Figure size 432x288 with 1 Axes>"
      ]
     },
     "metadata": {
      "needs_background": "light"
     },
     "output_type": "display_data"
    }
   ],
   "source": [
    "sns.regplot(df[\"step\"], df[\"video\"], label=(\"video\"))\n",
    "plt.ylabel(\"frequency\")\n",
    "plt.title(\"step_video reg\", fontdict={\"size\" : 15, \"weight\":\"bold\"})\n",
    "plt.legend()\n",
    "plt.show()"
   ]
  },
  {
   "cell_type": "code",
   "execution_count": 14,
   "metadata": {},
   "outputs": [
    {
     "name": "stderr",
     "output_type": "stream",
     "text": [
      "/opt/anaconda3/lib/python3.9/site-packages/seaborn/_decorators.py:36: FutureWarning: Pass the following variables as keyword args: x, y. From version 0.12, the only valid positional argument will be `data`, and passing other arguments without an explicit keyword will result in an error or misinterpretation.\n",
      "  warnings.warn(\n"
     ]
    },
    {
     "data": {
      "image/png": "[encoded data removed]",
      "text/plain": [
       "<Figure size 432x288 with 1 Axes>"
      ]
     },
     "metadata": {
      "needs_background": "light"
     },
     "output_type": "display_data"
    }
   ],
   "source": [
    "sns.regplot(df[\"step\"], df[\"accel\"], label=(\"accel\"), color=\"red\")\n",
    "plt.ylabel(\"frequency\")\n",
    "plt.title(\"step_video reg\", fontdict={\"size\" : 15, \"weight\":\"bold\"})\n",
    "plt.legend()\n",
    "plt.show()"
   ]
  },
  {
   "cell_type": "code",
   "execution_count": 15,
   "metadata": {},
   "outputs": [
    {
     "data": {
      "image/png": "[encoded data removed]",
      "text/plain": [
       "<Figure size 720x576 with 1 Axes>"
      ]
     },
     "metadata": {
      "needs_background": "light"
     },
     "output_type": "display_data"
    }
   ],
   "source": [
    "plt.figure(figsize=(10, 8))\n",
    "plt.plot(df[\"step\"], df[\"video\"], marker=\"^\", label=\"video\")\n",
    "plt.plot(df[\"step\"], df[\"accel\"], marker=\"o\", label=\"accel\")\n",
    "plt.legend(loc=\"upper left\")\n",
    "plt.xlabel(\"steps\")\n",
    "plt.ylabel(\"values\")\n",
    "plt.ylim(5, 9)\n",
    "plt.title(\"Values of video and accel\", fontdict={\"size\" : 15, \"weight\":\"bold\"})\n",
    "plt.grid()\n",
    "plt.show()"
   ]
  },
  {
   "cell_type": "markdown",
   "metadata": {},
   "source": [
    "# why there is some gap?\n",
    "1. image blur(comparison : brisque score, blur score)\n",
    "   - normal image, blurred image, iphone image\n",
    "2. some frame is skipped because of blur\n",
    "3. limits of Raspberry pi camera"
   ]
  },
  {
   "cell_type": "code",
   "execution_count": 16,
   "metadata": {},
   "outputs": [
    {
     "data": {
      "text/html": [
       "<div>\n",
       "<style scoped>\n",
       "    .dataframe tbody tr th:only-of-type {\n",
       "        vertical-align: middle;\n",
       "    }\n",
       "\n",
       "    .dataframe tbody tr th {\n",
       "        vertical-align: top;\n",
       "    }\n",
       "\n",
       "    .dataframe thead th {\n",
       "        text-align: right;\n",
       "    }\n",
       "</style>\n",
       "<table border=\"1\" class=\"dataframe\">\n",
       "  <thead>\n",
       "    <tr style=\"text-align: right;\">\n",
       "      <th></th>\n",
       "      <th>frame_number</th>\n",
       "      <th>brisque_score</th>\n",
       "    </tr>\n",
       "  </thead>\n",
       "  <tbody>\n",
       "    <tr>\n",
       "      <th>0</th>\n",
       "      <td>0</td>\n",
       "      <td>76.697257</td>\n",
       "    </tr>\n",
       "    <tr>\n",
       "      <th>1</th>\n",
       "      <td>1</td>\n",
       "      <td>74.586518</td>\n",
       "    </tr>\n",
       "    <tr>\n",
       "      <th>2</th>\n",
       "      <td>2</td>\n",
       "      <td>73.912741</td>\n",
       "    </tr>\n",
       "    <tr>\n",
       "      <th>3</th>\n",
       "      <td>3</td>\n",
       "      <td>71.756021</td>\n",
       "    </tr>\n",
       "    <tr>\n",
       "      <th>4</th>\n",
       "      <td>4</td>\n",
       "      <td>68.240447</td>\n",
       "    </tr>\n",
       "    <tr>\n",
       "      <th>...</th>\n",
       "      <td>...</td>\n",
       "      <td>...</td>\n",
       "    </tr>\n",
       "    <tr>\n",
       "      <th>1796</th>\n",
       "      <td>1796</td>\n",
       "      <td>56.255978</td>\n",
       "    </tr>\n",
       "    <tr>\n",
       "      <th>1797</th>\n",
       "      <td>1797</td>\n",
       "      <td>56.066327</td>\n",
       "    </tr>\n",
       "    <tr>\n",
       "      <th>1798</th>\n",
       "      <td>1798</td>\n",
       "      <td>56.221038</td>\n",
       "    </tr>\n",
       "    <tr>\n",
       "      <th>1799</th>\n",
       "      <td>1799</td>\n",
       "      <td>56.329821</td>\n",
       "    </tr>\n",
       "    <tr>\n",
       "      <th>1800</th>\n",
       "      <td>1800</td>\n",
       "      <td>62.341800</td>\n",
       "    </tr>\n",
       "  </tbody>\n",
       "</table>\n",
       "<p>1801 rows × 2 columns</p>\n",
       "</div>"
      ],
      "text/plain": [
       "      frame_number  brisque_score\n",
       "0                0      76.697257\n",
       "1                1      74.586518\n",
       "2                2      73.912741\n",
       "3                3      71.756021\n",
       "4                4      68.240447\n",
       "...            ...            ...\n",
       "1796          1796      56.255978\n",
       "1797          1797      56.066327\n",
       "1798          1798      56.221038\n",
       "1799          1799      56.329821\n",
       "1800          1800      62.341800\n",
       "\n",
       "[1801 rows x 2 columns]"
      ]
     },
     "execution_count": 16,
     "metadata": {},
     "output_type": "execute_result"
    }
   ],
   "source": [
    "bri = pd.read_csv(\"/Users/kyungyunlee/Desktop/ IRP reference/Data/IMAGE_ASSESSMENT_DATA/brisque_scores.csv\")\n",
    "bri"
   ]
  },
  {
   "cell_type": "code",
   "execution_count": 17,
   "metadata": {},
   "outputs": [
    {
     "data": {
      "text/plain": [
       "<matplotlib.legend.Legend at 0x7fa6038869d0>"
      ]
     },
     "execution_count": 17,
     "metadata": {},
     "output_type": "execute_result"
    },
    {
     "data": {
      "image/png": "[encoded data removed]",
      "text/plain": [
       "<Figure size 432x288 with 1 Axes>"
      ]
     },
     "metadata": {
      "needs_background": "light"
     },
     "output_type": "display_data"
    }
   ],
   "source": [
    "plt.plot(bri[\"brisque_score\"])\n",
    "plt.hlines(y=bri[\"brisque_score\"].mean(), xmin=0, xmax=1800, colors=\"red\", label=\"Average of score : {}\".format(bri[\"brisque_score\"].mean()))\n",
    "plt.legend()\n",
    "# the score near by zero is good picture\n",
    "# because of motion blur, there is some wave on the graph as well"
   ]
  },
  {
   "cell_type": "code",
   "execution_count": 30,
   "metadata": {},
   "outputs": [
    {
     "name": "stdout",
     "output_type": "stream",
     "text": [
      "#----------Brisque Score-----------#\n",
      "iphone : 21.318302793633706, good : 76.82776974298335, blurred : 62.31098857881895\n",
      "#----------Image Blur-----------#\n",
      "iphone: 2113.2614346566\n",
      "good: 70.44989154036087\n",
      "blurred: 2.530287685164894\n"
     ]
    }
   ],
   "source": [
    "# image blur check with samples\n",
    "\n",
    "### resolutions--------------------\n",
    "# rasp image =  1920 * 1020\n",
    "# iphone image = 3024 * 4032\n",
    "\n",
    "from brisque import BRISQUE\n",
    "import cv2 \n",
    "print(\"#----------Brisque Score-----------#\")\n",
    "obj1_iphone = BRISQUE(\"/Users/kyungyunlee/Desktop/ IRP reference/brisque/IMG_0638.jpg\")\n",
    "obj2_good = BRISQUE(\"/Users/kyungyunlee/Desktop/ IRP reference/brisque/0piece_middle0.jpg\")\n",
    "obj3_bad = BRISQUE(\"/Users/kyungyunlee/Desktop/ IRP reference/brisque/0piece_middle1362.jpg\")\n",
    "print(\"iphone : {}, good : {}, blurred : {}\".format(obj1_iphone.score(), obj2_good.score(), obj3_bad.score()))\n",
    "\n",
    "print(\"#----------Image Blur-----------#\")\n",
    "image_iphone = cv2.imread(\"/Users/kyungyunlee/Desktop/ IRP reference/brisque/IMG_0638.jpg\")\n",
    "image_iphone_gray = cv2.cvtColor(image_iphone, cv2.COLOR_BGR2GRAY)\n",
    "print(f\"iphone: {cv2.Laplacian(image_iphone_gray, cv2.CV_64F).var()}\")\n",
    "\n",
    "image_good = cv2.imread(\"/Users/kyungyunlee/Desktop/ IRP reference/brisque/0piece_middle0.jpg\")\n",
    "image_good_gray = cv2.cvtColor(image_good, cv2.COLOR_BGR2GRAY)\n",
    "image_good_gray = image_good_gray[500:650, 750:1920]\n",
    "print(f\"good: {cv2.Laplacian(image_good_gray, cv2.CV_64F).var()}\")\n",
    "\n",
    "image_blur = cv2.imread(\"/Users/kyungyunlee/Desktop/ IRP reference/brisque/0piece_middle1362.jpg\")\n",
    "image_blur_gray = cv2.cvtColor(image_blur, cv2.COLOR_BGR2GRAY)\n",
    "image_blur_gray = image_blur_gray[500:650, 750:1920]\n",
    "print(f\"blurred: {cv2.Laplacian(image_blur_gray, cv2.CV_64F).var()}\")"
   ]
  },
  {
   "cell_type": "markdown",
   "metadata": {},
   "source": [
    "1. cropped the image which is focusing the beam\n",
    "2. check the brisque score and blur score\n",
    "3. we can check the blur"
   ]
  },
  {
   "cell_type": "markdown",
   "metadata": {},
   "source": [
    "# Conclusion\n",
    "1. Video and accel has the same aspect for bolt looseness(linear positive)\n",
    "2. bolt looseness and natural frequency has high correlation(almost 0.9 near by 1)\n",
    "3. If we Rasp camera is developed more in the future, can be useful for vision based\n",
    "4. If can use sensitive computer vision way with deep learning, It will be good"
   ]
  },
  {
   "cell_type": "markdown",
   "metadata": {},
   "source": []
  }
 ],
 "metadata": {
  "kernelspec": {
   "display_name": "Python 3.9.12 ('base')",
   "language": "python",
   "name": "python3"
  },
  "language_info": {
   "codemirror_mode": {
    "name": "ipython",
    "version": 3
   },
   "file_extension": ".py",
   "mimetype": "text/x-python",
   "name": "python",
   "nbconvert_exporter": "python",
   "pygments_lexer": "ipython3",
   "version": "3.9.12"
  },
  "orig_nbformat": 4,
  "vscode": {
   "interpreter": {
    "hash": "40d3a090f54c6569ab1632332b64b2c03c39dcf918b08424e98f38b5ae0af88f"
   }
  }
 },
 "nbformat": 4,
 "nbformat_minor": 2
}
