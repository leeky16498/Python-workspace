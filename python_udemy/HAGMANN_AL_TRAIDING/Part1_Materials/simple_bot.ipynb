{
 "cells": [
  {
   "cell_type": "code",
   "execution_count": 10,
   "metadata": {},
   "outputs": [],
   "source": [
    "from binance.client import Client\n",
    "import websocket\n",
    "import pandas as pd\n",
    "import numpy as np\n",
    "\n",
    "client = Client(api_key=\"OkNTS53iVnQwQ4SvVn9rScwpqGbuX37uzAboebgssjVC53ZPBBOIycYE7tWcgKoA\", api_secret=\"lIStreQbr4ob7I6x5A7DpOJHIRmb5shNDIve79H56A7kAfhcDoe1qLapUnHF4wt1\", tld=\"com\", testnet=True)"
   ]
  },
  {
   "cell_type": "code",
   "execution_count": 7,
   "metadata": {},
   "outputs": [
    {
     "data": {
      "text/plain": [
       "{'makerCommission': 0,\n",
       " 'takerCommission': 0,\n",
       " 'buyerCommission': 0,\n",
       " 'sellerCommission': 0,\n",
       " 'canTrade': True,\n",
       " 'canWithdraw': False,\n",
       " 'canDeposit': False,\n",
       " 'updateTime': 1654626351517,\n",
       " 'accountType': 'SPOT',\n",
       " 'balances': [{'asset': 'BNB',\n",
       "   'free': '1000.00000000',\n",
       "   'locked': '0.00000000'},\n",
       "  {'asset': 'BTC', 'free': '1.11525300', 'locked': '0.10000000'},\n",
       "  {'asset': 'BUSD', 'free': '10000.00000000', 'locked': '0.00000000'},\n",
       "  {'asset': 'ETH', 'free': '100.00000000', 'locked': '0.00000000'},\n",
       "  {'asset': 'LTC', 'free': '500.00000000', 'locked': '0.00000000'},\n",
       "  {'asset': 'TRX', 'free': '500000.00000000', 'locked': '0.00000000'},\n",
       "  {'asset': 'USDT', 'free': '3537.02420886', 'locked': '0.00000000'},\n",
       "  {'asset': 'XRP', 'free': '50000.00000000', 'locked': '0.00000000'}],\n",
       " 'permissions': ['SPOT']}"
      ]
     },
     "execution_count": 7,
     "metadata": {},
     "output_type": "execute_result"
    }
   ],
   "source": [
    "client.get_account()"
   ]
  },
  {
   "cell_type": "code",
   "execution_count": 31,
   "metadata": {},
   "outputs": [
    {
     "name": "stdout",
     "output_type": "stream",
     "text": [
      "Time: 2022-06-08 11:02:42.067000 | Price: 24203.53\n",
      "Time: 2022-06-08 11:02:46.561000 | Price: 24203.4\n",
      "Time: 2022-06-08 11:02:46.803000 | Price: 24201.21\n",
      "Time: 2022-06-08 11:02:55.743000 | Price: 24200.01\n",
      "\n",
      "--------------------------------------------------\n",
      "Buy 0.10000000 BTC for 3036.09248947 USDT\n",
      "--------------------------------------------------\n",
      "\n"
     ]
    },
    {
     "data": {
      "text/plain": [
       "False"
      ]
     },
     "execution_count": 31,
     "metadata": {},
     "output_type": "execute_result"
    }
   ],
   "source": [
    "import websocket, json\n",
    "import pandas as pd\n",
    "from math import *\n",
    "\n",
    "cc = \"btcgbp\"\n",
    "interval = \"1m\"\n",
    "\n",
    "socket = socket = f\"wss://stream.binance.com:9443/ws/{cc}@miniTicker\"\n",
    "\n",
    "def on_message(ws, msg):\n",
    "    json_msg = json.loads(msg)\n",
    "    time = json_msg[\"E\"]\n",
    "    price = json_msg[\"c\"]\n",
    "    \n",
    "    new_time = pd.to_datetime(time, unit=\"ms\")\n",
    "    new_price = float(price)\n",
    "    \n",
    "    print(\"Time: {} | Price: {}\".format(new_time, new_price))\n",
    "    \n",
    "    if int(new_price) % 10 == 0:\n",
    "        order = client.create_order(symbol = \"BTCUSDT\", side = \"BUY\", type = \"MARKET\", quantity = 0.1)\n",
    "        print(\"\\n\" + 50 * \"-\")\n",
    "        print(\"Buy {} BTC for {} USDT\".format(order[\"executedQty\"], order[\"cummulativeQuoteQty\"]))\n",
    "        print(50 * \"-\" + \"\\n\")\n",
    "        \n",
    "        ws.keep_running = False\n",
    "\n",
    "\n",
    "def on_error(ws, error):\n",
    "    print(error)\n",
    "    \n",
    "def on_close(ws):\n",
    "    print(\"closed\")\n",
    "\n",
    "ws = websocket.WebSocketApp(socket,\n",
    "                            on_message=on_message,\n",
    "                            on_error=on_error,\n",
    "                            on_close=on_close\n",
    ")\n",
    "\n",
    "ws.run_forever()"
   ]
  },
  {
   "cell_type": "code",
   "execution_count": null,
   "metadata": {},
   "outputs": [],
   "source": []
  }
 ],
 "metadata": {
  "interpreter": {
   "hash": "7e1998ff7f8aa20ada591c520b972326324e5ea05489af9e422744c7c09f6dad"
  },
  "kernelspec": {
   "display_name": "Python 3.10.4 64-bit",
   "language": "python",
   "name": "python3"
  },
  "language_info": {
   "codemirror_mode": {
    "name": "ipython",
    "version": 3
   },
   "file_extension": ".py",
   "mimetype": "text/x-python",
   "name": "python",
   "nbconvert_exporter": "python",
   "pygments_lexer": "ipython3",
   "version": "3.10.5"
  },
  "orig_nbformat": 4
 },
 "nbformat": 4,
 "nbformat_minor": 2
}
