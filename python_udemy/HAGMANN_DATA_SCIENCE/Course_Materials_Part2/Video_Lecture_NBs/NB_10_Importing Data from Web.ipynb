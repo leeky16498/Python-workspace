{
 "cells": [
  {
   "cell_type": "markdown",
   "metadata": {},
   "source": [
    "# Part 2: Full Data Workflow A-Z"
   ]
  },
  {
   "cell_type": "markdown",
   "metadata": {},
   "source": [
    "## Importing Data from the Web  with pd.read_html()"
   ]
  },
  {
   "cell_type": "code",
   "execution_count": 1,
   "metadata": {},
   "outputs": [],
   "source": [
    "import pandas as pd"
   ]
  },
  {
   "cell_type": "code",
   "execution_count": 2,
   "metadata": {},
   "outputs": [],
   "source": [
    "url = \"https://en.wikipedia.org/wiki/1976_Summer_Olympics_medal_table\""
   ]
  },
  {
   "cell_type": "code",
   "execution_count": 14,
   "metadata": {},
   "outputs": [
    {
     "data": {
      "text/plain": [
       "[           1976 Summer Olympics medals        1976 Summer Olympics medals.1\n",
       " 0                             Location                     Montreal, Canada\n",
       " 1                           Highlights                           Highlights\n",
       " 2                     Most gold medals                    Soviet Union (49)\n",
       " 3                    Most total medals                   Soviet Union (125)\n",
       " 4  ← 1972 Olympics medal tables 1980 →  ← 1972 Olympics medal tables 1980 →,\n",
       "                                                    0\n",
       " 0                                Part of a series on\n",
       " 1                               1976 Summer Olympics\n",
       " 2  Bid process (bid details) Boycott Development ...\n",
       " 3  .mw-parser-output .navbar{display:inline;font-...,\n",
       "                 Rank                  NOC  Gold  Silver  Bronze  Total\n",
       " 0                  1         Soviet Union    49      41      35    125\n",
       " 1                  2         East Germany    40      25      25     90\n",
       " 2                  3        United States    34      35      25     94\n",
       " 3                  4         West Germany    10      12      17     39\n",
       " 4                  5                Japan     9       6      10     25\n",
       " 5                  6               Poland     7       6      13     26\n",
       " 6                  7             Bulgaria     6       9       7     22\n",
       " 7                  8                 Cuba     6       4       3     13\n",
       " 8                  9              Romania     4       9      14     27\n",
       " 9                 10              Hungary     4       5      13     22\n",
       " 10                11              Finland     4       2       0      6\n",
       " 11                12               Sweden     4       1       0      5\n",
       " 12                13        Great Britain     3       5       5     13\n",
       " 13                14                Italy     2       7       4     13\n",
       " 14                15               France     2       3       4      9\n",
       " 15                16           Yugoslavia     2       3       3      8\n",
       " 16                17       Czechoslovakia     2       2       4      8\n",
       " 17                18          New Zealand     2       1       1      4\n",
       " 18                19          South Korea     1       1       4      6\n",
       " 19                20          Switzerland     1       1       2      4\n",
       " 20                21              Jamaica     1       1       0      2\n",
       " 21                21          North Korea     1       1       0      2\n",
       " 22                21               Norway     1       1       0      2\n",
       " 23                24              Denmark     1       0       2      3\n",
       " 24                25               Mexico     1       0       1      2\n",
       " 25                26  Trinidad and Tobago     1       0       0      1\n",
       " 26                27              Canada*     0       5       6     11\n",
       " 27                28              Belgium     0       3       3      6\n",
       " 28                29          Netherlands     0       2       3      5\n",
       " 29                30             Portugal     0       2       0      2\n",
       " 30                30                Spain     0       2       0      2\n",
       " 31                32            Australia     0       1       4      5\n",
       " 32                33                 Iran     0       1       1      2\n",
       " 33                34             Mongolia     0       1       0      1\n",
       " 34                34            Venezuela     0       1       0      1\n",
       " 35                36               Brazil     0       0       2      2\n",
       " 36                37              Austria     0       0       1      1\n",
       " 37                37              Bermuda     0       0       1      1\n",
       " 38                37             Pakistan     0       0       1      1\n",
       " 39                37          Puerto Rico     0       0       1      1\n",
       " 40                37             Thailand     0       0       1      1\n",
       " 41  Totals (41 NOCs)     Totals (41 NOCs)   198     199     216    613,\n",
       "                Olympics             Athlete   Country  Medal  \\\n",
       " 0  1976 Summer Olympics   Valentin Khristov  Bulgaria    NaN   \n",
       " 1  1976 Summer Olympics      Blagoy Blagoev  Bulgaria    NaN   \n",
       " 2  1976 Summer Olympics  Zbigniew Kaczmarek    Poland    NaN   \n",
       " \n",
       "                           Event   Ref  \n",
       " 0   Weightlifting, Men's 110 kg  [11]  \n",
       " 1  Weightlifting, Men's 82.5 kg  [12]  \n",
       " 2  Weightlifting, Men's 67.5 kg  [13]  ,\n",
       "                       vte Olympic Games medal tables  \\\n",
       " 0  Olympic medal All-time Olympic Games medal tab...   \n",
       " 1                               Summer Olympic Games   \n",
       " 2                               Winter Olympic Games   \n",
       " 3  Lists of Olympic medalists List of stripped Ol...   \n",
       " \n",
       "                     vte Olympic Games medal tables.1  \n",
       " 0  Olympic medal All-time Olympic Games medal tab...  \n",
       " 1  1896 1900 1904 1908 1912 1920 1924 1928 1932 1...  \n",
       " 2  1924 1928 1932 1936 1948 1952 1956 1960 1964 1...  \n",
       " 3  Lists of Olympic medalists List of stripped Ol...  ,\n",
       "      vte Summer Olympics medal table leaders by year  \\\n",
       " 0  .mw-parser-output .div-col{margin-top:0.3em;co...   \n",
       " \n",
       "    vte Summer Olympics medal table leaders by year.1  \n",
       " 0  .mw-parser-output .div-col{margin-top:0.3em;co...  ]"
      ]
     },
     "execution_count": 14,
     "metadata": {},
     "output_type": "execute_result"
    }
   ],
   "source": [
    "pd.read_html(url)\n",
    "# 얘는 페이지의 모든 표 데이터를 확인 후 리스트로 넘겨주는 역할을 한다."
   ]
  },
  {
   "cell_type": "code",
   "execution_count": 3,
   "metadata": {
    "scrolled": true
   },
   "outputs": [
    {
     "data": {
      "text/html": [
       "<div>\n",
       "<style scoped>\n",
       "    .dataframe tbody tr th:only-of-type {\n",
       "        vertical-align: middle;\n",
       "    }\n",
       "\n",
       "    .dataframe tbody tr th {\n",
       "        vertical-align: top;\n",
       "    }\n",
       "\n",
       "    .dataframe thead th {\n",
       "        text-align: right;\n",
       "    }\n",
       "</style>\n",
       "<table border=\"1\" class=\"dataframe\">\n",
       "  <thead>\n",
       "    <tr style=\"text-align: right;\">\n",
       "      <th></th>\n",
       "      <th>0</th>\n",
       "    </tr>\n",
       "  </thead>\n",
       "  <tbody>\n",
       "    <tr>\n",
       "      <th>0</th>\n",
       "      <td>Part of a series on</td>\n",
       "    </tr>\n",
       "    <tr>\n",
       "      <th>1</th>\n",
       "      <td>1976 Summer Olympics</td>\n",
       "    </tr>\n",
       "    <tr>\n",
       "      <th>2</th>\n",
       "      <td>Bid process (bid details) Boycott Development ...</td>\n",
       "    </tr>\n",
       "    <tr>\n",
       "      <th>3</th>\n",
       "      <td>.mw-parser-output .navbar{display:inline;font-...</td>\n",
       "    </tr>\n",
       "  </tbody>\n",
       "</table>\n",
       "</div>"
      ],
      "text/plain": [
       "                                                   0\n",
       "0                                Part of a series on\n",
       "1                               1976 Summer Olympics\n",
       "2  Bid process (bid details) Boycott Development ...\n",
       "3  .mw-parser-output .navbar{display:inline;font-..."
      ]
     },
     "execution_count": 3,
     "metadata": {},
     "output_type": "execute_result"
    }
   ],
   "source": [
    "pd.read_html(url)[1]"
   ]
  },
  {
   "cell_type": "code",
   "execution_count": 4,
   "metadata": {
    "scrolled": true
   },
   "outputs": [],
   "source": [
    "wik_1976 = pd.read_html(url)[0]"
   ]
  },
  {
   "cell_type": "code",
   "execution_count": 5,
   "metadata": {},
   "outputs": [
    {
     "data": {
      "text/html": [
       "<div>\n",
       "<style scoped>\n",
       "    .dataframe tbody tr th:only-of-type {\n",
       "        vertical-align: middle;\n",
       "    }\n",
       "\n",
       "    .dataframe tbody tr th {\n",
       "        vertical-align: top;\n",
       "    }\n",
       "\n",
       "    .dataframe thead th {\n",
       "        text-align: right;\n",
       "    }\n",
       "</style>\n",
       "<table border=\"1\" class=\"dataframe\">\n",
       "  <thead>\n",
       "    <tr style=\"text-align: right;\">\n",
       "      <th></th>\n",
       "      <th>1976 Summer Olympics medals</th>\n",
       "      <th>1976 Summer Olympics medals.1</th>\n",
       "    </tr>\n",
       "  </thead>\n",
       "  <tbody>\n",
       "    <tr>\n",
       "      <th>0</th>\n",
       "      <td>Location</td>\n",
       "      <td>Montreal, Canada</td>\n",
       "    </tr>\n",
       "    <tr>\n",
       "      <th>1</th>\n",
       "      <td>Highlights</td>\n",
       "      <td>Highlights</td>\n",
       "    </tr>\n",
       "    <tr>\n",
       "      <th>2</th>\n",
       "      <td>Most gold medals</td>\n",
       "      <td>Soviet Union (49)</td>\n",
       "    </tr>\n",
       "    <tr>\n",
       "      <th>3</th>\n",
       "      <td>Most total medals</td>\n",
       "      <td>Soviet Union (125)</td>\n",
       "    </tr>\n",
       "    <tr>\n",
       "      <th>4</th>\n",
       "      <td>← 1972 Olympics medal tables 1980 →</td>\n",
       "      <td>← 1972 Olympics medal tables 1980 →</td>\n",
       "    </tr>\n",
       "  </tbody>\n",
       "</table>\n",
       "</div>"
      ],
      "text/plain": [
       "           1976 Summer Olympics medals        1976 Summer Olympics medals.1\n",
       "0                             Location                     Montreal, Canada\n",
       "1                           Highlights                           Highlights\n",
       "2                     Most gold medals                    Soviet Union (49)\n",
       "3                    Most total medals                   Soviet Union (125)\n",
       "4  ← 1972 Olympics medal tables 1980 →  ← 1972 Olympics medal tables 1980 →"
      ]
     },
     "execution_count": 5,
     "metadata": {},
     "output_type": "execute_result"
    }
   ],
   "source": [
    "wik_1976.head()"
   ]
  },
  {
   "cell_type": "code",
   "execution_count": 6,
   "metadata": {},
   "outputs": [
    {
     "data": {
      "text/html": [
       "<div>\n",
       "<style scoped>\n",
       "    .dataframe tbody tr th:only-of-type {\n",
       "        vertical-align: middle;\n",
       "    }\n",
       "\n",
       "    .dataframe tbody tr th {\n",
       "        vertical-align: top;\n",
       "    }\n",
       "\n",
       "    .dataframe thead th {\n",
       "        text-align: right;\n",
       "    }\n",
       "</style>\n",
       "<table border=\"1\" class=\"dataframe\">\n",
       "  <thead>\n",
       "    <tr style=\"text-align: right;\">\n",
       "      <th></th>\n",
       "      <th>1976 Summer Olympics medals</th>\n",
       "      <th>1976 Summer Olympics medals.1</th>\n",
       "    </tr>\n",
       "  </thead>\n",
       "  <tbody>\n",
       "    <tr>\n",
       "      <th>0</th>\n",
       "      <td>Location</td>\n",
       "      <td>Montreal, Canada</td>\n",
       "    </tr>\n",
       "    <tr>\n",
       "      <th>1</th>\n",
       "      <td>Highlights</td>\n",
       "      <td>Highlights</td>\n",
       "    </tr>\n",
       "    <tr>\n",
       "      <th>2</th>\n",
       "      <td>Most gold medals</td>\n",
       "      <td>Soviet Union (49)</td>\n",
       "    </tr>\n",
       "    <tr>\n",
       "      <th>3</th>\n",
       "      <td>Most total medals</td>\n",
       "      <td>Soviet Union (125)</td>\n",
       "    </tr>\n",
       "    <tr>\n",
       "      <th>4</th>\n",
       "      <td>← 1972 Olympics medal tables 1980 →</td>\n",
       "      <td>← 1972 Olympics medal tables 1980 →</td>\n",
       "    </tr>\n",
       "  </tbody>\n",
       "</table>\n",
       "</div>"
      ],
      "text/plain": [
       "           1976 Summer Olympics medals        1976 Summer Olympics medals.1\n",
       "0                             Location                     Montreal, Canada\n",
       "1                           Highlights                           Highlights\n",
       "2                     Most gold medals                    Soviet Union (49)\n",
       "3                    Most total medals                   Soviet Union (125)\n",
       "4  ← 1972 Olympics medal tables 1980 →  ← 1972 Olympics medal tables 1980 →"
      ]
     },
     "execution_count": 6,
     "metadata": {},
     "output_type": "execute_result"
    }
   ],
   "source": [
    "wik_1976.tail()"
   ]
  },
  {
   "cell_type": "code",
   "execution_count": 7,
   "metadata": {
    "scrolled": true
   },
   "outputs": [
    {
     "name": "stdout",
     "output_type": "stream",
     "text": [
      "<class 'pandas.core.frame.DataFrame'>\n",
      "RangeIndex: 5 entries, 0 to 4\n",
      "Data columns (total 2 columns):\n",
      " #   Column                         Non-Null Count  Dtype \n",
      "---  ------                         --------------  ----- \n",
      " 0   1976 Summer Olympics medals    5 non-null      object\n",
      " 1   1976 Summer Olympics medals.1  5 non-null      object\n",
      "dtypes: object(2)\n",
      "memory usage: 208.0+ bytes\n"
     ]
    }
   ],
   "source": [
    "wik_1976.info()"
   ]
  },
  {
   "cell_type": "code",
   "execution_count": 8,
   "metadata": {},
   "outputs": [],
   "source": [
    "url2 =\"https://en.wikipedia.org/wiki/1996_Summer_Olympics_medal_table\""
   ]
  },
  {
   "cell_type": "code",
   "execution_count": 9,
   "metadata": {
    "scrolled": true
   },
   "outputs": [
    {
     "data": {
      "text/html": [
       "<div>\n",
       "<style scoped>\n",
       "    .dataframe tbody tr th:only-of-type {\n",
       "        vertical-align: middle;\n",
       "    }\n",
       "\n",
       "    .dataframe tbody tr th {\n",
       "        vertical-align: top;\n",
       "    }\n",
       "\n",
       "    .dataframe thead th {\n",
       "        text-align: right;\n",
       "    }\n",
       "</style>\n",
       "<table border=\"1\" class=\"dataframe\">\n",
       "  <thead>\n",
       "    <tr style=\"text-align: right;\">\n",
       "      <th></th>\n",
       "      <th>0</th>\n",
       "    </tr>\n",
       "  </thead>\n",
       "  <tbody>\n",
       "    <tr>\n",
       "      <th>0</th>\n",
       "      <td>Part of a series on</td>\n",
       "    </tr>\n",
       "    <tr>\n",
       "      <th>1</th>\n",
       "      <td>1996 Summer Olympics</td>\n",
       "    </tr>\n",
       "    <tr>\n",
       "      <th>2</th>\n",
       "      <td>Bid process (bid details) Venues Marketing (ma...</td>\n",
       "    </tr>\n",
       "    <tr>\n",
       "      <th>3</th>\n",
       "      <td>.mw-parser-output .navbar{display:inline;font-...</td>\n",
       "    </tr>\n",
       "  </tbody>\n",
       "</table>\n",
       "</div>"
      ],
      "text/plain": [
       "                                                   0\n",
       "0                                Part of a series on\n",
       "1                               1996 Summer Olympics\n",
       "2  Bid process (bid details) Venues Marketing (ma...\n",
       "3  .mw-parser-output .navbar{display:inline;font-..."
      ]
     },
     "execution_count": 9,
     "metadata": {},
     "output_type": "execute_result"
    }
   ],
   "source": [
    "pd.read_html(url2)[1]"
   ]
  },
  {
   "cell_type": "code",
   "execution_count": 10,
   "metadata": {},
   "outputs": [],
   "source": [
    "wik_1996 = pd.read_html(url2)[1]"
   ]
  },
  {
   "cell_type": "code",
   "execution_count": 11,
   "metadata": {},
   "outputs": [
    {
     "data": {
      "text/html": [
       "<div>\n",
       "<style scoped>\n",
       "    .dataframe tbody tr th:only-of-type {\n",
       "        vertical-align: middle;\n",
       "    }\n",
       "\n",
       "    .dataframe tbody tr th {\n",
       "        vertical-align: top;\n",
       "    }\n",
       "\n",
       "    .dataframe thead th {\n",
       "        text-align: right;\n",
       "    }\n",
       "</style>\n",
       "<table border=\"1\" class=\"dataframe\">\n",
       "  <thead>\n",
       "    <tr style=\"text-align: right;\">\n",
       "      <th></th>\n",
       "      <th>0</th>\n",
       "    </tr>\n",
       "  </thead>\n",
       "  <tbody>\n",
       "    <tr>\n",
       "      <th>0</th>\n",
       "      <td>Part of a series on</td>\n",
       "    </tr>\n",
       "    <tr>\n",
       "      <th>1</th>\n",
       "      <td>1996 Summer Olympics</td>\n",
       "    </tr>\n",
       "    <tr>\n",
       "      <th>2</th>\n",
       "      <td>Bid process (bid details) Venues Marketing (ma...</td>\n",
       "    </tr>\n",
       "    <tr>\n",
       "      <th>3</th>\n",
       "      <td>.mw-parser-output .navbar{display:inline;font-...</td>\n",
       "    </tr>\n",
       "  </tbody>\n",
       "</table>\n",
       "</div>"
      ],
      "text/plain": [
       "                                                   0\n",
       "0                                Part of a series on\n",
       "1                               1996 Summer Olympics\n",
       "2  Bid process (bid details) Venues Marketing (ma...\n",
       "3  .mw-parser-output .navbar{display:inline;font-..."
      ]
     },
     "execution_count": 11,
     "metadata": {},
     "output_type": "execute_result"
    }
   ],
   "source": [
    "wik_1996.head()"
   ]
  },
  {
   "cell_type": "code",
   "execution_count": 12,
   "metadata": {},
   "outputs": [
    {
     "name": "stdout",
     "output_type": "stream",
     "text": [
      "<class 'pandas.core.frame.DataFrame'>\n",
      "RangeIndex: 4 entries, 0 to 3\n",
      "Data columns (total 1 columns):\n",
      " #   Column  Non-Null Count  Dtype \n",
      "---  ------  --------------  ----- \n",
      " 0   0       4 non-null      object\n",
      "dtypes: object(1)\n",
      "memory usage: 160.0+ bytes\n"
     ]
    }
   ],
   "source": [
    "wik_1996.info()"
   ]
  },
  {
   "cell_type": "code",
   "execution_count": 13,
   "metadata": {},
   "outputs": [],
   "source": [
    "wik_1976.to_csv(\"wik_1976.csv\", index= False)\n",
    "wik_1996.to_csv(\"wik_1996.csv\", index= False)"
   ]
  }
 ],
 "metadata": {
  "kernelspec": {
   "display_name": "Python 3.9.12 ('base')",
   "language": "python",
   "name": "python3"
  },
  "language_info": {
   "codemirror_mode": {
    "name": "ipython",
    "version": 3
   },
   "file_extension": ".py",
   "mimetype": "text/x-python",
   "name": "python",
   "nbconvert_exporter": "python",
   "pygments_lexer": "ipython3",
   "version": "3.9.12"
  },
  "vscode": {
   "interpreter": {
    "hash": "40d3a090f54c6569ab1632332b64b2c03c39dcf918b08424e98f38b5ae0af88f"
   }
  }
 },
 "nbformat": 4,
 "nbformat_minor": 2
}
