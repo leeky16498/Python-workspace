{
 "cells": [
  {
   "cell_type": "markdown",
   "metadata": {},
   "source": [
    "# Appendix 3: Python Libraries Crash Course"
   ]
  },
  {
   "cell_type": "markdown",
   "metadata": {},
   "source": [
    "## Part 1: The Numpy Package"
   ]
  },
  {
   "cell_type": "markdown",
   "metadata": {},
   "source": [
    "### Modules, Packages and Libraries"
   ]
  },
  {
   "cell_type": "markdown",
   "metadata": {},
   "source": [
    "__The math module__"
   ]
  },
  {
   "cell_type": "code",
   "execution_count": 1,
   "metadata": {},
   "outputs": [],
   "source": [
    "PV = 100\n",
    "f = 1.03\n",
    "n = 2"
   ]
  },
  {
   "cell_type": "code",
   "execution_count": 2,
   "metadata": {},
   "outputs": [
    {
     "data": {
      "text/plain": [
       "106.08999999999999"
      ]
     },
     "execution_count": 2,
     "metadata": {},
     "output_type": "execute_result"
    }
   ],
   "source": [
    "FV = PV * f**n\n",
    "FV"
   ]
  },
  {
   "cell_type": "code",
   "execution_count": 3,
   "metadata": {},
   "outputs": [],
   "source": [
    "import math"
   ]
  },
  {
   "cell_type": "code",
   "execution_count": 4,
   "metadata": {},
   "outputs": [
    {
     "data": {
      "text/plain": [
       "106.08999999999999"
      ]
     },
     "execution_count": 4,
     "metadata": {},
     "output_type": "execute_result"
    }
   ],
   "source": [
    "FV = PV * math.pow(f, n)\n",
    "FV"
   ]
  },
  {
   "cell_type": "code",
   "execution_count": 5,
   "metadata": {},
   "outputs": [
    {
     "data": {
      "text/plain": [
       "0.030000000000000027"
      ]
     },
     "execution_count": 5,
     "metadata": {},
     "output_type": "execute_result"
    }
   ],
   "source": [
    "math.sqrt(FV/PV) - 1"
   ]
  },
  {
   "cell_type": "code",
   "execution_count": 6,
   "metadata": {},
   "outputs": [
    {
     "data": {
      "text/plain": [
       "0.1411200080598672"
      ]
     },
     "execution_count": 6,
     "metadata": {},
     "output_type": "execute_result"
    }
   ],
   "source": [
    "math.sin(3)"
   ]
  },
  {
   "cell_type": "code",
   "execution_count": 7,
   "metadata": {},
   "outputs": [
    {
     "data": {
      "text/plain": [
       "2.718281828459045"
      ]
     },
     "execution_count": 7,
     "metadata": {},
     "output_type": "execute_result"
    }
   ],
   "source": [
    "math.e"
   ]
  },
  {
   "cell_type": "code",
   "execution_count": 8,
   "metadata": {},
   "outputs": [
    {
     "data": {
      "text/plain": [
       "3.141592653589793"
      ]
     },
     "execution_count": 8,
     "metadata": {},
     "output_type": "execute_result"
    }
   ],
   "source": [
    "math.pi"
   ]
  },
  {
   "cell_type": "code",
   "execution_count": 9,
   "metadata": {},
   "outputs": [],
   "source": [
    "import math as ma "
   ]
  },
  {
   "cell_type": "code",
   "execution_count": 10,
   "metadata": {},
   "outputs": [
    {
     "data": {
      "text/plain": [
       "3.141592653589793"
      ]
     },
     "execution_count": 10,
     "metadata": {},
     "output_type": "execute_result"
    }
   ],
   "source": [
    "ma.pi"
   ]
  },
  {
   "cell_type": "code",
   "execution_count": 11,
   "metadata": {},
   "outputs": [],
   "source": [
    "from math import sqrt"
   ]
  },
  {
   "cell_type": "code",
   "execution_count": 12,
   "metadata": {},
   "outputs": [
    {
     "data": {
      "text/plain": [
       "0.030000000000000027"
      ]
     },
     "execution_count": 12,
     "metadata": {},
     "output_type": "execute_result"
    }
   ],
   "source": [
    "sqrt(FV/PV) - 1"
   ]
  },
  {
   "cell_type": "code",
   "execution_count": 13,
   "metadata": {},
   "outputs": [],
   "source": [
    "from math import sqrt as sq"
   ]
  },
  {
   "cell_type": "code",
   "execution_count": 14,
   "metadata": {},
   "outputs": [
    {
     "data": {
      "text/plain": [
       "0.030000000000000027"
      ]
     },
     "execution_count": 14,
     "metadata": {},
     "output_type": "execute_result"
    }
   ],
   "source": [
    "sq(FV/PV) - 1"
   ]
  },
  {
   "cell_type": "markdown",
   "metadata": {},
   "source": [
    "__The Numpy package__"
   ]
  },
  {
   "cell_type": "code",
   "execution_count": 15,
   "metadata": {},
   "outputs": [],
   "source": [
    "import numpy as np"
   ]
  },
  {
   "cell_type": "code",
   "execution_count": 16,
   "metadata": {},
   "outputs": [
    {
     "data": {
      "text/plain": [
       "0.030000000000000027"
      ]
     },
     "execution_count": 16,
     "metadata": {},
     "output_type": "execute_result"
    }
   ],
   "source": [
    "np.sqrt(FV/PV) -1 "
   ]
  },
  {
   "cell_type": "code",
   "execution_count": 17,
   "metadata": {},
   "outputs": [
    {
     "data": {
      "text/plain": [
       "106.08999999999999"
      ]
     },
     "execution_count": 17,
     "metadata": {},
     "output_type": "execute_result"
    }
   ],
   "source": [
    "PV * np.power(f, n)"
   ]
  },
  {
   "cell_type": "code",
   "execution_count": null,
   "metadata": {},
   "outputs": [],
   "source": []
  },
  {
   "cell_type": "markdown",
   "metadata": {},
   "source": [
    "### Numpy Arrays "
   ]
  },
  {
   "cell_type": "code",
   "execution_count": 18,
   "metadata": {},
   "outputs": [],
   "source": [
    "import numpy as np"
   ]
  },
  {
   "cell_type": "code",
   "execution_count": 19,
   "metadata": {},
   "outputs": [
    {
     "data": {
      "text/plain": [
       "[50, 100, 120, 150, 200, 300]"
      ]
     },
     "execution_count": 19,
     "metadata": {},
     "output_type": "execute_result"
    }
   ],
   "source": [
    "cf = [50, 100, 120, 150, 200, 300]\n",
    "cf"
   ]
  },
  {
   "cell_type": "code",
   "execution_count": 20,
   "metadata": {},
   "outputs": [
    {
     "data": {
      "text/plain": [
       "array([ 50, 100, 120, 150, 200, 300])"
      ]
     },
     "execution_count": 20,
     "metadata": {},
     "output_type": "execute_result"
    }
   ],
   "source": [
    "cf_a = np.array(cf)\n",
    "cf_a"
   ]
  },
  {
   "cell_type": "code",
   "execution_count": 21,
   "metadata": {},
   "outputs": [
    {
     "data": {
      "text/plain": [
       "numpy.ndarray"
      ]
     },
     "execution_count": 21,
     "metadata": {},
     "output_type": "execute_result"
    }
   ],
   "source": [
    "type(cf_a)"
   ]
  },
  {
   "cell_type": "code",
   "execution_count": 22,
   "metadata": {},
   "outputs": [],
   "source": [
    "# cf - 20"
   ]
  },
  {
   "cell_type": "code",
   "execution_count": 23,
   "metadata": {},
   "outputs": [],
   "source": [
    "# cf * 1.1"
   ]
  },
  {
   "cell_type": "code",
   "execution_count": 25,
   "metadata": {},
   "outputs": [
    {
     "data": {
      "text/plain": [
       "[50, 100, 120, 150, 200, 300, 50, 100, 120, 150, 200, 300]"
      ]
     },
     "execution_count": 25,
     "metadata": {},
     "output_type": "execute_result"
    }
   ],
   "source": [
    "cf * 2 \n",
    "# 다음과 같이 연산하면 앞뒤로 리스트가 한 번 반복된다. 그리고 일반 배열로는 각 인덱스에 대한 숫자계산이 불가능하다."
   ]
  },
  {
   "cell_type": "code",
   "execution_count": 26,
   "metadata": {},
   "outputs": [
    {
     "data": {
      "text/plain": [
       "[30, 80, 100, 130, 180, 280]"
      ]
     },
     "execution_count": 26,
     "metadata": {},
     "output_type": "execute_result"
    }
   ],
   "source": [
    "cf_new = []\n",
    "for i in cf:\n",
    "    cf_new.append(i - 20)\n",
    "cf_new"
   ]
  },
  {
   "cell_type": "code",
   "execution_count": 27,
   "metadata": {},
   "outputs": [
    {
     "data": {
      "text/plain": [
       "array([ 30,  80, 100, 130, 180, 280])"
      ]
     },
     "execution_count": 27,
     "metadata": {},
     "output_type": "execute_result"
    }
   ],
   "source": [
    "cf_a - 20"
   ]
  },
  {
   "cell_type": "code",
   "execution_count": 28,
   "metadata": {},
   "outputs": [
    {
     "data": {
      "text/plain": [
       "array([ 55., 110., 132., 165., 220., 330.])"
      ]
     },
     "execution_count": 28,
     "metadata": {},
     "output_type": "execute_result"
    }
   ],
   "source": [
    "cf_a * 1.1"
   ]
  },
  {
   "cell_type": "code",
   "execution_count": 29,
   "metadata": {},
   "outputs": [
    {
     "data": {
      "text/plain": [
       "array([100, 200, 240, 300, 400, 600])"
      ]
     },
     "execution_count": 29,
     "metadata": {},
     "output_type": "execute_result"
    }
   ],
   "source": [
    "cf_a * 2"
   ]
  },
  {
   "cell_type": "code",
   "execution_count": 30,
   "metadata": {},
   "outputs": [
    {
     "data": {
      "text/plain": [
       "array([ 50, 100, 120, 150, 200, 300])"
      ]
     },
     "execution_count": 30,
     "metadata": {},
     "output_type": "execute_result"
    }
   ],
   "source": [
    "cf_a"
   ]
  },
  {
   "cell_type": "code",
   "execution_count": 31,
   "metadata": {},
   "outputs": [
    {
     "data": {
      "text/plain": [
       "array([ 10,  20, -10,  30,  10,  -5])"
      ]
     },
     "execution_count": 31,
     "metadata": {},
     "output_type": "execute_result"
    }
   ],
   "source": [
    "add_cf = np.array([10, 20, -10, 30, 10, -5])\n",
    "add_cf"
   ]
  },
  {
   "cell_type": "code",
   "execution_count": 32,
   "metadata": {},
   "outputs": [
    {
     "data": {
      "text/plain": [
       "array([ 50, 100, 120, 150, 200, 300])"
      ]
     },
     "execution_count": 32,
     "metadata": {},
     "output_type": "execute_result"
    }
   ],
   "source": [
    "cf_a"
   ]
  },
  {
   "cell_type": "code",
   "execution_count": 33,
   "metadata": {},
   "outputs": [
    {
     "data": {
      "text/plain": [
       "array([ 60, 120, 110, 180, 210, 295])"
      ]
     },
     "execution_count": 33,
     "metadata": {},
     "output_type": "execute_result"
    }
   ],
   "source": [
    "cf_a + add_cf # 넘파이 배열은 백터연산이 가능하다."
   ]
  },
  {
   "cell_type": "code",
   "execution_count": 34,
   "metadata": {},
   "outputs": [
    {
     "data": {
      "text/plain": [
       "dtype('int64')"
      ]
     },
     "execution_count": 34,
     "metadata": {},
     "output_type": "execute_result"
    }
   ],
   "source": [
    "cf_a.dtype # 넘파이 배열 요소의 데이터 타입을 확인할 수 있다. dtype프로퍼티로 확인 가능하다."
   ]
  },
  {
   "cell_type": "code",
   "execution_count": 35,
   "metadata": {},
   "outputs": [
    {
     "data": {
      "text/plain": [
       "[100, 20.5, 30, 10.7, True, 'Apple']"
      ]
     },
     "execution_count": 35,
     "metadata": {},
     "output_type": "execute_result"
    }
   ],
   "source": [
    "l = [100, 20.5, 30, 10.7, True, \"Apple\"]\n",
    "l"
   ]
  },
  {
   "cell_type": "code",
   "execution_count": 36,
   "metadata": {},
   "outputs": [
    {
     "data": {
      "text/plain": [
       "array(['100', '20.5', '30', '10.7', 'True', 'Apple'], dtype='<U32')"
      ]
     },
     "execution_count": 36,
     "metadata": {},
     "output_type": "execute_result"
    }
   ],
   "source": [
    "a = np.array(l)\n",
    "a"
   ]
  },
  {
   "cell_type": "code",
   "execution_count": 38,
   "metadata": {},
   "outputs": [
    {
     "name": "stdout",
     "output_type": "stream",
     "text": [
      "<class 'numpy.str_'>\n",
      "<class 'numpy.str_'>\n",
      "<class 'numpy.str_'>\n",
      "<class 'numpy.str_'>\n",
      "<class 'numpy.str_'>\n",
      "<class 'numpy.str_'>\n"
     ]
    }
   ],
   "source": [
    "for element in a:\n",
    "    print(type(element)) # 넘파이 배열의 가장 단점은 하나의 자료형만 저장 가능하다는 점이다. 그래서 위처럼 저장하면 모든 것들이 문자열로 전환되어 저장된다."
   ]
  },
  {
   "cell_type": "code",
   "execution_count": null,
   "metadata": {},
   "outputs": [],
   "source": []
  },
  {
   "cell_type": "markdown",
   "metadata": {},
   "source": [
    "### Indexing and Slicing Numpy Arrays"
   ]
  },
  {
   "cell_type": "code",
   "execution_count": 39,
   "metadata": {},
   "outputs": [],
   "source": [
    "import numpy as np"
   ]
  },
  {
   "cell_type": "code",
   "execution_count": 40,
   "metadata": {},
   "outputs": [
    {
     "data": {
      "text/plain": [
       "array([ 50, 100, 120, 150, 200, 300])"
      ]
     },
     "execution_count": 40,
     "metadata": {},
     "output_type": "execute_result"
    }
   ],
   "source": [
    "cf = np.array([50, 100, 120, 150, 200, 300])\n",
    "cf"
   ]
  },
  {
   "cell_type": "code",
   "execution_count": 41,
   "metadata": {},
   "outputs": [
    {
     "data": {
      "text/plain": [
       "50"
      ]
     },
     "execution_count": 41,
     "metadata": {},
     "output_type": "execute_result"
    }
   ],
   "source": [
    "cf[0]"
   ]
  },
  {
   "cell_type": "code",
   "execution_count": 42,
   "metadata": {},
   "outputs": [
    {
     "data": {
      "text/plain": [
       "120"
      ]
     },
     "execution_count": 42,
     "metadata": {},
     "output_type": "execute_result"
    }
   ],
   "source": [
    "cf[2]"
   ]
  },
  {
   "cell_type": "code",
   "execution_count": 52,
   "metadata": {},
   "outputs": [
    {
     "data": {
      "text/plain": [
       "300"
      ]
     },
     "execution_count": 52,
     "metadata": {},
     "output_type": "execute_result"
    }
   ],
   "source": [
    "cf[-1]"
   ]
  },
  {
   "cell_type": "code",
   "execution_count": 53,
   "metadata": {},
   "outputs": [
    {
     "data": {
      "text/plain": [
       "150"
      ]
     },
     "execution_count": 53,
     "metadata": {},
     "output_type": "execute_result"
    }
   ],
   "source": [
    "cf[-3]"
   ]
  },
  {
   "cell_type": "code",
   "execution_count": 54,
   "metadata": {},
   "outputs": [
    {
     "data": {
      "text/plain": [
       "array([120, 150])"
      ]
     },
     "execution_count": 54,
     "metadata": {},
     "output_type": "execute_result"
    }
   ],
   "source": [
    "cf[2:4]"
   ]
  },
  {
   "cell_type": "code",
   "execution_count": 46,
   "metadata": {},
   "outputs": [
    {
     "data": {
      "text/plain": [
       "array([ 50, 100, 120])"
      ]
     },
     "execution_count": 46,
     "metadata": {},
     "output_type": "execute_result"
    }
   ],
   "source": [
    "cf[:3]"
   ]
  },
  {
   "cell_type": "code",
   "execution_count": 47,
   "metadata": {},
   "outputs": [
    {
     "data": {
      "text/plain": [
       "array([120, 150, 200, 300])"
      ]
     },
     "execution_count": 47,
     "metadata": {},
     "output_type": "execute_result"
    }
   ],
   "source": [
    "cf[2:]"
   ]
  },
  {
   "cell_type": "code",
   "execution_count": 55,
   "metadata": {},
   "outputs": [
    {
     "data": {
      "text/plain": [
       "array([ 50, 100, 120, 150, 200])"
      ]
     },
     "execution_count": 55,
     "metadata": {},
     "output_type": "execute_result"
    }
   ],
   "source": [
    "cf[:-1]"
   ]
  },
  {
   "cell_type": "code",
   "execution_count": 56,
   "metadata": {},
   "outputs": [
    {
     "data": {
      "text/plain": [
       "array([200, 300])"
      ]
     },
     "execution_count": 56,
     "metadata": {},
     "output_type": "execute_result"
    }
   ],
   "source": [
    "cf[-2:]"
   ]
  },
  {
   "cell_type": "code",
   "execution_count": 57,
   "metadata": {},
   "outputs": [
    {
     "data": {
      "text/plain": [
       "array([100, 150])"
      ]
     },
     "execution_count": 57,
     "metadata": {},
     "output_type": "execute_result"
    }
   ],
   "source": [
    "cf[1:5:2]"
   ]
  },
  {
   "cell_type": "code",
   "execution_count": 51,
   "metadata": {},
   "outputs": [
    {
     "data": {
      "text/plain": [
       "array([300, 200, 150, 120, 100,  50])"
      ]
     },
     "execution_count": 51,
     "metadata": {},
     "output_type": "execute_result"
    }
   ],
   "source": [
    "cf[::-1]"
   ]
  },
  {
   "cell_type": "code",
   "execution_count": 59,
   "metadata": {},
   "outputs": [
    {
     "data": {
      "text/plain": [
       "[6, 5, 4, 3, 2, 1]"
      ]
     },
     "execution_count": 59,
     "metadata": {},
     "output_type": "execute_result"
    }
   ],
   "source": [
    "a = [1, 2, 3, 4, 5, 6]\n",
    "a[::-1]"
   ]
  },
  {
   "cell_type": "code",
   "execution_count": 61,
   "metadata": {},
   "outputs": [
    {
     "data": {
      "text/plain": [
       "[2, 4]"
      ]
     },
     "execution_count": 61,
     "metadata": {},
     "output_type": "execute_result"
    }
   ],
   "source": [
    "a[1:5:2]"
   ]
  },
  {
   "cell_type": "markdown",
   "metadata": {},
   "source": [
    "### Vectorized Operations with Numpy"
   ]
  },
  {
   "cell_type": "code",
   "execution_count": 62,
   "metadata": {},
   "outputs": [],
   "source": [
    "import numpy as np"
   ]
  },
  {
   "cell_type": "code",
   "execution_count": 63,
   "metadata": {},
   "outputs": [
    {
     "data": {
      "text/plain": [
       "array([ 50, 100, 120, 150, 200, 300])"
      ]
     },
     "execution_count": 63,
     "metadata": {},
     "output_type": "execute_result"
    }
   ],
   "source": [
    "cf = np.array([50, 100, 120, 150, 200, 300])\n",
    "cf"
   ]
  },
  {
   "cell_type": "code",
   "execution_count": 64,
   "metadata": {},
   "outputs": [
    {
     "data": {
      "text/plain": [
       "array([ 55., 110., 132., 165., 220., 330.])"
      ]
     },
     "execution_count": 64,
     "metadata": {},
     "output_type": "execute_result"
    }
   ],
   "source": [
    "cf * 1.1"
   ]
  },
  {
   "cell_type": "code",
   "execution_count": 66,
   "metadata": {},
   "outputs": [
    {
     "data": {
      "text/plain": [
       "array([ 70, 120, 140, 170, 220, 320])"
      ]
     },
     "execution_count": 66,
     "metadata": {},
     "output_type": "execute_result"
    }
   ],
   "source": [
    "cf + 20"
   ]
  },
  {
   "cell_type": "code",
   "execution_count": 67,
   "metadata": {},
   "outputs": [
    {
     "data": {
      "text/plain": [
       "array([ 10,  20,   5, -10,  20,  10])"
      ]
     },
     "execution_count": 67,
     "metadata": {},
     "output_type": "execute_result"
    }
   ],
   "source": [
    "cf_add = np.array([10, 20, 5, -10, 20, 10])\n",
    "cf_add"
   ]
  },
  {
   "cell_type": "code",
   "execution_count": 68,
   "metadata": {},
   "outputs": [
    {
     "data": {
      "text/plain": [
       "array([ 60, 120, 125, 140, 220, 310])"
      ]
     },
     "execution_count": 68,
     "metadata": {},
     "output_type": "execute_result"
    }
   ],
   "source": [
    "cf + cf_add"
   ]
  },
  {
   "cell_type": "markdown",
   "metadata": {},
   "source": [
    "The XYZ Company evaluates to buy an additional machine that will increase future profits/cashflows by\n",
    "- 20 USD in t1, \n",
    "- 50 USD in t2,\n",
    "- 70 USD in t3, \n",
    "- 100 USD in t4,\n",
    "- 50 USD in t5. (each cf at period´s end)<br>\n",
    "\n",
    "The machine costs 200 USD (Investment in to). Calculate the __Project´s NPV__ and evaluate whether XYZ should pursue the project. <br> XYZ´s required rate of return (Cost of Capital) is 6% p.a. "
   ]
  },
  {
   "cell_type": "code",
   "execution_count": 69,
   "metadata": {},
   "outputs": [],
   "source": [
    "cf = np.array([-200, 20, 50, 70, 100, 50])\n",
    "r = 0.06\n",
    "f = 1 + r"
   ]
  },
  {
   "cell_type": "code",
   "execution_count": 70,
   "metadata": {},
   "outputs": [
    {
     "data": {
      "text/plain": [
       "array([0, 1, 2, 3, 4, 5])"
      ]
     },
     "execution_count": 70,
     "metadata": {},
     "output_type": "execute_result"
    }
   ],
   "source": [
    "n = np.array([0, 1, 2, 3, 4, 5])\n",
    "n"
   ]
  },
  {
   "cell_type": "code",
   "execution_count": 71,
   "metadata": {},
   "outputs": [
    {
     "data": {
      "text/plain": [
       "array([-200.        ,   18.86792453,   44.499822  ,   58.77334981,\n",
       "         79.20936632,   37.36290864])"
      ]
     },
     "execution_count": 71,
     "metadata": {},
     "output_type": "execute_result"
    }
   ],
   "source": [
    "cf / f**n"
   ]
  },
  {
   "cell_type": "code",
   "execution_count": 72,
   "metadata": {},
   "outputs": [
    {
     "data": {
      "text/plain": [
       "array([-200.        ,   18.86792453,   44.499822  ,   58.77334981,\n",
       "         79.20936632,   37.36290864])"
      ]
     },
     "execution_count": 72,
     "metadata": {},
     "output_type": "execute_result"
    }
   ],
   "source": [
    "pv_array = cf / f**n\n",
    "pv_array"
   ]
  },
  {
   "cell_type": "code",
   "execution_count": 73,
   "metadata": {},
   "outputs": [
    {
     "data": {
      "text/plain": [
       "38.71337130837991"
      ]
     },
     "execution_count": 73,
     "metadata": {},
     "output_type": "execute_result"
    }
   ],
   "source": [
    "NPV = pv_array.sum()\n",
    "NPV ##sum메서드를 통해서 배열내의 모든 값에 대한 총합을 구할 수 있다. 넘파이배열의 힘은 벡터연산이다. "
   ]
  },
  {
   "cell_type": "code",
   "execution_count": 74,
   "metadata": {},
   "outputs": [
    {
     "data": {
      "text/plain": [
       "38.71337130837991"
      ]
     },
     "execution_count": 74,
     "metadata": {},
     "output_type": "execute_result"
    }
   ],
   "source": [
    "(cf / f**n).sum()"
   ]
  },
  {
   "cell_type": "code",
   "execution_count": 75,
   "metadata": {},
   "outputs": [
    {
     "name": "stdout",
     "output_type": "stream",
     "text": [
      "38.71337130837991\n"
     ]
    }
   ],
   "source": [
    "NPV = 0\n",
    "for i in range(len(cf)):\n",
    "    NPV += cf[i] / f**(i)\n",
    "print(NPV)"
   ]
  },
  {
   "cell_type": "code",
   "execution_count": null,
   "metadata": {},
   "outputs": [],
   "source": []
  },
  {
   "cell_type": "markdown",
   "metadata": {},
   "source": [
    "### Changing Elements in Numpy Arrays & Mutability"
   ]
  },
  {
   "cell_type": "code",
   "execution_count": 76,
   "metadata": {},
   "outputs": [],
   "source": [
    "import numpy as np"
   ]
  },
  {
   "cell_type": "code",
   "execution_count": 77,
   "metadata": {},
   "outputs": [],
   "source": [
    "cf = np.array([100, 10, 20, 50, 30, 25])"
   ]
  },
  {
   "cell_type": "code",
   "execution_count": 78,
   "metadata": {},
   "outputs": [],
   "source": [
    "cf[0] = 95"
   ]
  },
  {
   "cell_type": "code",
   "execution_count": 79,
   "metadata": {},
   "outputs": [
    {
     "data": {
      "text/plain": [
       "array([95, 10, 20, 50, 30, 25])"
      ]
     },
     "execution_count": 79,
     "metadata": {},
     "output_type": "execute_result"
    }
   ],
   "source": [
    "cf"
   ]
  },
  {
   "cell_type": "code",
   "execution_count": 80,
   "metadata": {},
   "outputs": [],
   "source": [
    "cf[1:] = [40, 40, 40, 40, 40]"
   ]
  },
  {
   "cell_type": "code",
   "execution_count": 81,
   "metadata": {},
   "outputs": [
    {
     "data": {
      "text/plain": [
       "array([95, 40, 40, 40, 40, 40])"
      ]
     },
     "execution_count": 81,
     "metadata": {},
     "output_type": "execute_result"
    }
   ],
   "source": [
    "cf"
   ]
  },
  {
   "cell_type": "code",
   "execution_count": 82,
   "metadata": {},
   "outputs": [],
   "source": [
    "cf[1:] = 45"
   ]
  },
  {
   "cell_type": "code",
   "execution_count": 83,
   "metadata": {},
   "outputs": [
    {
     "data": {
      "text/plain": [
       "array([95, 45, 45, 45, 45, 45])"
      ]
     },
     "execution_count": 83,
     "metadata": {},
     "output_type": "execute_result"
    }
   ],
   "source": [
    "cf"
   ]
  },
  {
   "cell_type": "code",
   "execution_count": 84,
   "metadata": {},
   "outputs": [
    {
     "data": {
      "text/plain": [
       "array([115,  65,  65,  65,  65,  65])"
      ]
     },
     "execution_count": 84,
     "metadata": {},
     "output_type": "execute_result"
    }
   ],
   "source": [
    "cf + 20"
   ]
  },
  {
   "cell_type": "code",
   "execution_count": 85,
   "metadata": {},
   "outputs": [
    {
     "data": {
      "text/plain": [
       "array([95, 45, 45, 45, 45, 45])"
      ]
     },
     "execution_count": 85,
     "metadata": {},
     "output_type": "execute_result"
    }
   ],
   "source": [
    "cf"
   ]
  },
  {
   "cell_type": "code",
   "execution_count": 86,
   "metadata": {},
   "outputs": [],
   "source": [
    "cf = cf + 20"
   ]
  },
  {
   "cell_type": "code",
   "execution_count": 87,
   "metadata": {},
   "outputs": [
    {
     "data": {
      "text/plain": [
       "array([115,  65,  65,  65,  65,  65])"
      ]
     },
     "execution_count": 87,
     "metadata": {},
     "output_type": "execute_result"
    }
   ],
   "source": [
    "cf"
   ]
  },
  {
   "cell_type": "code",
   "execution_count": 88,
   "metadata": {},
   "outputs": [
    {
     "data": {
      "text/plain": [
       "array([100,  10,  20,  50,  30,  25])"
      ]
     },
     "execution_count": 88,
     "metadata": {},
     "output_type": "execute_result"
    }
   ],
   "source": [
    "cf1 = np.array([100, 10, 20, 50, 30, 25])\n",
    "cf1"
   ]
  },
  {
   "cell_type": "code",
   "execution_count": 89,
   "metadata": {},
   "outputs": [],
   "source": [
    "cf2 = cf1"
   ]
  },
  {
   "cell_type": "code",
   "execution_count": 90,
   "metadata": {},
   "outputs": [
    {
     "data": {
      "text/plain": [
       "array([95, 10, 20, 50, 30, 25])"
      ]
     },
     "execution_count": 90,
     "metadata": {},
     "output_type": "execute_result"
    }
   ],
   "source": [
    "cf1[0] = 95\n",
    "cf1"
   ]
  },
  {
   "cell_type": "code",
   "execution_count": 91,
   "metadata": {
    "scrolled": true
   },
   "outputs": [
    {
     "data": {
      "text/plain": [
       "array([95, 10, 20, 50, 30, 25])"
      ]
     },
     "execution_count": 91,
     "metadata": {},
     "output_type": "execute_result"
    }
   ],
   "source": [
    "cf2"
   ]
  },
  {
   "cell_type": "code",
   "execution_count": 92,
   "metadata": {},
   "outputs": [
    {
     "data": {
      "text/plain": [
       "array([100,  10,  20,  50,  30,  25])"
      ]
     },
     "execution_count": 92,
     "metadata": {},
     "output_type": "execute_result"
    }
   ],
   "source": [
    "cf1 = np.array([100, 10, 20, 50, 30, 25])\n",
    "cf1"
   ]
  },
  {
   "cell_type": "code",
   "execution_count": 93,
   "metadata": {},
   "outputs": [
    {
     "data": {
      "text/plain": [
       "array([100,  10,  20,  50,  30,  25])"
      ]
     },
     "execution_count": 93,
     "metadata": {},
     "output_type": "execute_result"
    }
   ],
   "source": [
    "cf2 = cf1[:] ## 이렇게 하면 새로운 객체로서 받아오는 것이다. cf2 = cf1은 참조를 같이 하겠다라는 의미이다.\n",
    "cf2"
   ]
  },
  {
   "cell_type": "code",
   "execution_count": 94,
   "metadata": {},
   "outputs": [
    {
     "data": {
      "text/plain": [
       "array([95, 10, 20, 50, 30, 25])"
      ]
     },
     "execution_count": 94,
     "metadata": {},
     "output_type": "execute_result"
    }
   ],
   "source": [
    "cf1[0] = 95\n",
    "cf1"
   ]
  },
  {
   "cell_type": "code",
   "execution_count": 95,
   "metadata": {},
   "outputs": [
    {
     "data": {
      "text/plain": [
       "array([95, 10, 20, 50, 30, 25])"
      ]
     },
     "execution_count": 95,
     "metadata": {},
     "output_type": "execute_result"
    }
   ],
   "source": [
    "cf2"
   ]
  },
  {
   "cell_type": "code",
   "execution_count": 96,
   "metadata": {},
   "outputs": [
    {
     "data": {
      "text/plain": [
       "array([100,  10,  20,  50,  30,  25])"
      ]
     },
     "execution_count": 96,
     "metadata": {},
     "output_type": "execute_result"
    }
   ],
   "source": [
    "cf1 = np.array([100, 10, 20, 50, 30, 25])\n",
    "cf1"
   ]
  },
  {
   "cell_type": "code",
   "execution_count": 99,
   "metadata": {},
   "outputs": [],
   "source": [
    "cf2 = cf1.copy() ## 이렇게 하면 객체를 복사하여 틀을 유지한 가운데 새로운 객체로 생성 가능하다."
   ]
  },
  {
   "cell_type": "code",
   "execution_count": 100,
   "metadata": {},
   "outputs": [
    {
     "data": {
      "text/plain": [
       "array([95, 10, 20, 50, 30, 25])"
      ]
     },
     "execution_count": 100,
     "metadata": {},
     "output_type": "execute_result"
    }
   ],
   "source": [
    "cf1[0] = 95\n",
    "cf1"
   ]
  },
  {
   "cell_type": "code",
   "execution_count": 101,
   "metadata": {},
   "outputs": [
    {
     "data": {
      "text/plain": [
       "array([95, 10, 20, 50, 30, 25])"
      ]
     },
     "execution_count": 101,
     "metadata": {},
     "output_type": "execute_result"
    }
   ],
   "source": [
    "cf2"
   ]
  },
  {
   "cell_type": "code",
   "execution_count": null,
   "metadata": {},
   "outputs": [],
   "source": []
  },
  {
   "cell_type": "markdown",
   "metadata": {},
   "source": [
    "### View vs. copy - potential Pitfalls when slicing Numpy Arrays"
   ]
  },
  {
   "cell_type": "code",
   "execution_count": 102,
   "metadata": {},
   "outputs": [],
   "source": [
    "import numpy as np"
   ]
  },
  {
   "cell_type": "code",
   "execution_count": 120,
   "metadata": {},
   "outputs": [
    {
     "data": {
      "text/plain": [
       "array([100,  10,  20,  50,  30,  25])"
      ]
     },
     "execution_count": 120,
     "metadata": {},
     "output_type": "execute_result"
    }
   ],
   "source": [
    "cf = np.array([100, 10, 20, 50, 30, 25])\n",
    "cf"
   ]
  },
  {
   "cell_type": "code",
   "execution_count": 121,
   "metadata": {},
   "outputs": [
    {
     "data": {
      "text/plain": [
       "array([50, 30, 25])"
      ]
     },
     "execution_count": 121,
     "metadata": {},
     "output_type": "execute_result"
    }
   ],
   "source": [
    "last_3 = cf[-3:].copy() # 넘파이 배열에서는 리스트와 다르게 슬라이싱으로 객체를 생성해도 변하지 않는다. 그래서 copy()메서드를 사용해야 새로운 객체로 생성된다.\n",
    "last_3"
   ]
  },
  {
   "cell_type": "code",
   "execution_count": 122,
   "metadata": {},
   "outputs": [],
   "source": [
    "last_3[0] = 55"
   ]
  },
  {
   "cell_type": "code",
   "execution_count": 123,
   "metadata": {},
   "outputs": [
    {
     "data": {
      "text/plain": [
       "array([55, 30, 25])"
      ]
     },
     "execution_count": 123,
     "metadata": {},
     "output_type": "execute_result"
    }
   ],
   "source": [
    "last_3"
   ]
  },
  {
   "cell_type": "code",
   "execution_count": 124,
   "metadata": {},
   "outputs": [
    {
     "data": {
      "text/plain": [
       "array([100,  10,  20,  50,  30,  25])"
      ]
     },
     "execution_count": 124,
     "metadata": {},
     "output_type": "execute_result"
    }
   ],
   "source": [
    "cf"
   ]
  },
  {
   "cell_type": "code",
   "execution_count": 125,
   "metadata": {},
   "outputs": [
    {
     "data": {
      "text/plain": [
       "[100, 10, 20, 50, 30, 25]"
      ]
     },
     "execution_count": 125,
     "metadata": {},
     "output_type": "execute_result"
    }
   ],
   "source": [
    "cf = [100, 10, 20, 50, 30, 25]\n",
    "cf"
   ]
  },
  {
   "cell_type": "code",
   "execution_count": 126,
   "metadata": {},
   "outputs": [
    {
     "data": {
      "text/plain": [
       "[50, 30, 25]"
      ]
     },
     "execution_count": 126,
     "metadata": {},
     "output_type": "execute_result"
    }
   ],
   "source": [
    "last_3 = cf[-3:]\n",
    "last_3 ## 넘파이 배열에서는 이렇게 해주면 새롭게 객체를 생성하는 것이 아니고, 단순하게 참조할 뿐이다. "
   ]
  },
  {
   "cell_type": "code",
   "execution_count": 127,
   "metadata": {},
   "outputs": [],
   "source": [
    "last_3[0] = 55"
   ]
  },
  {
   "cell_type": "code",
   "execution_count": 128,
   "metadata": {},
   "outputs": [
    {
     "data": {
      "text/plain": [
       "[55, 30, 25]"
      ]
     },
     "execution_count": 128,
     "metadata": {},
     "output_type": "execute_result"
    }
   ],
   "source": [
    "last_3"
   ]
  },
  {
   "cell_type": "code",
   "execution_count": 129,
   "metadata": {},
   "outputs": [
    {
     "data": {
      "text/plain": [
       "[100, 10, 20, 50, 30, 25]"
      ]
     },
     "execution_count": 129,
     "metadata": {},
     "output_type": "execute_result"
    }
   ],
   "source": [
    "cf"
   ]
  },
  {
   "cell_type": "code",
   "execution_count": null,
   "metadata": {},
   "outputs": [],
   "source": []
  },
  {
   "cell_type": "markdown",
   "metadata": {},
   "source": [
    "### Numpy Array Methods and Attributes"
   ]
  },
  {
   "cell_type": "code",
   "execution_count": 133,
   "metadata": {},
   "outputs": [],
   "source": [
    "import numpy as np"
   ]
  },
  {
   "cell_type": "code",
   "execution_count": 134,
   "metadata": {
    "scrolled": true
   },
   "outputs": [
    {
     "data": {
      "text/plain": [
       "array([-200,   20,   50,   70,  100,   50])"
      ]
     },
     "execution_count": 134,
     "metadata": {},
     "output_type": "execute_result"
    }
   ],
   "source": [
    "cf = np.array([-200, 20, 50, 70, 100, 50])\n",
    "cf"
   ]
  },
  {
   "cell_type": "code",
   "execution_count": 135,
   "metadata": {},
   "outputs": [
    {
     "data": {
      "text/plain": [
       "100"
      ]
     },
     "execution_count": 135,
     "metadata": {},
     "output_type": "execute_result"
    }
   ],
   "source": [
    "max(cf)#최댓값"
   ]
  },
  {
   "cell_type": "code",
   "execution_count": 136,
   "metadata": {},
   "outputs": [
    {
     "data": {
      "text/plain": [
       "100"
      ]
     },
     "execution_count": 136,
     "metadata": {},
     "output_type": "execute_result"
    }
   ],
   "source": [
    "cf.max()# 밖에다 써도 옼"
   ]
  },
  {
   "cell_type": "code",
   "execution_count": 137,
   "metadata": {},
   "outputs": [
    {
     "data": {
      "text/plain": [
       "-200"
      ]
     },
     "execution_count": 137,
     "metadata": {},
     "output_type": "execute_result"
    }
   ],
   "source": [
    "cf.min() # 최소값"
   ]
  },
  {
   "cell_type": "code",
   "execution_count": 138,
   "metadata": {},
   "outputs": [
    {
     "data": {
      "text/plain": [
       "4"
      ]
     },
     "execution_count": 138,
     "metadata": {},
     "output_type": "execute_result"
    }
   ],
   "source": [
    "cf.argmax() # 최대값의 인덱스를 리턴해 줌 argmax()"
   ]
  },
  {
   "cell_type": "code",
   "execution_count": 10,
   "metadata": {},
   "outputs": [
    {
     "ename": "NameError",
     "evalue": "name 'cf' is not defined",
     "output_type": "error",
     "traceback": [
      "\u001b[0;31m---------------------------------------------------------------------------\u001b[0m",
      "\u001b[0;31mNameError\u001b[0m                                 Traceback (most recent call last)",
      "\u001b[1;32m/Users/kyungyunlee/Desktop/PYTHON/PYTHON_UDEMY/HAGMANN_PANDAS/Appendix_Materials/Appendix3_Materials/Video_Lectures_NBs/NB_01_Numpy.ipynb Cell 14'\u001b[0m in \u001b[0;36m<cell line: 1>\u001b[0;34m()\u001b[0m\n\u001b[0;32m----> <a href='vscode-notebook-cell:/Users/kyungyunlee/Desktop/PYTHON/PYTHON_UDEMY/HAGMANN_PANDAS/Appendix_Materials/Appendix3_Materials/Video_Lectures_NBs/NB_01_Numpy.ipynb#ch0000013?line=0'>1</a>\u001b[0m cf\u001b[39m.\u001b[39margmin()\n",
      "\u001b[0;31mNameError\u001b[0m: name 'cf' is not defined"
     ]
    }
   ],
   "source": [
    "cf.argmin() # 최소값의 인덱스를 리턴해 줌 argmin()"
   ]
  },
  {
   "cell_type": "code",
   "execution_count": 140,
   "metadata": {},
   "outputs": [
    {
     "data": {
      "text/plain": [
       "90"
      ]
     },
     "execution_count": 140,
     "metadata": {},
     "output_type": "execute_result"
    }
   ],
   "source": [
    " # 총합을 구해준다."
   ]
  },
  {
   "cell_type": "code",
   "execution_count": 142,
   "metadata": {},
   "outputs": [
    {
     "data": {
      "text/plain": [
       "array([-200, -180, -130,  -60,   40,   90])"
      ]
     },
     "execution_count": 142,
     "metadata": {},
     "output_type": "execute_result"
    }
   ],
   "source": [
    "cf.cumsum() ## 누적 합을 나타내준다. 앞 인덱스 + 뒷 인덱스를 계속 하는 셈이다."
   ]
  },
  {
   "cell_type": "code",
   "execution_count": 145,
   "metadata": {},
   "outputs": [
    {
     "data": {
      "text/plain": [
       "array([-200, -180, -130,  -60,   40,   90])"
      ]
     },
     "execution_count": 145,
     "metadata": {},
     "output_type": "execute_result"
    }
   ],
   "source": [
    "array = cf.cumsum()\n",
    "array"
   ]
  },
  {
   "cell_type": "code",
   "execution_count": 144,
   "metadata": {},
   "outputs": [],
   "source": [
    "import matplotlib.pyplot as plt"
   ]
  },
  {
   "cell_type": "code",
   "execution_count": 146,
   "metadata": {
    "scrolled": false
   },
   "outputs": [
    {
     "data": {
      "image/png": "[encoded data removed]",
      "text/plain": [
       "<Figure size 864x576 with 1 Axes>"
      ]
     },
     "metadata": {
      "needs_background": "light"
     },
     "output_type": "display_data"
    }
   ],
   "source": [
    "plt.figure(figsize = (12, 8)) # 그래프로 그려본다. 가로세로 크기 결장\n",
    "plt.plot(array)# 인덱스 대비 값을 그래프로 나타내줌\n",
    "plt.show()"
   ]
  },
  {
   "cell_type": "code",
   "execution_count": 147,
   "metadata": {},
   "outputs": [],
   "source": [
    "cf.sort() # 배열을 순서대로 조절하되 객체를 생성하지는 않는다. "
   ]
  },
  {
   "cell_type": "code",
   "execution_count": 148,
   "metadata": {},
   "outputs": [
    {
     "data": {
      "text/plain": [
       "array([-200,   20,   50,   50,   70,  100])"
      ]
     },
     "execution_count": 148,
     "metadata": {},
     "output_type": "execute_result"
    }
   ],
   "source": [
    "cf # 기본 메모리 저장된 배열은 전혀 변하지 않았다. "
   ]
  },
  {
   "cell_type": "code",
   "execution_count": 149,
   "metadata": {},
   "outputs": [],
   "source": [
    "cf = cf + 0.0235"
   ]
  },
  {
   "cell_type": "code",
   "execution_count": 150,
   "metadata": {},
   "outputs": [
    {
     "data": {
      "text/plain": [
       "array([-199.9765,   20.0235,   50.0235,   50.0235,   70.0235,  100.0235])"
      ]
     },
     "execution_count": 150,
     "metadata": {},
     "output_type": "execute_result"
    }
   ],
   "source": [
    "cf"
   ]
  },
  {
   "cell_type": "code",
   "execution_count": 151,
   "metadata": {},
   "outputs": [
    {
     "data": {
      "text/plain": [
       "array([-199.98,   20.02,   50.02,   50.02,   70.02,  100.02])"
      ]
     },
     "execution_count": 151,
     "metadata": {},
     "output_type": "execute_result"
    }
   ],
   "source": [
    "cf.round(2) # 소수점 3째자리에서 반올림"
   ]
  },
  {
   "cell_type": "code",
   "execution_count": 152,
   "metadata": {},
   "outputs": [
    {
     "data": {
      "text/plain": [
       "6"
      ]
     },
     "execution_count": 152,
     "metadata": {},
     "output_type": "execute_result"
    }
   ],
   "source": [
    "cf.size # 배열의 총 인덱스 갯수"
   ]
  },
  {
   "cell_type": "code",
   "execution_count": 154,
   "metadata": {},
   "outputs": [
    {
     "data": {
      "text/plain": [
       "(6,)"
      ]
     },
     "execution_count": 154,
     "metadata": {},
     "output_type": "execute_result"
    }
   ],
   "source": [
    "cf.shape# 이것은 넘파이 배열의 차원을 나타낸다. 이거는 지금 단순하게 6행의 일차원 배열이다. "
   ]
  },
  {
   "cell_type": "code",
   "execution_count": null,
   "metadata": {},
   "outputs": [],
   "source": []
  },
  {
   "cell_type": "markdown",
   "metadata": {},
   "source": [
    "### Numpy Universal Functions"
   ]
  },
  {
   "cell_type": "code",
   "execution_count": 155,
   "metadata": {},
   "outputs": [],
   "source": [
    "import numpy as np"
   ]
  },
  {
   "cell_type": "code",
   "execution_count": 156,
   "metadata": {},
   "outputs": [
    {
     "data": {
      "text/plain": [
       "[100, 10, 20, 50, 30, 25]"
      ]
     },
     "execution_count": 156,
     "metadata": {},
     "output_type": "execute_result"
    }
   ],
   "source": [
    "cf = [100, 10, 20, 50, 30, 25]\n",
    "cf"
   ]
  },
  {
   "cell_type": "code",
   "execution_count": 158,
   "metadata": {},
   "outputs": [
    {
     "data": {
      "text/plain": [
       "array([10.        ,  3.16227766,  4.47213595,  7.07106781,  5.47722558,\n",
       "        5.        ])"
      ]
     },
     "execution_count": 158,
     "metadata": {},
     "output_type": "execute_result"
    }
   ],
   "source": [
    "np.sqrt(cf) # 제곱근"
   ]
  },
  {
   "cell_type": "code",
   "execution_count": 160,
   "metadata": {},
   "outputs": [
    {
     "data": {
      "text/plain": [
       "array([2.68811714e+43, 2.20264658e+04, 4.85165195e+08, 5.18470553e+21,\n",
       "       1.06864746e+13, 7.20048993e+10])"
      ]
     },
     "execution_count": 160,
     "metadata": {},
     "output_type": "execute_result"
    }
   ],
   "source": [
    "np.exp(cf) # 자연로그에 대한 제곱"
   ]
  },
  {
   "cell_type": "code",
   "execution_count": 162,
   "metadata": {},
   "outputs": [
    {
     "data": {
      "text/plain": [
       "array([10000,   100,   400,  2500,   900,   625])"
      ]
     },
     "execution_count": 162,
     "metadata": {},
     "output_type": "execute_result"
    }
   ],
   "source": [
    "np.power(cf, 2) # 값에 대한 제곱 (대상, 제곱수)"
   ]
  },
  {
   "cell_type": "code",
   "execution_count": 163,
   "metadata": {},
   "outputs": [
    {
     "data": {
      "text/plain": [
       "[-200.6, 20.53, 50, 70.87, 100, 50]"
      ]
     },
     "execution_count": 163,
     "metadata": {},
     "output_type": "execute_result"
    }
   ],
   "source": [
    "cf1 = [-200.6, 20.53, 50, 70.87, 100, 50]\n",
    "cf1"
   ]
  },
  {
   "cell_type": "code",
   "execution_count": 164,
   "metadata": {},
   "outputs": [
    {
     "data": {
      "text/plain": [
       "array([200.6 ,  20.53,  50.  ,  70.87, 100.  ,  50.  ])"
      ]
     },
     "execution_count": 164,
     "metadata": {},
     "output_type": "execute_result"
    }
   ],
   "source": [
    "np.abs(cf1) # 절대값"
   ]
  },
  {
   "cell_type": "code",
   "execution_count": 166,
   "metadata": {},
   "outputs": [
    {
     "data": {
      "text/plain": [
       "array([-200.6,   20.5,   50. ,   70.9,  100. ,   50. ])"
      ]
     },
     "execution_count": 166,
     "metadata": {},
     "output_type": "execute_result"
    }
   ],
   "source": [
    "np.round(cf1, decimals = 1) #소숫점 한자리까지 반올림"
   ]
  },
  {
   "cell_type": "code",
   "execution_count": 167,
   "metadata": {},
   "outputs": [
    {
     "data": {
      "text/plain": [
       "array([-200.,   21.,   50.,   71.,  100.,   50.])"
      ]
     },
     "execution_count": 167,
     "metadata": {},
     "output_type": "execute_result"
    }
   ],
   "source": [
    "np.ceil(cf1) # 올림 함수, 전부다 올림해준다.   "
   ]
  },
  {
   "cell_type": "code",
   "execution_count": 168,
   "metadata": {},
   "outputs": [
    {
     "data": {
      "text/plain": [
       "array([-201.,   20.,   50.,   70.,  100.,   50.])"
      ]
     },
     "execution_count": 168,
     "metadata": {},
     "output_type": "execute_result"
    }
   ],
   "source": [
    "np.floor(cf1) # 내림 함수, 전부다 내림해준다."
   ]
  },
  {
   "cell_type": "code",
   "execution_count": null,
   "metadata": {},
   "outputs": [],
   "source": []
  },
  {
   "cell_type": "markdown",
   "metadata": {},
   "source": [
    "### Boolean Arrays and Conditional Filtering"
   ]
  },
  {
   "cell_type": "code",
   "execution_count": 169,
   "metadata": {},
   "outputs": [],
   "source": [
    "import numpy as np"
   ]
  },
  {
   "cell_type": "code",
   "execution_count": 170,
   "metadata": {
    "scrolled": true
   },
   "outputs": [
    {
     "data": {
      "text/plain": [
       "array([-200,   20,   50,   70,  100,   50])"
      ]
     },
     "execution_count": 170,
     "metadata": {},
     "output_type": "execute_result"
    }
   ],
   "source": [
    "cf = np.array([-200, 20, 50, 70, 100, 50])\n",
    "cf "
   ]
  },
  {
   "cell_type": "code",
   "execution_count": 171,
   "metadata": {},
   "outputs": [
    {
     "data": {
      "text/plain": [
       "array([ True, False, False, False, False, False])"
      ]
     },
     "execution_count": 171,
     "metadata": {},
     "output_type": "execute_result"
    }
   ],
   "source": [
    "cf < 0 # 조건을 먹이면 내부의 벡터값들이 조건에 따라 불리언값으로 변경된다."
   ]
  },
  {
   "cell_type": "code",
   "execution_count": 172,
   "metadata": {},
   "outputs": [
    {
     "data": {
      "text/plain": [
       "array([ True, False, False, False, False, False])"
      ]
     },
     "execution_count": 172,
     "metadata": {},
     "output_type": "execute_result"
    }
   ],
   "source": [
    "negative = cf < 0\n",
    "negative"
   ]
  },
  {
   "cell_type": "code",
   "execution_count": 173,
   "metadata": {},
   "outputs": [
    {
     "data": {
      "text/plain": [
       "array([False,  True,  True,  True,  True,  True])"
      ]
     },
     "execution_count": 173,
     "metadata": {},
     "output_type": "execute_result"
    }
   ],
   "source": [
    "positive = cf > 0\n",
    "positive"
   ]
  },
  {
   "cell_type": "code",
   "execution_count": 174,
   "metadata": {},
   "outputs": [
    {
     "data": {
      "text/plain": [
       "array([-200])"
      ]
     },
     "execution_count": 174,
     "metadata": {},
     "output_type": "execute_result"
    }
   ],
   "source": [
    "cf[negative] # 불리언 값을 통해서 키 값 조회가 가능해진다."
   ]
  },
  {
   "cell_type": "code",
   "execution_count": 175,
   "metadata": {},
   "outputs": [
    {
     "data": {
      "text/plain": [
       "array([ 20,  50,  70, 100,  50])"
      ]
     },
     "execution_count": 175,
     "metadata": {},
     "output_type": "execute_result"
    }
   ],
   "source": [
    "cf[positive] "
   ]
  },
  {
   "cell_type": "code",
   "execution_count": 181,
   "metadata": {},
   "outputs": [
    {
     "data": {
      "text/plain": [
       "array([-200])"
      ]
     },
     "execution_count": 181,
     "metadata": {},
     "output_type": "execute_result"
    }
   ],
   "source": [
    "neg = cf[cf < 0] # 조건에 대한 값들을 통해서 슬라이싱이 가능하다.\n",
    "neg"
   ]
  },
  {
   "cell_type": "code",
   "execution_count": 182,
   "metadata": {},
   "outputs": [
    {
     "data": {
      "text/plain": [
       "array([ 20,  50,  70, 100,  50])"
      ]
     },
     "execution_count": 182,
     "metadata": {},
     "output_type": "execute_result"
    }
   ],
   "source": [
    "pos = cf[cf > 0]\n",
    "pos"
   ]
  },
  {
   "cell_type": "code",
   "execution_count": 183,
   "metadata": {},
   "outputs": [],
   "source": [
    "pos[0] = 30"
   ]
  },
  {
   "cell_type": "code",
   "execution_count": 184,
   "metadata": {},
   "outputs": [
    {
     "data": {
      "text/plain": [
       "array([ 30,  50,  70, 100,  50])"
      ]
     },
     "execution_count": 184,
     "metadata": {},
     "output_type": "execute_result"
    }
   ],
   "source": [
    "pos"
   ]
  },
  {
   "cell_type": "code",
   "execution_count": 185,
   "metadata": {},
   "outputs": [
    {
     "data": {
      "text/plain": [
       "array([-200,   20,   50,   70,  100,   50])"
      ]
     },
     "execution_count": 185,
     "metadata": {},
     "output_type": "execute_result"
    }
   ],
   "source": [
    "cf # 참조가 변경되지 않으므로, 본 배열은 변화가 없다."
   ]
  },
  {
   "cell_type": "code",
   "execution_count": null,
   "metadata": {},
   "outputs": [],
   "source": []
  },
  {
   "cell_type": "markdown",
   "metadata": {},
   "source": [
    "### Advanced Filtering & Bitwise Operators "
   ]
  },
  {
   "cell_type": "code",
   "execution_count": 193,
   "metadata": {},
   "outputs": [],
   "source": [
    "import numpy as np"
   ]
  },
  {
   "cell_type": "code",
   "execution_count": 194,
   "metadata": {
    "scrolled": true
   },
   "outputs": [
    {
     "data": {
      "text/plain": [
       "array([-200,   20,   50,   70,  100,   50])"
      ]
     },
     "execution_count": 194,
     "metadata": {},
     "output_type": "execute_result"
    }
   ],
   "source": [
    "cf = np.array([-200, 20, 50, 70, 100, 50])\n",
    "cf"
   ]
  },
  {
   "cell_type": "code",
   "execution_count": 195,
   "metadata": {
    "scrolled": true
   },
   "outputs": [
    {
     "data": {
      "text/plain": [
       "array([ True, False, False, False, False, False])"
      ]
     },
     "execution_count": 195,
     "metadata": {},
     "output_type": "execute_result"
    }
   ],
   "source": [
    "mask1 = cf < 0\n",
    "mask1"
   ]
  },
  {
   "cell_type": "code",
   "execution_count": 196,
   "metadata": {},
   "outputs": [
    {
     "data": {
      "text/plain": [
       "array([ True, False, False,  True,  True, False])"
      ]
     },
     "execution_count": 196,
     "metadata": {},
     "output_type": "execute_result"
    }
   ],
   "source": [
    "mask2 = np.abs(cf) > 60\n",
    "mask2"
   ]
  },
  {
   "cell_type": "code",
   "execution_count": 197,
   "metadata": {},
   "outputs": [
    {
     "ename": "ValueError",
     "evalue": "The truth value of an array with more than one element is ambiguous. Use a.any() or a.all()",
     "output_type": "error",
     "traceback": [
      "\u001b[0;31m---------------------------------------------------------------------------\u001b[0m",
      "\u001b[0;31mValueError\u001b[0m                                Traceback (most recent call last)",
      "\u001b[1;32m/Users/kyungyunlee/Desktop/PYTHON/PYTHON_UDEMY/HAGMANN_PANDAS/Appendix_Materials/Appendix3_Materials/Video_Lectures_NBs/NB_01_Numpy.ipynb Cell 168'\u001b[0m in \u001b[0;36m<cell line: 1>\u001b[0;34m()\u001b[0m\n\u001b[0;32m----> <a href='vscode-notebook-cell:/Users/kyungyunlee/Desktop/PYTHON/PYTHON_UDEMY/HAGMANN_PANDAS/Appendix_Materials/Appendix3_Materials/Video_Lectures_NBs/NB_01_Numpy.ipynb#ch0000166?line=0'>1</a>\u001b[0m mask1 \u001b[39mor\u001b[39;00m mask2\n",
      "\u001b[0;31mValueError\u001b[0m: The truth value of an array with more than one element is ambiguous. Use a.any() or a.all()"
     ]
    }
   ],
   "source": [
    "mask1 or mask2"
   ]
  },
  {
   "cell_type": "code",
   "execution_count": 198,
   "metadata": {},
   "outputs": [
    {
     "data": {
      "text/plain": [
       "array([ True, False, False,  True,  True, False])"
      ]
     },
     "execution_count": 198,
     "metadata": {},
     "output_type": "execute_result"
    }
   ],
   "source": [
    "mask1 | mask2"
   ]
  },
  {
   "cell_type": "code",
   "execution_count": 199,
   "metadata": {},
   "outputs": [
    {
     "data": {
      "text/plain": [
       "array([-200,   70,  100])"
      ]
     },
     "execution_count": 199,
     "metadata": {},
     "output_type": "execute_result"
    }
   ],
   "source": [
    "cf[mask1 | mask2]"
   ]
  },
  {
   "cell_type": "code",
   "execution_count": 203,
   "metadata": {},
   "outputs": [
    {
     "ename": "ValueError",
     "evalue": "The truth value of an array with more than one element is ambiguous. Use a.any() or a.all()",
     "output_type": "error",
     "traceback": [
      "\u001b[0;31m---------------------------------------------------------------------------\u001b[0m",
      "\u001b[0;31mValueError\u001b[0m                                Traceback (most recent call last)",
      "\u001b[1;32m/Users/kyungyunlee/Desktop/PYTHON/PYTHON_UDEMY/HAGMANN_PANDAS/Appendix_Materials/Appendix3_Materials/Video_Lectures_NBs/NB_01_Numpy.ipynb Cell 171'\u001b[0m in \u001b[0;36m<cell line: 1>\u001b[0;34m()\u001b[0m\n\u001b[0;32m----> <a href='vscode-notebook-cell:/Users/kyungyunlee/Desktop/PYTHON/PYTHON_UDEMY/HAGMANN_PANDAS/Appendix_Materials/Appendix3_Materials/Video_Lectures_NBs/NB_01_Numpy.ipynb#ch0000169?line=0'>1</a>\u001b[0m \u001b[39mnot\u001b[39;49;00m (mask1 \u001b[39m|\u001b[39;49m mask2)\n",
      "\u001b[0;31mValueError\u001b[0m: The truth value of an array with more than one element is ambiguous. Use a.any() or a.all()"
     ]
    }
   ],
   "source": [
    "not (mask1 | mask2)"
   ]
  },
  {
   "cell_type": "code",
   "execution_count": 204,
   "metadata": {},
   "outputs": [
    {
     "data": {
      "text/plain": [
       "array([False,  True,  True, False, False,  True])"
      ]
     },
     "execution_count": 204,
     "metadata": {},
     "output_type": "execute_result"
    }
   ],
   "source": [
    "~ (mask1 | mask2)"
   ]
  },
  {
   "cell_type": "code",
   "execution_count": 202,
   "metadata": {},
   "outputs": [
    {
     "data": {
      "text/plain": [
       "array([20, 50, 50])"
      ]
     },
     "execution_count": 202,
     "metadata": {},
     "output_type": "execute_result"
    }
   ],
   "source": [
    "cf[~(mask1 | mask2)]"
   ]
  },
  {
   "cell_type": "code",
   "execution_count": 205,
   "metadata": {},
   "outputs": [],
   "source": [
    "mask3 = cf >= 0"
   ]
  },
  {
   "cell_type": "code",
   "execution_count": 206,
   "metadata": {},
   "outputs": [],
   "source": [
    "mask4 = cf < 30"
   ]
  },
  {
   "cell_type": "code",
   "execution_count": 207,
   "metadata": {},
   "outputs": [
    {
     "ename": "ValueError",
     "evalue": "The truth value of an array with more than one element is ambiguous. Use a.any() or a.all()",
     "output_type": "error",
     "traceback": [
      "\u001b[0;31m---------------------------------------------------------------------------\u001b[0m",
      "\u001b[0;31mValueError\u001b[0m                                Traceback (most recent call last)",
      "\u001b[1;32m/Users/kyungyunlee/Desktop/PYTHON/PYTHON_UDEMY/HAGMANN_PANDAS/Appendix_Materials/Appendix3_Materials/Video_Lectures_NBs/NB_01_Numpy.ipynb Cell 176'\u001b[0m in \u001b[0;36m<cell line: 1>\u001b[0;34m()\u001b[0m\n\u001b[0;32m----> <a href='vscode-notebook-cell:/Users/kyungyunlee/Desktop/PYTHON/PYTHON_UDEMY/HAGMANN_PANDAS/Appendix_Materials/Appendix3_Materials/Video_Lectures_NBs/NB_01_Numpy.ipynb#ch0000174?line=0'>1</a>\u001b[0m cf[mask3 \u001b[39mand\u001b[39;00m mask4]\n",
      "\u001b[0;31mValueError\u001b[0m: The truth value of an array with more than one element is ambiguous. Use a.any() or a.all()"
     ]
    }
   ],
   "source": [
    "cf[mask3 and mask4] # 비트연산자만 사용해서 조건을 먹이는게 가능하다."
   ]
  },
  {
   "cell_type": "code",
   "execution_count": 208,
   "metadata": {},
   "outputs": [
    {
     "data": {
      "text/plain": [
       "array([20])"
      ]
     },
     "execution_count": 208,
     "metadata": {},
     "output_type": "execute_result"
    }
   ],
   "source": [
    "cf[mask3 & mask4] #결과적으로는 조건을 통해서도 값을 걸러내는 것이 가능하다는 것이 핵심이다."
   ]
  },
  {
   "cell_type": "code",
   "execution_count": null,
   "metadata": {},
   "outputs": [],
   "source": []
  },
  {
   "cell_type": "markdown",
   "metadata": {},
   "source": [
    "### Determining a Project´s Payback Period with np.where()"
   ]
  },
  {
   "cell_type": "code",
   "execution_count": 209,
   "metadata": {},
   "outputs": [],
   "source": [
    "import numpy as np"
   ]
  },
  {
   "cell_type": "markdown",
   "metadata": {},
   "source": [
    "The XYZ Company evaluates to buy an additional machine that will increase profits/cashflows by\n",
    "- 20 USD in t1,\n",
    "- 50 USD in t2, \n",
    "- 70 USD in t3, \n",
    "- 100 USD in t4,\n",
    "- 50 USD in t5. (each cf at period´s end)\n",
    "\n",
    "The machine costs 200 USD (Investment in to). \n",
    "\n",
    "- Calulate the __Payback Period__ (Time until initial Investment is recovered)"
   ]
  },
  {
   "cell_type": "code",
   "execution_count": 210,
   "metadata": {},
   "outputs": [
    {
     "data": {
      "text/plain": [
       "array([-200,   20,   50,   70,  100,   50])"
      ]
     },
     "execution_count": 210,
     "metadata": {},
     "output_type": "execute_result"
    }
   ],
   "source": [
    "cf = np.array([-200, 20, 50, 70, 100, 50])\n",
    "cf"
   ]
  },
  {
   "cell_type": "code",
   "execution_count": 211,
   "metadata": {},
   "outputs": [
    {
     "data": {
      "text/plain": [
       "array([False, False, False, False,  True,  True])"
      ]
     },
     "execution_count": 211,
     "metadata": {},
     "output_type": "execute_result"
    }
   ],
   "source": [
    "cf.cumsum() > 0"
   ]
  },
  {
   "cell_type": "code",
   "execution_count": 213,
   "metadata": {},
   "outputs": [
    {
     "data": {
      "text/plain": [
       "(array([4, 5]),)"
      ]
     },
     "execution_count": 213,
     "metadata": {},
     "output_type": "execute_result"
    }
   ],
   "source": [
    "np.where(cf.cumsum() > 0) # 조건을 만족하는 인덱스를 튜플로 뱉어준다."
   ]
  },
  {
   "cell_type": "code",
   "execution_count": 216,
   "metadata": {},
   "outputs": [
    {
     "data": {
      "text/plain": [
       "4"
      ]
     },
     "execution_count": 216,
     "metadata": {},
     "output_type": "execute_result"
    }
   ],
   "source": [
    "np.where(cf.cumsum() > 0)[0][0] # 튜플값 조회 후 배열 인덱스로 접근"
   ]
  },
  {
   "cell_type": "code",
   "execution_count": 219,
   "metadata": {},
   "outputs": [
    {
     "data": {
      "text/plain": [
       "4"
      ]
     },
     "execution_count": 219,
     "metadata": {},
     "output_type": "execute_result"
    }
   ],
   "source": [
    "np.nonzero(cf.cumsum() > 0)[0][0] # 0이 아닌 요소에 대해서만 인덱스를 반환한다. 지금은 true = 0 false = 1처럼 들어가기 떄문에 4를 반환했다. "
   ]
  },
  {
   "cell_type": "code",
   "execution_count": 220,
   "metadata": {},
   "outputs": [
    {
     "data": {
      "text/plain": [
       "array(['Not Break Even', 'Not Break Even', 'Not Break Even',\n",
       "       'Not Break Even', 'Break Even', 'Break Even'], dtype='<U14')"
      ]
     },
     "execution_count": 220,
     "metadata": {},
     "output_type": "execute_result"
    }
   ],
   "source": [
    "np.where(cf.cumsum() > 0, \"Break Even\", \"Not Break Even\") # 다음과 같이 true, false에 대한 값을 지정해서 넣어줄 수 있다."
   ]
  },
  {
   "cell_type": "code",
   "execution_count": null,
   "metadata": {},
   "outputs": [],
   "source": [
    "np.where(cf > 0, \"Positive\", \"Negative\") # 다음과 같이 조건을 먹이고 양, 음을 조정이 가능하다는 것이다."
   ]
  },
  {
   "cell_type": "code",
   "execution_count": null,
   "metadata": {},
   "outputs": [],
   "source": []
  },
  {
   "cell_type": "markdown",
   "metadata": {},
   "source": [
    "### Creating Numpy Arrays from Scratch"
   ]
  },
  {
   "cell_type": "code",
   "execution_count": 221,
   "metadata": {},
   "outputs": [],
   "source": [
    "import numpy as np"
   ]
  },
  {
   "cell_type": "code",
   "execution_count": 222,
   "metadata": {},
   "outputs": [
    {
     "data": {
      "text/plain": [
       "[0, 1, 2, 3, 4, 5]"
      ]
     },
     "execution_count": 222,
     "metadata": {},
     "output_type": "execute_result"
    }
   ],
   "source": [
    "list(range(6))"
   ]
  },
  {
   "cell_type": "code",
   "execution_count": 223,
   "metadata": {},
   "outputs": [
    {
     "data": {
      "text/plain": [
       "array([0, 1, 2, 3, 4, 5])"
      ]
     },
     "execution_count": 223,
     "metadata": {},
     "output_type": "execute_result"
    }
   ],
   "source": [
    "np.arange(6) # 넘파이 배열에서는 range대신 arange를 사용한다. np.arange함수"
   ]
  },
  {
   "cell_type": "code",
   "execution_count": 224,
   "metadata": {},
   "outputs": [
    {
     "data": {
      "text/plain": [
       "array([ 1,  2,  3,  4,  5,  6,  7,  8,  9, 10])"
      ]
     },
     "execution_count": 224,
     "metadata": {},
     "output_type": "execute_result"
    }
   ],
   "source": [
    "np.arange(1, 11)"
   ]
  },
  {
   "cell_type": "code",
   "execution_count": 225,
   "metadata": {},
   "outputs": [
    {
     "data": {
      "text/plain": [
       "array([1, 3, 5, 7, 9])"
      ]
     },
     "execution_count": 225,
     "metadata": {},
     "output_type": "execute_result"
    }
   ],
   "source": [
    "np.arange(1, 11, 2)"
   ]
  },
  {
   "cell_type": "code",
   "execution_count": 226,
   "metadata": {},
   "outputs": [
    {
     "data": {
      "text/plain": [
       "array([1. , 1.5, 2. , 2.5, 3. , 3.5, 4. , 4.5, 5. , 5.5, 6. , 6.5, 7. ,\n",
       "       7.5, 8. , 8.5, 9. , 9.5])"
      ]
     },
     "execution_count": 226,
     "metadata": {},
     "output_type": "execute_result"
    }
   ],
   "source": [
    "np.arange(1, 10, 0.5)"
   ]
  },
  {
   "cell_type": "code",
   "execution_count": 227,
   "metadata": {},
   "outputs": [
    {
     "data": {
      "text/plain": [
       "array([0.1, 0.2, 0.3, 0.4, 0.5, 0.6, 0.7, 0.8, 0.9])"
      ]
     },
     "execution_count": 227,
     "metadata": {},
     "output_type": "execute_result"
    }
   ],
   "source": [
    "np.arange(0.1, 1, 0.1)"
   ]
  },
  {
   "cell_type": "code",
   "execution_count": 228,
   "metadata": {},
   "outputs": [
    {
     "data": {
      "text/plain": [
       "array([0.01 , 0.011, 0.012, 0.013, 0.014, 0.015, 0.016, 0.017, 0.018,\n",
       "       0.019, 0.02 , 0.021, 0.022, 0.023, 0.024, 0.025, 0.026, 0.027,\n",
       "       0.028, 0.029, 0.03 , 0.031, 0.032, 0.033, 0.034, 0.035, 0.036,\n",
       "       0.037, 0.038, 0.039, 0.04 , 0.041, 0.042, 0.043, 0.044, 0.045,\n",
       "       0.046, 0.047, 0.048, 0.049, 0.05 , 0.051, 0.052, 0.053, 0.054,\n",
       "       0.055, 0.056, 0.057, 0.058, 0.059, 0.06 , 0.061, 0.062, 0.063,\n",
       "       0.064, 0.065, 0.066, 0.067, 0.068, 0.069, 0.07 , 0.071, 0.072,\n",
       "       0.073, 0.074, 0.075, 0.076, 0.077, 0.078, 0.079, 0.08 , 0.081,\n",
       "       0.082, 0.083, 0.084, 0.085, 0.086, 0.087, 0.088, 0.089, 0.09 ,\n",
       "       0.091, 0.092, 0.093, 0.094, 0.095, 0.096, 0.097, 0.098, 0.099,\n",
       "       0.1  , 0.101, 0.102, 0.103, 0.104, 0.105, 0.106, 0.107, 0.108,\n",
       "       0.109, 0.11 , 0.111, 0.112, 0.113, 0.114, 0.115, 0.116, 0.117,\n",
       "       0.118, 0.119, 0.12 , 0.121, 0.122, 0.123, 0.124, 0.125, 0.126,\n",
       "       0.127, 0.128, 0.129, 0.13 , 0.131, 0.132, 0.133, 0.134, 0.135,\n",
       "       0.136, 0.137, 0.138, 0.139, 0.14 , 0.141, 0.142, 0.143, 0.144,\n",
       "       0.145, 0.146, 0.147, 0.148, 0.149])"
      ]
     },
     "execution_count": 228,
     "metadata": {},
     "output_type": "execute_result"
    }
   ],
   "source": [
    "np.arange(0.01, 0.15, 0.001)"
   ]
  },
  {
   "cell_type": "code",
   "execution_count": 236,
   "metadata": {},
   "outputs": [
    {
     "data": {
      "text/plain": [
       "array([ 1.        ,  1.18367347,  1.36734694,  1.55102041,  1.73469388,\n",
       "        1.91836735,  2.10204082,  2.28571429,  2.46938776,  2.65306122,\n",
       "        2.83673469,  3.02040816,  3.20408163,  3.3877551 ,  3.57142857,\n",
       "        3.75510204,  3.93877551,  4.12244898,  4.30612245,  4.48979592,\n",
       "        4.67346939,  4.85714286,  5.04081633,  5.2244898 ,  5.40816327,\n",
       "        5.59183673,  5.7755102 ,  5.95918367,  6.14285714,  6.32653061,\n",
       "        6.51020408,  6.69387755,  6.87755102,  7.06122449,  7.24489796,\n",
       "        7.42857143,  7.6122449 ,  7.79591837,  7.97959184,  8.16326531,\n",
       "        8.34693878,  8.53061224,  8.71428571,  8.89795918,  9.08163265,\n",
       "        9.26530612,  9.44897959,  9.63265306,  9.81632653, 10.        ])"
      ]
     },
     "execution_count": 236,
     "metadata": {},
     "output_type": "execute_result"
    }
   ],
   "source": [
    "np.linspace(1, 10) # 처음과 종료값이 있는데, 특정 간격에서 일정한 간격을 두고 떨어진 숫자를 반환한다. default는 50으로 되어있다. 그래서 50개를 리턴하는 것."
   ]
  },
  {
   "cell_type": "code",
   "execution_count": 230,
   "metadata": {},
   "outputs": [
    {
     "data": {
      "text/plain": [
       "array([0.01      , 0.01014014, 0.01028028, 0.01042042, 0.01056056,\n",
       "       0.0107007 , 0.01084084, 0.01098098, 0.01112112, 0.01126126,\n",
       "       0.0114014 , 0.01154154, 0.01168168, 0.01182182, 0.01196196,\n",
       "       0.0121021 , 0.01224224, 0.01238238, 0.01252252, 0.01266266,\n",
       "       0.0128028 , 0.01294294, 0.01308308, 0.01322322, 0.01336336,\n",
       "       0.0135035 , 0.01364364, 0.01378378, 0.01392392, 0.01406406,\n",
       "       0.0142042 , 0.01434434, 0.01448448, 0.01462462, 0.01476476,\n",
       "       0.0149049 , 0.01504505, 0.01518519, 0.01532533, 0.01546547,\n",
       "       0.01560561, 0.01574575, 0.01588589, 0.01602603, 0.01616617,\n",
       "       0.01630631, 0.01644645, 0.01658659, 0.01672673, 0.01686687,\n",
       "       0.01700701, 0.01714715, 0.01728729, 0.01742743, 0.01756757,\n",
       "       0.01770771, 0.01784785, 0.01798799, 0.01812813, 0.01826827,\n",
       "       0.01840841, 0.01854855, 0.01868869, 0.01882883, 0.01896897,\n",
       "       0.01910911, 0.01924925, 0.01938939, 0.01952953, 0.01966967,\n",
       "       0.01980981, 0.01994995, 0.02009009, 0.02023023, 0.02037037,\n",
       "       0.02051051, 0.02065065, 0.02079079, 0.02093093, 0.02107107,\n",
       "       0.02121121, 0.02135135, 0.02149149, 0.02163163, 0.02177177,\n",
       "       0.02191191, 0.02205205, 0.02219219, 0.02233233, 0.02247247,\n",
       "       0.02261261, 0.02275275, 0.02289289, 0.02303303, 0.02317317,\n",
       "       0.02331331, 0.02345345, 0.02359359, 0.02373373, 0.02387387,\n",
       "       0.02401401, 0.02415415, 0.02429429, 0.02443443, 0.02457457,\n",
       "       0.02471471, 0.02485485, 0.02499499, 0.02513514, 0.02527528,\n",
       "       0.02541542, 0.02555556, 0.0256957 , 0.02583584, 0.02597598,\n",
       "       0.02611612, 0.02625626, 0.0263964 , 0.02653654, 0.02667668,\n",
       "       0.02681682, 0.02695696, 0.0270971 , 0.02723724, 0.02737738,\n",
       "       0.02751752, 0.02765766, 0.0277978 , 0.02793794, 0.02807808,\n",
       "       0.02821822, 0.02835836, 0.0284985 , 0.02863864, 0.02877878,\n",
       "       0.02891892, 0.02905906, 0.0291992 , 0.02933934, 0.02947948,\n",
       "       0.02961962, 0.02975976, 0.0298999 , 0.03004004, 0.03018018,\n",
       "       0.03032032, 0.03046046, 0.0306006 , 0.03074074, 0.03088088,\n",
       "       0.03102102, 0.03116116, 0.0313013 , 0.03144144, 0.03158158,\n",
       "       0.03172172, 0.03186186, 0.032002  , 0.03214214, 0.03228228,\n",
       "       0.03242242, 0.03256256, 0.0327027 , 0.03284284, 0.03298298,\n",
       "       0.03312312, 0.03326326, 0.0334034 , 0.03354354, 0.03368368,\n",
       "       0.03382382, 0.03396396, 0.0341041 , 0.03424424, 0.03438438,\n",
       "       0.03452452, 0.03466466, 0.0348048 , 0.03494494, 0.03508509,\n",
       "       0.03522523, 0.03536537, 0.03550551, 0.03564565, 0.03578579,\n",
       "       0.03592593, 0.03606607, 0.03620621, 0.03634635, 0.03648649,\n",
       "       0.03662663, 0.03676677, 0.03690691, 0.03704705, 0.03718719,\n",
       "       0.03732733, 0.03746747, 0.03760761, 0.03774775, 0.03788789,\n",
       "       0.03802803, 0.03816817, 0.03830831, 0.03844845, 0.03858859,\n",
       "       0.03872873, 0.03886887, 0.03900901, 0.03914915, 0.03928929,\n",
       "       0.03942943, 0.03956957, 0.03970971, 0.03984985, 0.03998999,\n",
       "       0.04013013, 0.04027027, 0.04041041, 0.04055055, 0.04069069,\n",
       "       0.04083083, 0.04097097, 0.04111111, 0.04125125, 0.04139139,\n",
       "       0.04153153, 0.04167167, 0.04181181, 0.04195195, 0.04209209,\n",
       "       0.04223223, 0.04237237, 0.04251251, 0.04265265, 0.04279279,\n",
       "       0.04293293, 0.04307307, 0.04321321, 0.04335335, 0.04349349,\n",
       "       0.04363363, 0.04377377, 0.04391391, 0.04405405, 0.04419419,\n",
       "       0.04433433, 0.04447447, 0.04461461, 0.04475475, 0.04489489,\n",
       "       0.04503504, 0.04517518, 0.04531532, 0.04545546, 0.0455956 ,\n",
       "       0.04573574, 0.04587588, 0.04601602, 0.04615616, 0.0462963 ,\n",
       "       0.04643644, 0.04657658, 0.04671672, 0.04685686, 0.046997  ,\n",
       "       0.04713714, 0.04727728, 0.04741742, 0.04755756, 0.0476977 ,\n",
       "       0.04783784, 0.04797798, 0.04811812, 0.04825826, 0.0483984 ,\n",
       "       0.04853854, 0.04867868, 0.04881882, 0.04895896, 0.0490991 ,\n",
       "       0.04923924, 0.04937938, 0.04951952, 0.04965966, 0.0497998 ,\n",
       "       0.04993994, 0.05008008, 0.05022022, 0.05036036, 0.0505005 ,\n",
       "       0.05064064, 0.05078078, 0.05092092, 0.05106106, 0.0512012 ,\n",
       "       0.05134134, 0.05148148, 0.05162162, 0.05176176, 0.0519019 ,\n",
       "       0.05204204, 0.05218218, 0.05232232, 0.05246246, 0.0526026 ,\n",
       "       0.05274274, 0.05288288, 0.05302302, 0.05316316, 0.0533033 ,\n",
       "       0.05344344, 0.05358358, 0.05372372, 0.05386386, 0.054004  ,\n",
       "       0.05414414, 0.05428428, 0.05442442, 0.05456456, 0.0547047 ,\n",
       "       0.05484484, 0.05498498, 0.05512513, 0.05526527, 0.05540541,\n",
       "       0.05554555, 0.05568569, 0.05582583, 0.05596597, 0.05610611,\n",
       "       0.05624625, 0.05638639, 0.05652653, 0.05666667, 0.05680681,\n",
       "       0.05694695, 0.05708709, 0.05722723, 0.05736737, 0.05750751,\n",
       "       0.05764765, 0.05778779, 0.05792793, 0.05806807, 0.05820821,\n",
       "       0.05834835, 0.05848849, 0.05862863, 0.05876877, 0.05890891,\n",
       "       0.05904905, 0.05918919, 0.05932933, 0.05946947, 0.05960961,\n",
       "       0.05974975, 0.05988989, 0.06003003, 0.06017017, 0.06031031,\n",
       "       0.06045045, 0.06059059, 0.06073073, 0.06087087, 0.06101101,\n",
       "       0.06115115, 0.06129129, 0.06143143, 0.06157157, 0.06171171,\n",
       "       0.06185185, 0.06199199, 0.06213213, 0.06227227, 0.06241241,\n",
       "       0.06255255, 0.06269269, 0.06283283, 0.06297297, 0.06311311,\n",
       "       0.06325325, 0.06339339, 0.06353353, 0.06367367, 0.06381381,\n",
       "       0.06395395, 0.06409409, 0.06423423, 0.06437437, 0.06451451,\n",
       "       0.06465465, 0.06479479, 0.06493493, 0.06507508, 0.06521522,\n",
       "       0.06535536, 0.0654955 , 0.06563564, 0.06577578, 0.06591592,\n",
       "       0.06605606, 0.0661962 , 0.06633634, 0.06647648, 0.06661662,\n",
       "       0.06675676, 0.0668969 , 0.06703704, 0.06717718, 0.06731732,\n",
       "       0.06745746, 0.0675976 , 0.06773774, 0.06787788, 0.06801802,\n",
       "       0.06815816, 0.0682983 , 0.06843844, 0.06857858, 0.06871872,\n",
       "       0.06885886, 0.068999  , 0.06913914, 0.06927928, 0.06941942,\n",
       "       0.06955956, 0.0696997 , 0.06983984, 0.06997998, 0.07012012,\n",
       "       0.07026026, 0.0704004 , 0.07054054, 0.07068068, 0.07082082,\n",
       "       0.07096096, 0.0711011 , 0.07124124, 0.07138138, 0.07152152,\n",
       "       0.07166166, 0.0718018 , 0.07194194, 0.07208208, 0.07222222,\n",
       "       0.07236236, 0.0725025 , 0.07264264, 0.07278278, 0.07292292,\n",
       "       0.07306306, 0.0732032 , 0.07334334, 0.07348348, 0.07362362,\n",
       "       0.07376376, 0.0739039 , 0.07404404, 0.07418418, 0.07432432,\n",
       "       0.07446446, 0.0746046 , 0.07474474, 0.07488488, 0.07502503,\n",
       "       0.07516517, 0.07530531, 0.07544545, 0.07558559, 0.07572573,\n",
       "       0.07586587, 0.07600601, 0.07614615, 0.07628629, 0.07642643,\n",
       "       0.07656657, 0.07670671, 0.07684685, 0.07698699, 0.07712713,\n",
       "       0.07726727, 0.07740741, 0.07754755, 0.07768769, 0.07782783,\n",
       "       0.07796797, 0.07810811, 0.07824825, 0.07838839, 0.07852853,\n",
       "       0.07866867, 0.07880881, 0.07894895, 0.07908909, 0.07922923,\n",
       "       0.07936937, 0.07950951, 0.07964965, 0.07978979, 0.07992993,\n",
       "       0.08007007, 0.08021021, 0.08035035, 0.08049049, 0.08063063,\n",
       "       0.08077077, 0.08091091, 0.08105105, 0.08119119, 0.08133133,\n",
       "       0.08147147, 0.08161161, 0.08175175, 0.08189189, 0.08203203,\n",
       "       0.08217217, 0.08231231, 0.08245245, 0.08259259, 0.08273273,\n",
       "       0.08287287, 0.08301301, 0.08315315, 0.08329329, 0.08343343,\n",
       "       0.08357357, 0.08371371, 0.08385385, 0.08399399, 0.08413413,\n",
       "       0.08427427, 0.08441441, 0.08455455, 0.08469469, 0.08483483,\n",
       "       0.08497497, 0.08511512, 0.08525526, 0.0853954 , 0.08553554,\n",
       "       0.08567568, 0.08581582, 0.08595596, 0.0860961 , 0.08623624,\n",
       "       0.08637638, 0.08651652, 0.08665666, 0.0867968 , 0.08693694,\n",
       "       0.08707708, 0.08721722, 0.08735736, 0.0874975 , 0.08763764,\n",
       "       0.08777778, 0.08791792, 0.08805806, 0.0881982 , 0.08833834,\n",
       "       0.08847848, 0.08861862, 0.08875876, 0.0888989 , 0.08903904,\n",
       "       0.08917918, 0.08931932, 0.08945946, 0.0895996 , 0.08973974,\n",
       "       0.08987988, 0.09002002, 0.09016016, 0.0903003 , 0.09044044,\n",
       "       0.09058058, 0.09072072, 0.09086086, 0.091001  , 0.09114114,\n",
       "       0.09128128, 0.09142142, 0.09156156, 0.0917017 , 0.09184184,\n",
       "       0.09198198, 0.09212212, 0.09226226, 0.0924024 , 0.09254254,\n",
       "       0.09268268, 0.09282282, 0.09296296, 0.0931031 , 0.09324324,\n",
       "       0.09338338, 0.09352352, 0.09366366, 0.0938038 , 0.09394394,\n",
       "       0.09408408, 0.09422422, 0.09436436, 0.0945045 , 0.09464464,\n",
       "       0.09478478, 0.09492492, 0.09506507, 0.09520521, 0.09534535,\n",
       "       0.09548549, 0.09562563, 0.09576577, 0.09590591, 0.09604605,\n",
       "       0.09618619, 0.09632633, 0.09646647, 0.09660661, 0.09674675,\n",
       "       0.09688689, 0.09702703, 0.09716717, 0.09730731, 0.09744745,\n",
       "       0.09758759, 0.09772773, 0.09786787, 0.09800801, 0.09814815,\n",
       "       0.09828829, 0.09842843, 0.09856857, 0.09870871, 0.09884885,\n",
       "       0.09898899, 0.09912913, 0.09926927, 0.09940941, 0.09954955,\n",
       "       0.09968969, 0.09982983, 0.09996997, 0.10011011, 0.10025025,\n",
       "       0.10039039, 0.10053053, 0.10067067, 0.10081081, 0.10095095,\n",
       "       0.10109109, 0.10123123, 0.10137137, 0.10151151, 0.10165165,\n",
       "       0.10179179, 0.10193193, 0.10207207, 0.10221221, 0.10235235,\n",
       "       0.10249249, 0.10263263, 0.10277277, 0.10291291, 0.10305305,\n",
       "       0.10319319, 0.10333333, 0.10347347, 0.10361361, 0.10375375,\n",
       "       0.10389389, 0.10403403, 0.10417417, 0.10431431, 0.10445445,\n",
       "       0.10459459, 0.10473473, 0.10487487, 0.10501502, 0.10515516,\n",
       "       0.1052953 , 0.10543544, 0.10557558, 0.10571572, 0.10585586,\n",
       "       0.105996  , 0.10613614, 0.10627628, 0.10641642, 0.10655656,\n",
       "       0.1066967 , 0.10683684, 0.10697698, 0.10711712, 0.10725726,\n",
       "       0.1073974 , 0.10753754, 0.10767768, 0.10781782, 0.10795796,\n",
       "       0.1080981 , 0.10823824, 0.10837838, 0.10851852, 0.10865866,\n",
       "       0.1087988 , 0.10893894, 0.10907908, 0.10921922, 0.10935936,\n",
       "       0.1094995 , 0.10963964, 0.10977978, 0.10991992, 0.11006006,\n",
       "       0.1102002 , 0.11034034, 0.11048048, 0.11062062, 0.11076076,\n",
       "       0.1109009 , 0.11104104, 0.11118118, 0.11132132, 0.11146146,\n",
       "       0.1116016 , 0.11174174, 0.11188188, 0.11202202, 0.11216216,\n",
       "       0.1123023 , 0.11244244, 0.11258258, 0.11272272, 0.11286286,\n",
       "       0.113003  , 0.11314314, 0.11328328, 0.11342342, 0.11356356,\n",
       "       0.1137037 , 0.11384384, 0.11398398, 0.11412412, 0.11426426,\n",
       "       0.1144044 , 0.11454454, 0.11468468, 0.11482482, 0.11496496,\n",
       "       0.11510511, 0.11524525, 0.11538539, 0.11552553, 0.11566567,\n",
       "       0.11580581, 0.11594595, 0.11608609, 0.11622623, 0.11636637,\n",
       "       0.11650651, 0.11664665, 0.11678679, 0.11692693, 0.11706707,\n",
       "       0.11720721, 0.11734735, 0.11748749, 0.11762763, 0.11776777,\n",
       "       0.11790791, 0.11804805, 0.11818819, 0.11832833, 0.11846847,\n",
       "       0.11860861, 0.11874875, 0.11888889, 0.11902903, 0.11916917,\n",
       "       0.11930931, 0.11944945, 0.11958959, 0.11972973, 0.11986987,\n",
       "       0.12001001, 0.12015015, 0.12029029, 0.12043043, 0.12057057,\n",
       "       0.12071071, 0.12085085, 0.12099099, 0.12113113, 0.12127127,\n",
       "       0.12141141, 0.12155155, 0.12169169, 0.12183183, 0.12197197,\n",
       "       0.12211211, 0.12225225, 0.12239239, 0.12253253, 0.12267267,\n",
       "       0.12281281, 0.12295295, 0.12309309, 0.12323323, 0.12337337,\n",
       "       0.12351351, 0.12365365, 0.12379379, 0.12393393, 0.12407407,\n",
       "       0.12421421, 0.12435435, 0.12449449, 0.12463463, 0.12477477,\n",
       "       0.12491491, 0.12505506, 0.1251952 , 0.12533534, 0.12547548,\n",
       "       0.12561562, 0.12575576, 0.1258959 , 0.12603604, 0.12617618,\n",
       "       0.12631632, 0.12645646, 0.1265966 , 0.12673674, 0.12687688,\n",
       "       0.12701702, 0.12715716, 0.1272973 , 0.12743744, 0.12757758,\n",
       "       0.12771772, 0.12785786, 0.127998  , 0.12813814, 0.12827828,\n",
       "       0.12841842, 0.12855856, 0.1286987 , 0.12883884, 0.12897898,\n",
       "       0.12911912, 0.12925926, 0.1293994 , 0.12953954, 0.12967968,\n",
       "       0.12981982, 0.12995996, 0.1301001 , 0.13024024, 0.13038038,\n",
       "       0.13052052, 0.13066066, 0.1308008 , 0.13094094, 0.13108108,\n",
       "       0.13122122, 0.13136136, 0.1315015 , 0.13164164, 0.13178178,\n",
       "       0.13192192, 0.13206206, 0.1322022 , 0.13234234, 0.13248248,\n",
       "       0.13262262, 0.13276276, 0.1329029 , 0.13304304, 0.13318318,\n",
       "       0.13332332, 0.13346346, 0.1336036 , 0.13374374, 0.13388388,\n",
       "       0.13402402, 0.13416416, 0.1343043 , 0.13444444, 0.13458458,\n",
       "       0.13472472, 0.13486486, 0.13500501, 0.13514515, 0.13528529,\n",
       "       0.13542543, 0.13556557, 0.13570571, 0.13584585, 0.13598599,\n",
       "       0.13612613, 0.13626627, 0.13640641, 0.13654655, 0.13668669,\n",
       "       0.13682683, 0.13696697, 0.13710711, 0.13724725, 0.13738739,\n",
       "       0.13752753, 0.13766767, 0.13780781, 0.13794795, 0.13808809,\n",
       "       0.13822823, 0.13836837, 0.13850851, 0.13864865, 0.13878879,\n",
       "       0.13892893, 0.13906907, 0.13920921, 0.13934935, 0.13948949,\n",
       "       0.13962963, 0.13976977, 0.13990991, 0.14005005, 0.14019019,\n",
       "       0.14033033, 0.14047047, 0.14061061, 0.14075075, 0.14089089,\n",
       "       0.14103103, 0.14117117, 0.14131131, 0.14145145, 0.14159159,\n",
       "       0.14173173, 0.14187187, 0.14201201, 0.14215215, 0.14229229,\n",
       "       0.14243243, 0.14257257, 0.14271271, 0.14285285, 0.14299299,\n",
       "       0.14313313, 0.14327327, 0.14341341, 0.14355355, 0.14369369,\n",
       "       0.14383383, 0.14397397, 0.14411411, 0.14425425, 0.14439439,\n",
       "       0.14453453, 0.14467467, 0.14481481, 0.14495495, 0.1450951 ,\n",
       "       0.14523524, 0.14537538, 0.14551552, 0.14565566, 0.1457958 ,\n",
       "       0.14593594, 0.14607608, 0.14621622, 0.14635636, 0.1464965 ,\n",
       "       0.14663664, 0.14677678, 0.14691692, 0.14705706, 0.1471972 ,\n",
       "       0.14733734, 0.14747748, 0.14761762, 0.14775776, 0.1478979 ,\n",
       "       0.14803804, 0.14817818, 0.14831832, 0.14845846, 0.1485986 ,\n",
       "       0.14873874, 0.14887888, 0.14901902, 0.14915916, 0.1492993 ,\n",
       "       0.14943944, 0.14957958, 0.14971972, 0.14985986, 0.15      ])"
      ]
     },
     "execution_count": 230,
     "metadata": {},
     "output_type": "execute_result"
    }
   ],
   "source": [
    "np.linspace(0.01, 0.15, num = 1000) # 0.01과 0.15사이를 동일하게 1000개의 단위로 나눈다."
   ]
  },
  {
   "cell_type": "code",
   "execution_count": 231,
   "metadata": {},
   "outputs": [
    {
     "data": {
      "text/plain": [
       "array([-10.        ,  -9.97997998,  -9.95995996,  -9.93993994,\n",
       "        -9.91991992,  -9.8998999 ,  -9.87987988,  -9.85985986,\n",
       "        -9.83983984,  -9.81981982,  -9.7997998 ,  -9.77977978,\n",
       "        -9.75975976,  -9.73973974,  -9.71971972,  -9.6996997 ,\n",
       "        -9.67967968,  -9.65965966,  -9.63963964,  -9.61961962,\n",
       "        -9.5995996 ,  -9.57957958,  -9.55955956,  -9.53953954,\n",
       "        -9.51951952,  -9.4994995 ,  -9.47947948,  -9.45945946,\n",
       "        -9.43943944,  -9.41941942,  -9.3993994 ,  -9.37937938,\n",
       "        -9.35935936,  -9.33933934,  -9.31931932,  -9.2992993 ,\n",
       "        -9.27927928,  -9.25925926,  -9.23923924,  -9.21921922,\n",
       "        -9.1991992 ,  -9.17917918,  -9.15915916,  -9.13913914,\n",
       "        -9.11911912,  -9.0990991 ,  -9.07907908,  -9.05905906,\n",
       "        -9.03903904,  -9.01901902,  -8.998999  ,  -8.97897898,\n",
       "        -8.95895896,  -8.93893894,  -8.91891892,  -8.8988989 ,\n",
       "        -8.87887888,  -8.85885886,  -8.83883884,  -8.81881882,\n",
       "        -8.7987988 ,  -8.77877878,  -8.75875876,  -8.73873874,\n",
       "        -8.71871872,  -8.6986987 ,  -8.67867868,  -8.65865866,\n",
       "        -8.63863864,  -8.61861862,  -8.5985986 ,  -8.57857858,\n",
       "        -8.55855856,  -8.53853854,  -8.51851852,  -8.4984985 ,\n",
       "        -8.47847848,  -8.45845846,  -8.43843844,  -8.41841842,\n",
       "        -8.3983984 ,  -8.37837838,  -8.35835836,  -8.33833834,\n",
       "        -8.31831832,  -8.2982983 ,  -8.27827828,  -8.25825826,\n",
       "        -8.23823824,  -8.21821822,  -8.1981982 ,  -8.17817818,\n",
       "        -8.15815816,  -8.13813814,  -8.11811812,  -8.0980981 ,\n",
       "        -8.07807808,  -8.05805806,  -8.03803804,  -8.01801802,\n",
       "        -7.997998  ,  -7.97797798,  -7.95795796,  -7.93793794,\n",
       "        -7.91791792,  -7.8978979 ,  -7.87787788,  -7.85785786,\n",
       "        -7.83783784,  -7.81781782,  -7.7977978 ,  -7.77777778,\n",
       "        -7.75775776,  -7.73773774,  -7.71771772,  -7.6976977 ,\n",
       "        -7.67767768,  -7.65765766,  -7.63763764,  -7.61761762,\n",
       "        -7.5975976 ,  -7.57757758,  -7.55755756,  -7.53753754,\n",
       "        -7.51751752,  -7.4974975 ,  -7.47747748,  -7.45745746,\n",
       "        -7.43743744,  -7.41741742,  -7.3973974 ,  -7.37737738,\n",
       "        -7.35735736,  -7.33733734,  -7.31731732,  -7.2972973 ,\n",
       "        -7.27727728,  -7.25725726,  -7.23723724,  -7.21721722,\n",
       "        -7.1971972 ,  -7.17717718,  -7.15715716,  -7.13713714,\n",
       "        -7.11711712,  -7.0970971 ,  -7.07707708,  -7.05705706,\n",
       "        -7.03703704,  -7.01701702,  -6.996997  ,  -6.97697698,\n",
       "        -6.95695696,  -6.93693694,  -6.91691692,  -6.8968969 ,\n",
       "        -6.87687688,  -6.85685686,  -6.83683684,  -6.81681682,\n",
       "        -6.7967968 ,  -6.77677678,  -6.75675676,  -6.73673674,\n",
       "        -6.71671672,  -6.6966967 ,  -6.67667668,  -6.65665666,\n",
       "        -6.63663664,  -6.61661662,  -6.5965966 ,  -6.57657658,\n",
       "        -6.55655656,  -6.53653654,  -6.51651652,  -6.4964965 ,\n",
       "        -6.47647648,  -6.45645646,  -6.43643644,  -6.41641642,\n",
       "        -6.3963964 ,  -6.37637638,  -6.35635636,  -6.33633634,\n",
       "        -6.31631632,  -6.2962963 ,  -6.27627628,  -6.25625626,\n",
       "        -6.23623624,  -6.21621622,  -6.1961962 ,  -6.17617618,\n",
       "        -6.15615616,  -6.13613614,  -6.11611612,  -6.0960961 ,\n",
       "        -6.07607608,  -6.05605606,  -6.03603604,  -6.01601602,\n",
       "        -5.995996  ,  -5.97597598,  -5.95595596,  -5.93593594,\n",
       "        -5.91591592,  -5.8958959 ,  -5.87587588,  -5.85585586,\n",
       "        -5.83583584,  -5.81581582,  -5.7957958 ,  -5.77577578,\n",
       "        -5.75575576,  -5.73573574,  -5.71571572,  -5.6956957 ,\n",
       "        -5.67567568,  -5.65565566,  -5.63563564,  -5.61561562,\n",
       "        -5.5955956 ,  -5.57557558,  -5.55555556,  -5.53553554,\n",
       "        -5.51551552,  -5.4954955 ,  -5.47547548,  -5.45545546,\n",
       "        -5.43543544,  -5.41541542,  -5.3953954 ,  -5.37537538,\n",
       "        -5.35535536,  -5.33533534,  -5.31531532,  -5.2952953 ,\n",
       "        -5.27527528,  -5.25525526,  -5.23523524,  -5.21521522,\n",
       "        -5.1951952 ,  -5.17517518,  -5.15515516,  -5.13513514,\n",
       "        -5.11511512,  -5.0950951 ,  -5.07507508,  -5.05505506,\n",
       "        -5.03503504,  -5.01501502,  -4.99499499,  -4.97497497,\n",
       "        -4.95495495,  -4.93493493,  -4.91491491,  -4.89489489,\n",
       "        -4.87487487,  -4.85485485,  -4.83483483,  -4.81481481,\n",
       "        -4.79479479,  -4.77477477,  -4.75475475,  -4.73473473,\n",
       "        -4.71471471,  -4.69469469,  -4.67467467,  -4.65465465,\n",
       "        -4.63463463,  -4.61461461,  -4.59459459,  -4.57457457,\n",
       "        -4.55455455,  -4.53453453,  -4.51451451,  -4.49449449,\n",
       "        -4.47447447,  -4.45445445,  -4.43443443,  -4.41441441,\n",
       "        -4.39439439,  -4.37437437,  -4.35435435,  -4.33433433,\n",
       "        -4.31431431,  -4.29429429,  -4.27427427,  -4.25425425,\n",
       "        -4.23423423,  -4.21421421,  -4.19419419,  -4.17417417,\n",
       "        -4.15415415,  -4.13413413,  -4.11411411,  -4.09409409,\n",
       "        -4.07407407,  -4.05405405,  -4.03403403,  -4.01401401,\n",
       "        -3.99399399,  -3.97397397,  -3.95395395,  -3.93393393,\n",
       "        -3.91391391,  -3.89389389,  -3.87387387,  -3.85385385,\n",
       "        -3.83383383,  -3.81381381,  -3.79379379,  -3.77377377,\n",
       "        -3.75375375,  -3.73373373,  -3.71371371,  -3.69369369,\n",
       "        -3.67367367,  -3.65365365,  -3.63363363,  -3.61361361,\n",
       "        -3.59359359,  -3.57357357,  -3.55355355,  -3.53353353,\n",
       "        -3.51351351,  -3.49349349,  -3.47347347,  -3.45345345,\n",
       "        -3.43343343,  -3.41341341,  -3.39339339,  -3.37337337,\n",
       "        -3.35335335,  -3.33333333,  -3.31331331,  -3.29329329,\n",
       "        -3.27327327,  -3.25325325,  -3.23323323,  -3.21321321,\n",
       "        -3.19319319,  -3.17317317,  -3.15315315,  -3.13313313,\n",
       "        -3.11311311,  -3.09309309,  -3.07307307,  -3.05305305,\n",
       "        -3.03303303,  -3.01301301,  -2.99299299,  -2.97297297,\n",
       "        -2.95295295,  -2.93293293,  -2.91291291,  -2.89289289,\n",
       "        -2.87287287,  -2.85285285,  -2.83283283,  -2.81281281,\n",
       "        -2.79279279,  -2.77277277,  -2.75275275,  -2.73273273,\n",
       "        -2.71271271,  -2.69269269,  -2.67267267,  -2.65265265,\n",
       "        -2.63263263,  -2.61261261,  -2.59259259,  -2.57257257,\n",
       "        -2.55255255,  -2.53253253,  -2.51251251,  -2.49249249,\n",
       "        -2.47247247,  -2.45245245,  -2.43243243,  -2.41241241,\n",
       "        -2.39239239,  -2.37237237,  -2.35235235,  -2.33233233,\n",
       "        -2.31231231,  -2.29229229,  -2.27227227,  -2.25225225,\n",
       "        -2.23223223,  -2.21221221,  -2.19219219,  -2.17217217,\n",
       "        -2.15215215,  -2.13213213,  -2.11211211,  -2.09209209,\n",
       "        -2.07207207,  -2.05205205,  -2.03203203,  -2.01201201,\n",
       "        -1.99199199,  -1.97197197,  -1.95195195,  -1.93193193,\n",
       "        -1.91191191,  -1.89189189,  -1.87187187,  -1.85185185,\n",
       "        -1.83183183,  -1.81181181,  -1.79179179,  -1.77177177,\n",
       "        -1.75175175,  -1.73173173,  -1.71171171,  -1.69169169,\n",
       "        -1.67167167,  -1.65165165,  -1.63163163,  -1.61161161,\n",
       "        -1.59159159,  -1.57157157,  -1.55155155,  -1.53153153,\n",
       "        -1.51151151,  -1.49149149,  -1.47147147,  -1.45145145,\n",
       "        -1.43143143,  -1.41141141,  -1.39139139,  -1.37137137,\n",
       "        -1.35135135,  -1.33133133,  -1.31131131,  -1.29129129,\n",
       "        -1.27127127,  -1.25125125,  -1.23123123,  -1.21121121,\n",
       "        -1.19119119,  -1.17117117,  -1.15115115,  -1.13113113,\n",
       "        -1.11111111,  -1.09109109,  -1.07107107,  -1.05105105,\n",
       "        -1.03103103,  -1.01101101,  -0.99099099,  -0.97097097,\n",
       "        -0.95095095,  -0.93093093,  -0.91091091,  -0.89089089,\n",
       "        -0.87087087,  -0.85085085,  -0.83083083,  -0.81081081,\n",
       "        -0.79079079,  -0.77077077,  -0.75075075,  -0.73073073,\n",
       "        -0.71071071,  -0.69069069,  -0.67067067,  -0.65065065,\n",
       "        -0.63063063,  -0.61061061,  -0.59059059,  -0.57057057,\n",
       "        -0.55055055,  -0.53053053,  -0.51051051,  -0.49049049,\n",
       "        -0.47047047,  -0.45045045,  -0.43043043,  -0.41041041,\n",
       "        -0.39039039,  -0.37037037,  -0.35035035,  -0.33033033,\n",
       "        -0.31031031,  -0.29029029,  -0.27027027,  -0.25025025,\n",
       "        -0.23023023,  -0.21021021,  -0.19019019,  -0.17017017,\n",
       "        -0.15015015,  -0.13013013,  -0.11011011,  -0.09009009,\n",
       "        -0.07007007,  -0.05005005,  -0.03003003,  -0.01001001,\n",
       "         0.01001001,   0.03003003,   0.05005005,   0.07007007,\n",
       "         0.09009009,   0.11011011,   0.13013013,   0.15015015,\n",
       "         0.17017017,   0.19019019,   0.21021021,   0.23023023,\n",
       "         0.25025025,   0.27027027,   0.29029029,   0.31031031,\n",
       "         0.33033033,   0.35035035,   0.37037037,   0.39039039,\n",
       "         0.41041041,   0.43043043,   0.45045045,   0.47047047,\n",
       "         0.49049049,   0.51051051,   0.53053053,   0.55055055,\n",
       "         0.57057057,   0.59059059,   0.61061061,   0.63063063,\n",
       "         0.65065065,   0.67067067,   0.69069069,   0.71071071,\n",
       "         0.73073073,   0.75075075,   0.77077077,   0.79079079,\n",
       "         0.81081081,   0.83083083,   0.85085085,   0.87087087,\n",
       "         0.89089089,   0.91091091,   0.93093093,   0.95095095,\n",
       "         0.97097097,   0.99099099,   1.01101101,   1.03103103,\n",
       "         1.05105105,   1.07107107,   1.09109109,   1.11111111,\n",
       "         1.13113113,   1.15115115,   1.17117117,   1.19119119,\n",
       "         1.21121121,   1.23123123,   1.25125125,   1.27127127,\n",
       "         1.29129129,   1.31131131,   1.33133133,   1.35135135,\n",
       "         1.37137137,   1.39139139,   1.41141141,   1.43143143,\n",
       "         1.45145145,   1.47147147,   1.49149149,   1.51151151,\n",
       "         1.53153153,   1.55155155,   1.57157157,   1.59159159,\n",
       "         1.61161161,   1.63163163,   1.65165165,   1.67167167,\n",
       "         1.69169169,   1.71171171,   1.73173173,   1.75175175,\n",
       "         1.77177177,   1.79179179,   1.81181181,   1.83183183,\n",
       "         1.85185185,   1.87187187,   1.89189189,   1.91191191,\n",
       "         1.93193193,   1.95195195,   1.97197197,   1.99199199,\n",
       "         2.01201201,   2.03203203,   2.05205205,   2.07207207,\n",
       "         2.09209209,   2.11211211,   2.13213213,   2.15215215,\n",
       "         2.17217217,   2.19219219,   2.21221221,   2.23223223,\n",
       "         2.25225225,   2.27227227,   2.29229229,   2.31231231,\n",
       "         2.33233233,   2.35235235,   2.37237237,   2.39239239,\n",
       "         2.41241241,   2.43243243,   2.45245245,   2.47247247,\n",
       "         2.49249249,   2.51251251,   2.53253253,   2.55255255,\n",
       "         2.57257257,   2.59259259,   2.61261261,   2.63263263,\n",
       "         2.65265265,   2.67267267,   2.69269269,   2.71271271,\n",
       "         2.73273273,   2.75275275,   2.77277277,   2.79279279,\n",
       "         2.81281281,   2.83283283,   2.85285285,   2.87287287,\n",
       "         2.89289289,   2.91291291,   2.93293293,   2.95295295,\n",
       "         2.97297297,   2.99299299,   3.01301301,   3.03303303,\n",
       "         3.05305305,   3.07307307,   3.09309309,   3.11311311,\n",
       "         3.13313313,   3.15315315,   3.17317317,   3.19319319,\n",
       "         3.21321321,   3.23323323,   3.25325325,   3.27327327,\n",
       "         3.29329329,   3.31331331,   3.33333333,   3.35335335,\n",
       "         3.37337337,   3.39339339,   3.41341341,   3.43343343,\n",
       "         3.45345345,   3.47347347,   3.49349349,   3.51351351,\n",
       "         3.53353353,   3.55355355,   3.57357357,   3.59359359,\n",
       "         3.61361361,   3.63363363,   3.65365365,   3.67367367,\n",
       "         3.69369369,   3.71371371,   3.73373373,   3.75375375,\n",
       "         3.77377377,   3.79379379,   3.81381381,   3.83383383,\n",
       "         3.85385385,   3.87387387,   3.89389389,   3.91391391,\n",
       "         3.93393393,   3.95395395,   3.97397397,   3.99399399,\n",
       "         4.01401401,   4.03403403,   4.05405405,   4.07407407,\n",
       "         4.09409409,   4.11411411,   4.13413413,   4.15415415,\n",
       "         4.17417417,   4.19419419,   4.21421421,   4.23423423,\n",
       "         4.25425425,   4.27427427,   4.29429429,   4.31431431,\n",
       "         4.33433433,   4.35435435,   4.37437437,   4.39439439,\n",
       "         4.41441441,   4.43443443,   4.45445445,   4.47447447,\n",
       "         4.49449449,   4.51451451,   4.53453453,   4.55455455,\n",
       "         4.57457457,   4.59459459,   4.61461461,   4.63463463,\n",
       "         4.65465465,   4.67467467,   4.69469469,   4.71471471,\n",
       "         4.73473473,   4.75475475,   4.77477477,   4.79479479,\n",
       "         4.81481481,   4.83483483,   4.85485485,   4.87487487,\n",
       "         4.89489489,   4.91491491,   4.93493493,   4.95495495,\n",
       "         4.97497497,   4.99499499,   5.01501502,   5.03503504,\n",
       "         5.05505506,   5.07507508,   5.0950951 ,   5.11511512,\n",
       "         5.13513514,   5.15515516,   5.17517518,   5.1951952 ,\n",
       "         5.21521522,   5.23523524,   5.25525526,   5.27527528,\n",
       "         5.2952953 ,   5.31531532,   5.33533534,   5.35535536,\n",
       "         5.37537538,   5.3953954 ,   5.41541542,   5.43543544,\n",
       "         5.45545546,   5.47547548,   5.4954955 ,   5.51551552,\n",
       "         5.53553554,   5.55555556,   5.57557558,   5.5955956 ,\n",
       "         5.61561562,   5.63563564,   5.65565566,   5.67567568,\n",
       "         5.6956957 ,   5.71571572,   5.73573574,   5.75575576,\n",
       "         5.77577578,   5.7957958 ,   5.81581582,   5.83583584,\n",
       "         5.85585586,   5.87587588,   5.8958959 ,   5.91591592,\n",
       "         5.93593594,   5.95595596,   5.97597598,   5.995996  ,\n",
       "         6.01601602,   6.03603604,   6.05605606,   6.07607608,\n",
       "         6.0960961 ,   6.11611612,   6.13613614,   6.15615616,\n",
       "         6.17617618,   6.1961962 ,   6.21621622,   6.23623624,\n",
       "         6.25625626,   6.27627628,   6.2962963 ,   6.31631632,\n",
       "         6.33633634,   6.35635636,   6.37637638,   6.3963964 ,\n",
       "         6.41641642,   6.43643644,   6.45645646,   6.47647648,\n",
       "         6.4964965 ,   6.51651652,   6.53653654,   6.55655656,\n",
       "         6.57657658,   6.5965966 ,   6.61661662,   6.63663664,\n",
       "         6.65665666,   6.67667668,   6.6966967 ,   6.71671672,\n",
       "         6.73673674,   6.75675676,   6.77677678,   6.7967968 ,\n",
       "         6.81681682,   6.83683684,   6.85685686,   6.87687688,\n",
       "         6.8968969 ,   6.91691692,   6.93693694,   6.95695696,\n",
       "         6.97697698,   6.996997  ,   7.01701702,   7.03703704,\n",
       "         7.05705706,   7.07707708,   7.0970971 ,   7.11711712,\n",
       "         7.13713714,   7.15715716,   7.17717718,   7.1971972 ,\n",
       "         7.21721722,   7.23723724,   7.25725726,   7.27727728,\n",
       "         7.2972973 ,   7.31731732,   7.33733734,   7.35735736,\n",
       "         7.37737738,   7.3973974 ,   7.41741742,   7.43743744,\n",
       "         7.45745746,   7.47747748,   7.4974975 ,   7.51751752,\n",
       "         7.53753754,   7.55755756,   7.57757758,   7.5975976 ,\n",
       "         7.61761762,   7.63763764,   7.65765766,   7.67767768,\n",
       "         7.6976977 ,   7.71771772,   7.73773774,   7.75775776,\n",
       "         7.77777778,   7.7977978 ,   7.81781782,   7.83783784,\n",
       "         7.85785786,   7.87787788,   7.8978979 ,   7.91791792,\n",
       "         7.93793794,   7.95795796,   7.97797798,   7.997998  ,\n",
       "         8.01801802,   8.03803804,   8.05805806,   8.07807808,\n",
       "         8.0980981 ,   8.11811812,   8.13813814,   8.15815816,\n",
       "         8.17817818,   8.1981982 ,   8.21821822,   8.23823824,\n",
       "         8.25825826,   8.27827828,   8.2982983 ,   8.31831832,\n",
       "         8.33833834,   8.35835836,   8.37837838,   8.3983984 ,\n",
       "         8.41841842,   8.43843844,   8.45845846,   8.47847848,\n",
       "         8.4984985 ,   8.51851852,   8.53853854,   8.55855856,\n",
       "         8.57857858,   8.5985986 ,   8.61861862,   8.63863864,\n",
       "         8.65865866,   8.67867868,   8.6986987 ,   8.71871872,\n",
       "         8.73873874,   8.75875876,   8.77877878,   8.7987988 ,\n",
       "         8.81881882,   8.83883884,   8.85885886,   8.87887888,\n",
       "         8.8988989 ,   8.91891892,   8.93893894,   8.95895896,\n",
       "         8.97897898,   8.998999  ,   9.01901902,   9.03903904,\n",
       "         9.05905906,   9.07907908,   9.0990991 ,   9.11911912,\n",
       "         9.13913914,   9.15915916,   9.17917918,   9.1991992 ,\n",
       "         9.21921922,   9.23923924,   9.25925926,   9.27927928,\n",
       "         9.2992993 ,   9.31931932,   9.33933934,   9.35935936,\n",
       "         9.37937938,   9.3993994 ,   9.41941942,   9.43943944,\n",
       "         9.45945946,   9.47947948,   9.4994995 ,   9.51951952,\n",
       "         9.53953954,   9.55955956,   9.57957958,   9.5995996 ,\n",
       "         9.61961962,   9.63963964,   9.65965966,   9.67967968,\n",
       "         9.6996997 ,   9.71971972,   9.73973974,   9.75975976,\n",
       "         9.77977978,   9.7997998 ,   9.81981982,   9.83983984,\n",
       "         9.85985986,   9.87987988,   9.8998999 ,   9.91991992,\n",
       "         9.93993994,   9.95995996,   9.97997998,  10.        ])"
      ]
     },
     "execution_count": 231,
     "metadata": {},
     "output_type": "execute_result"
    }
   ],
   "source": [
    "x = np.linspace(-10, 10, 1000) # 위치 인수로 넣어줘도 잘 작동한다.\n",
    "x"
   ]
  },
  {
   "cell_type": "code",
   "execution_count": 237,
   "metadata": {},
   "outputs": [
    {
     "data": {
      "text/plain": [
       "1000"
      ]
     },
     "execution_count": 237,
     "metadata": {},
     "output_type": "execute_result"
    }
   ],
   "source": [
    "x.size"
   ]
  },
  {
   "cell_type": "code",
   "execution_count": 238,
   "metadata": {},
   "outputs": [
    {
     "data": {
      "text/plain": [
       "array([ 0.54402111,  0.52711499,  0.5099976 ,  0.49267581,  0.47515657,\n",
       "        0.45744688,  0.43955386,  0.42148467,  0.40324656,  0.38484682,\n",
       "        0.36629285,  0.34759207,  0.32875198,  0.30978013,  0.29068412,\n",
       "        0.27147162,  0.2521503 ,  0.23272793,  0.21321229,  0.19361119,\n",
       "        0.1739325 ,  0.15418409,  0.13437389,  0.11450984,  0.09459989,\n",
       "        0.07465203,  0.05467424,  0.03467455,  0.01466095, -0.00535852,\n",
       "       -0.02537584, -0.04538299, -0.06537195, -0.08533471, -0.10526327,\n",
       "       -0.12514965, -0.14498586, -0.16476397, -0.18447604, -0.20411417,\n",
       "       -0.2236705 , -0.24313718, -0.26250642, -0.28177045, -0.30092154,\n",
       "       -0.31995204, -0.3388543 , -0.35762075, -0.37624387, -0.39471619,\n",
       "       -0.41303032, -0.43117891, -0.44915469, -0.46695046, -0.48455907,\n",
       "       -0.50197348, -0.51918671, -0.53619185, -0.5529821 , -0.56955071,\n",
       "       -0.58589106, -0.60199658, -0.61786084, -0.63347746, -0.6488402 ,\n",
       "       -0.66394288, -0.67877947, -0.69334401, -0.70763067, -0.72163371,\n",
       "       -0.73534754, -0.74876664, -0.76188565, -0.77469931, -0.78720247,\n",
       "       -0.79939013, -0.81125741, -0.82279955, -0.83401192, -0.84489002,\n",
       "       -0.85542951, -0.86562614, -0.87547585, -0.88497468, -0.89411881,\n",
       "       -0.9029046 , -0.91132852, -0.91938718, -0.92707737, -0.93439599,\n",
       "       -0.94134012, -0.94790697, -0.95409391, -0.95989847, -0.9653183 ,\n",
       "       -0.97035125, -0.9749953 , -0.97924858, -0.98310938, -0.98657617,\n",
       "       -0.98964756, -0.9923223 , -0.99459933, -0.99647774, -0.99795677,\n",
       "       -0.99903584, -0.9997145 , -0.99999249, -0.99986969, -0.99934616,\n",
       "       -0.9984221 , -0.99709789, -0.99537405, -0.99325128, -0.99073043,\n",
       "       -0.9878125 , -0.98449867, -0.98079027, -0.97668877, -0.97219584,\n",
       "       -0.96731325, -0.96204298, -0.95638714, -0.95034798, -0.94392794,\n",
       "       -0.93712958, -0.92995564, -0.92240898, -0.91449263, -0.90620976,\n",
       "       -0.89756369, -0.88855789, -0.87919597, -0.86948167, -0.8594189 ,\n",
       "       -0.84901169, -0.8382642 , -0.82718074, -0.81576576, -0.80402383,\n",
       "       -0.79195966, -0.77957808, -0.76688406, -0.75388267, -0.74057914,\n",
       "       -0.7269788 , -0.71308709, -0.69890958, -0.68445196, -0.66972002,\n",
       "       -0.65471967, -0.63945691, -0.62393786, -0.60816875, -0.59215589,\n",
       "       -0.5759057 , -0.5594247 , -0.54271949, -0.52579676, -0.50866329,\n",
       "       -0.49132596, -0.47379172, -0.45606758, -0.43816066, -0.42007813,\n",
       "       -0.40182723, -0.38341529, -0.36484968, -0.34613784, -0.32728728,\n",
       "       -0.30830554, -0.28920024, -0.26997903, -0.25064961, -0.23121974,\n",
       "       -0.2116972 , -0.19208981, -0.17240543, -0.15265196, -0.13283731,\n",
       "       -0.11296941, -0.09305624, -0.07310577, -0.05312601, -0.03312495,\n",
       "       -0.01311061,  0.00690898,  0.0269258 ,  0.04693183,  0.06691904,\n",
       "        0.08687944,  0.10680502,  0.12668779,  0.14651979,  0.16629307,\n",
       "        0.18599969,  0.20563177,  0.22518144,  0.24464085,  0.26400222,\n",
       "        0.28325777,  0.3023998 ,  0.32142064,  0.34031265,  0.35906827,\n",
       "        0.37767997,  0.39614031,  0.41444188,  0.43257735,  0.45053944,\n",
       "        0.46832097,  0.48591479,  0.50331387,  0.52051123,  0.53749997,\n",
       "        0.55427329,  0.57082446,  0.58714685,  0.60323392,  0.61907923,\n",
       "        0.63467641,  0.65001922,  0.66510151,  0.67991724,  0.69446047,\n",
       "        0.70872536,  0.72270621,  0.7363974 ,  0.74979346,  0.762889  ,\n",
       "        0.77567879,  0.7881577 ,  0.80032073,  0.81216299,  0.82367975,\n",
       "        0.83486639,  0.84571842,  0.85623151,  0.86640142,  0.87622409,\n",
       "        0.88569558,  0.8948121 ,  0.90356998,  0.91196573,  0.91999597,\n",
       "        0.92765748,  0.93494721,  0.94186221,  0.94839974,  0.95455715,\n",
       "        0.96033199,  0.96572194,  0.97072484,  0.97533868,  0.97956163,\n",
       "        0.98339197,  0.98682819,  0.98986889,  0.99251287,  0.99475906,\n",
       "        0.99660656,  0.99805464,  0.9991027 ,  0.99975034,  0.9999973 ,\n",
       "        0.99984346,  0.9992889 ,  0.99833384,  0.99697865,  0.99522389,\n",
       "        0.99307026,  0.99051862,  0.98756998,  0.98422555,  0.98048664,\n",
       "        0.97635477,  0.97183159,  0.96691891,  0.9616187 ,  0.95593309,\n",
       "        0.94986435,  0.94341491,  0.93658737,  0.92938445,  0.92180905,\n",
       "        0.91386419,  0.90555308,  0.89687902,  0.88784551,  0.87845616,\n",
       "        0.86871474,  0.85862515,  0.84819143,  0.83741776,  0.82630847,\n",
       "        0.814868  ,  0.80310095,  0.79101202,  0.77860606,  0.76588805,\n",
       "        0.75286308,  0.73953637,  0.72591327,  0.71199922,  0.69779982,\n",
       "        0.68332075,  0.66856781,  0.65354691,  0.63826408,  0.62272545,\n",
       "        0.60693723,  0.59090576,  0.57463746,  0.55813886,  0.54141656,\n",
       "        0.52447726,  0.50732776,  0.48997494,  0.47242573,  0.45468718,\n",
       "        0.4367664 ,  0.41867057,  0.40040694,  0.38198284,  0.36340563,\n",
       "        0.34468278,  0.32582179,  0.30683021,  0.28771566,  0.26848579,\n",
       "        0.24914832,  0.22971099,  0.21018159,  0.19056796,  0.17087795,\n",
       "        0.15111946,  0.1313004 ,  0.11142871,  0.09151237,  0.07155935,\n",
       "        0.05157764,  0.03157527,  0.01156024, -0.00845942, -0.02847569,\n",
       "       -0.04848055, -0.06846598, -0.08842397, -0.10834651, -0.12822564,\n",
       "       -0.14805337, -0.16782177, -0.1875229 , -0.20714888, -0.22669183,\n",
       "       -0.24614393, -0.26549738, -0.28474442, -0.30387734, -0.32288847,\n",
       "       -0.34177018, -0.36051492, -0.37911517, -0.39756348, -0.41585245,\n",
       "       -0.43397474, -0.45192311, -0.46969035, -0.48726935, -0.50465305,\n",
       "       -0.5218345 , -0.5388068 , -0.55556315, -0.57209684, -0.58840124,\n",
       "       -0.60446981, -0.62029613, -0.63587383, -0.65119668, -0.66625855,\n",
       "       -0.68105338, -0.69557526, -0.70981836, -0.72377697, -0.7374455 ,\n",
       "       -0.75081847, -0.76389052, -0.77665642, -0.78911104, -0.80124939,\n",
       "       -0.81306662, -0.82455797, -0.83571886, -0.84654479, -0.85703145,\n",
       "       -0.86717461, -0.87697022, -0.88641436, -0.89550322, -0.90423319,\n",
       "       -0.91260074, -0.92060254, -0.92823537, -0.93549618, -0.94238205,\n",
       "       -0.94889022, -0.95501809, -0.9607632 , -0.96612325, -0.97109609,\n",
       "       -0.97567973, -0.97987232, -0.98367219, -0.98707782, -0.99008785,\n",
       "       -0.99270105, -0.9949164 , -0.99673299, -0.9981501 , -0.99916717,\n",
       "       -0.99978379, -0.9999997 , -0.99981483, -0.99922924, -0.99824317,\n",
       "       -0.99685702, -0.99507134, -0.99288685, -0.99030442, -0.98732509,\n",
       "       -0.98395005, -0.98018066, -0.97601842, -0.97146501, -0.96652224,\n",
       "       -0.96119211, -0.95547674, -0.94937842, -0.94289961, -0.9360429 ,\n",
       "       -0.92881103, -0.9212069 , -0.91323357, -0.90489422, -0.8961922 ,\n",
       "       -0.887131  , -0.87771425, -0.86794572, -0.85782933, -0.84736913,\n",
       "       -0.83656931, -0.82543421, -0.81396829, -0.80217614, -0.79006248,\n",
       "       -0.77763218, -0.76489021, -0.75184168, -0.73849182, -0.72484599,\n",
       "       -0.71090964, -0.69668838, -0.68218788, -0.66741398, -0.65237258,\n",
       "       -0.63706972, -0.62151153, -0.60570425, -0.58965421, -0.57336784,\n",
       "       -0.55685167, -0.54011232, -0.52315651, -0.50599102, -0.48862273,\n",
       "       -0.47105861, -0.45330569, -0.4353711 , -0.41726201, -0.39898569,\n",
       "       -0.38054946, -0.36196071, -0.3432269 , -0.32435552, -0.30535414,\n",
       "       -0.28623038, -0.26699191, -0.24764642, -0.22820168, -0.20866549,\n",
       "       -0.18904566, -0.16935006, -0.14958659, -0.12976317, -0.10988774,\n",
       "       -0.08996827, -0.07001275, -0.05002916, -0.03002552, -0.01000984,\n",
       "        0.01000984,  0.03002552,  0.05002916,  0.07001275,  0.08996827,\n",
       "        0.10988774,  0.12976317,  0.14958659,  0.16935006,  0.18904566,\n",
       "        0.20866549,  0.22820168,  0.24764642,  0.26699191,  0.28623038,\n",
       "        0.30535414,  0.32435552,  0.3432269 ,  0.36196071,  0.38054946,\n",
       "        0.39898569,  0.41726201,  0.4353711 ,  0.45330569,  0.47105861,\n",
       "        0.48862273,  0.50599102,  0.52315651,  0.54011232,  0.55685167,\n",
       "        0.57336784,  0.58965421,  0.60570425,  0.62151153,  0.63706972,\n",
       "        0.65237258,  0.66741398,  0.68218788,  0.69668838,  0.71090964,\n",
       "        0.72484599,  0.73849182,  0.75184168,  0.76489021,  0.77763218,\n",
       "        0.79006248,  0.80217614,  0.81396829,  0.82543421,  0.83656931,\n",
       "        0.84736913,  0.85782933,  0.86794572,  0.87771425,  0.887131  ,\n",
       "        0.8961922 ,  0.90489422,  0.91323357,  0.9212069 ,  0.92881103,\n",
       "        0.9360429 ,  0.94289961,  0.94937842,  0.95547674,  0.96119211,\n",
       "        0.96652224,  0.97146501,  0.97601842,  0.98018066,  0.98395005,\n",
       "        0.98732509,  0.99030442,  0.99288685,  0.99507134,  0.99685702,\n",
       "        0.99824317,  0.99922924,  0.99981483,  0.9999997 ,  0.99978379,\n",
       "        0.99916717,  0.9981501 ,  0.99673299,  0.9949164 ,  0.99270105,\n",
       "        0.99008785,  0.98707782,  0.98367219,  0.97987232,  0.97567973,\n",
       "        0.97109609,  0.96612325,  0.9607632 ,  0.95501809,  0.94889022,\n",
       "        0.94238205,  0.93549618,  0.92823537,  0.92060254,  0.91260074,\n",
       "        0.90423319,  0.89550322,  0.88641436,  0.87697022,  0.86717461,\n",
       "        0.85703145,  0.84654479,  0.83571886,  0.82455797,  0.81306662,\n",
       "        0.80124939,  0.78911104,  0.77665642,  0.76389052,  0.75081847,\n",
       "        0.7374455 ,  0.72377697,  0.70981836,  0.69557526,  0.68105338,\n",
       "        0.66625855,  0.65119668,  0.63587383,  0.62029613,  0.60446981,\n",
       "        0.58840124,  0.57209684,  0.55556315,  0.5388068 ,  0.5218345 ,\n",
       "        0.50465305,  0.48726935,  0.46969035,  0.45192311,  0.43397474,\n",
       "        0.41585245,  0.39756348,  0.37911517,  0.36051492,  0.34177018,\n",
       "        0.32288847,  0.30387734,  0.28474442,  0.26549738,  0.24614393,\n",
       "        0.22669183,  0.20714888,  0.1875229 ,  0.16782177,  0.14805337,\n",
       "        0.12822564,  0.10834651,  0.08842397,  0.06846598,  0.04848055,\n",
       "        0.02847569,  0.00845942, -0.01156024, -0.03157527, -0.05157764,\n",
       "       -0.07155935, -0.09151237, -0.11142871, -0.1313004 , -0.15111946,\n",
       "       -0.17087795, -0.19056796, -0.21018159, -0.22971099, -0.24914832,\n",
       "       -0.26848579, -0.28771566, -0.30683021, -0.32582179, -0.34468278,\n",
       "       -0.36340563, -0.38198284, -0.40040694, -0.41867057, -0.4367664 ,\n",
       "       -0.45468718, -0.47242573, -0.48997494, -0.50732776, -0.52447726,\n",
       "       -0.54141656, -0.55813886, -0.57463746, -0.59090576, -0.60693723,\n",
       "       -0.62272545, -0.63826408, -0.65354691, -0.66856781, -0.68332075,\n",
       "       -0.69779982, -0.71199922, -0.72591327, -0.73953637, -0.75286308,\n",
       "       -0.76588805, -0.77860606, -0.79101202, -0.80310095, -0.814868  ,\n",
       "       -0.82630847, -0.83741776, -0.84819143, -0.85862515, -0.86871474,\n",
       "       -0.87845616, -0.88784551, -0.89687902, -0.90555308, -0.91386419,\n",
       "       -0.92180905, -0.92938445, -0.93658737, -0.94341491, -0.94986435,\n",
       "       -0.95593309, -0.9616187 , -0.96691891, -0.97183159, -0.97635477,\n",
       "       -0.98048664, -0.98422555, -0.98756998, -0.99051862, -0.99307026,\n",
       "       -0.99522389, -0.99697865, -0.99833384, -0.9992889 , -0.99984346,\n",
       "       -0.9999973 , -0.99975034, -0.9991027 , -0.99805464, -0.99660656,\n",
       "       -0.99475906, -0.99251287, -0.98986889, -0.98682819, -0.98339197,\n",
       "       -0.97956163, -0.97533868, -0.97072484, -0.96572194, -0.96033199,\n",
       "       -0.95455715, -0.94839974, -0.94186221, -0.93494721, -0.92765748,\n",
       "       -0.91999597, -0.91196573, -0.90356998, -0.8948121 , -0.88569558,\n",
       "       -0.87622409, -0.86640142, -0.85623151, -0.84571842, -0.83486639,\n",
       "       -0.82367975, -0.81216299, -0.80032073, -0.7881577 , -0.77567879,\n",
       "       -0.762889  , -0.74979346, -0.7363974 , -0.72270621, -0.70872536,\n",
       "       -0.69446047, -0.67991724, -0.66510151, -0.65001922, -0.63467641,\n",
       "       -0.61907923, -0.60323392, -0.58714685, -0.57082446, -0.55427329,\n",
       "       -0.53749997, -0.52051123, -0.50331387, -0.48591479, -0.46832097,\n",
       "       -0.45053944, -0.43257735, -0.41444188, -0.39614031, -0.37767997,\n",
       "       -0.35906827, -0.34031265, -0.32142064, -0.3023998 , -0.28325777,\n",
       "       -0.26400222, -0.24464085, -0.22518144, -0.20563177, -0.18599969,\n",
       "       -0.16629307, -0.14651979, -0.12668779, -0.10680502, -0.08687944,\n",
       "       -0.06691904, -0.04693183, -0.0269258 , -0.00690898,  0.01311061,\n",
       "        0.03312495,  0.05312601,  0.07310577,  0.09305624,  0.11296941,\n",
       "        0.13283731,  0.15265196,  0.17240543,  0.19208981,  0.2116972 ,\n",
       "        0.23121974,  0.25064961,  0.26997903,  0.28920024,  0.30830554,\n",
       "        0.32728728,  0.34613784,  0.36484968,  0.38341529,  0.40182723,\n",
       "        0.42007813,  0.43816066,  0.45606758,  0.47379172,  0.49132596,\n",
       "        0.50866329,  0.52579676,  0.54271949,  0.5594247 ,  0.5759057 ,\n",
       "        0.59215589,  0.60816875,  0.62393786,  0.63945691,  0.65471967,\n",
       "        0.66972002,  0.68445196,  0.69890958,  0.71308709,  0.7269788 ,\n",
       "        0.74057914,  0.75388267,  0.76688406,  0.77957808,  0.79195966,\n",
       "        0.80402383,  0.81576576,  0.82718074,  0.8382642 ,  0.84901169,\n",
       "        0.8594189 ,  0.86948167,  0.87919597,  0.88855789,  0.89756369,\n",
       "        0.90620976,  0.91449263,  0.92240898,  0.92995564,  0.93712958,\n",
       "        0.94392794,  0.95034798,  0.95638714,  0.96204298,  0.96731325,\n",
       "        0.97219584,  0.97668877,  0.98079027,  0.98449867,  0.9878125 ,\n",
       "        0.99073043,  0.99325128,  0.99537405,  0.99709789,  0.9984221 ,\n",
       "        0.99934616,  0.99986969,  0.99999249,  0.9997145 ,  0.99903584,\n",
       "        0.99795677,  0.99647774,  0.99459933,  0.9923223 ,  0.98964756,\n",
       "        0.98657617,  0.98310938,  0.97924858,  0.9749953 ,  0.97035125,\n",
       "        0.9653183 ,  0.95989847,  0.95409391,  0.94790697,  0.94134012,\n",
       "        0.93439599,  0.92707737,  0.91938718,  0.91132852,  0.9029046 ,\n",
       "        0.89411881,  0.88497468,  0.87547585,  0.86562614,  0.85542951,\n",
       "        0.84489002,  0.83401192,  0.82279955,  0.81125741,  0.79939013,\n",
       "        0.78720247,  0.77469931,  0.76188565,  0.74876664,  0.73534754,\n",
       "        0.72163371,  0.70763067,  0.69334401,  0.67877947,  0.66394288,\n",
       "        0.6488402 ,  0.63347746,  0.61786084,  0.60199658,  0.58589106,\n",
       "        0.56955071,  0.5529821 ,  0.53619185,  0.51918671,  0.50197348,\n",
       "        0.48455907,  0.46695046,  0.44915469,  0.43117891,  0.41303032,\n",
       "        0.39471619,  0.37624387,  0.35762075,  0.3388543 ,  0.31995204,\n",
       "        0.30092154,  0.28177045,  0.26250642,  0.24313718,  0.2236705 ,\n",
       "        0.20411417,  0.18447604,  0.16476397,  0.14498586,  0.12514965,\n",
       "        0.10526327,  0.08533471,  0.06537195,  0.04538299,  0.02537584,\n",
       "        0.00535852, -0.01466095, -0.03467455, -0.05467424, -0.07465203,\n",
       "       -0.09459989, -0.11450984, -0.13437389, -0.15418409, -0.1739325 ,\n",
       "       -0.19361119, -0.21321229, -0.23272793, -0.2521503 , -0.27147162,\n",
       "       -0.29068412, -0.30978013, -0.32875198, -0.34759207, -0.36629285,\n",
       "       -0.38484682, -0.40324656, -0.42148467, -0.43955386, -0.45744688,\n",
       "       -0.47515657, -0.49267581, -0.5099976 , -0.52711499, -0.54402111])"
      ]
     },
     "execution_count": 238,
     "metadata": {},
     "output_type": "execute_result"
    }
   ],
   "source": [
    "y = np.sin(x)\n",
    "y"
   ]
  },
  {
   "cell_type": "code",
   "execution_count": 239,
   "metadata": {},
   "outputs": [],
   "source": [
    "import matplotlib.pyplot as plt"
   ]
  },
  {
   "cell_type": "code",
   "execution_count": 241,
   "metadata": {},
   "outputs": [
    {
     "data": {
      "image/png": "[encoded data removed]",
      "text/plain": [
       "<Figure size 864x576 with 1 Axes>"
      ]
     },
     "metadata": {
      "needs_background": "light"
     },
     "output_type": "display_data"
    }
   ],
   "source": [
    "plt.figure(figsize = (12, 8))\n",
    "plt.plot(x, y)\n",
    "plt.title(\"f(x) = sin(x)\", fontsize = 20)\n",
    "plt.xlabel(\"x\", fontsize = 15)\n",
    "plt.ylabel(\"y\", fontsize = 15)\n",
    "plt.show()"
   ]
  },
  {
   "cell_type": "code",
   "execution_count": 242,
   "metadata": {},
   "outputs": [
    {
     "data": {
      "text/plain": [
       "array([1., 1., 1., 1., 1., 1., 1., 1., 1., 1.])"
      ]
     },
     "execution_count": 242,
     "metadata": {},
     "output_type": "execute_result"
    }
   ],
   "source": [
    "np.ones(10) # 얘는 1로만 구성된 배열을 만든다."
   ]
  },
  {
   "cell_type": "code",
   "execution_count": 243,
   "metadata": {},
   "outputs": [
    {
     "data": {
      "text/plain": [
       "array([0., 0., 0., 0., 0., 0., 0., 0., 0., 0.])"
      ]
     },
     "execution_count": 243,
     "metadata": {},
     "output_type": "execute_result"
    }
   ],
   "source": [
    "np.zeros(10) # zeros는 0으로만 구성된 배열"
   ]
  },
  {
   "cell_type": "code",
   "execution_count": null,
   "metadata": {},
   "outputs": [],
   "source": []
  }
 ],
 "metadata": {
  "kernelspec": {
   "display_name": "Python 3.10.5 64-bit",
   "language": "python",
   "name": "python3"
  },
  "language_info": {
   "codemirror_mode": {
    "name": "ipython",
    "version": 3
   },
   "file_extension": ".py",
   "mimetype": "text/x-python",
   "name": "python",
   "nbconvert_exporter": "python",
   "pygments_lexer": "ipython3",
   "version": "3.10.5"
  },
  "vscode": {
   "interpreter": {
    "hash": "31f2aee4e71d21fbe5cf8b01ff0e069b9275f58929596ceb00d14d90e3e16cd6"
   }
  }
 },
 "nbformat": 4,
 "nbformat_minor": 2
}
