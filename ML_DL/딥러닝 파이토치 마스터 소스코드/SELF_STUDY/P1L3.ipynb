{
 "cells": [
  {
   "cell_type": "code",
   "execution_count": 1,
   "metadata": {},
   "outputs": [],
   "source": [
    "import torch"
   ]
  },
  {
   "cell_type": "code",
   "execution_count": 2,
   "metadata": {},
   "outputs": [],
   "source": [
    "a = [1.0, 2.0, 3.0]"
   ]
  },
  {
   "cell_type": "code",
   "execution_count": 3,
   "metadata": {},
   "outputs": [
    {
     "data": {
      "text/plain": [
       "1.0"
      ]
     },
     "execution_count": 3,
     "metadata": {},
     "output_type": "execute_result"
    }
   ],
   "source": [
    "a[0]"
   ]
  },
  {
   "cell_type": "code",
   "execution_count": 4,
   "metadata": {},
   "outputs": [
    {
     "data": {
      "text/plain": [
       "3.0"
      ]
     },
     "execution_count": 4,
     "metadata": {},
     "output_type": "execute_result"
    }
   ],
   "source": [
    "a[2]"
   ]
  },
  {
   "cell_type": "code",
   "execution_count": 5,
   "metadata": {},
   "outputs": [
    {
     "data": {
      "text/plain": [
       "tensor([1., 1., 1.])"
      ]
     },
     "execution_count": 5,
     "metadata": {},
     "output_type": "execute_result"
    }
   ],
   "source": [
    "a = torch.ones(3)\n",
    "a"
   ]
  },
  {
   "cell_type": "code",
   "execution_count": 6,
   "metadata": {},
   "outputs": [
    {
     "data": {
      "text/plain": [
       "tensor(1.)"
      ]
     },
     "execution_count": 6,
     "metadata": {},
     "output_type": "execute_result"
    }
   ],
   "source": [
    "a[1]"
   ]
  },
  {
   "cell_type": "code",
   "execution_count": 7,
   "metadata": {},
   "outputs": [
    {
     "data": {
      "text/plain": [
       "tensor([1., 1., 2.])"
      ]
     },
     "execution_count": 7,
     "metadata": {},
     "output_type": "execute_result"
    }
   ],
   "source": [
    "a[2] = 2\n",
    "a"
   ]
  },
  {
   "cell_type": "code",
   "execution_count": 8,
   "metadata": {},
   "outputs": [
    {
     "data": {
      "text/plain": [
       "tensor([0., 0., 0., 0., 0., 0.])"
      ]
     },
     "execution_count": 8,
     "metadata": {},
     "output_type": "execute_result"
    }
   ],
   "source": [
    "points = torch.zeros(6)\n",
    "points"
   ]
  },
  {
   "cell_type": "code",
   "execution_count": 9,
   "metadata": {},
   "outputs": [],
   "source": [
    "points[0] = 2\n",
    "points[1] = 1\n",
    "points[2] = 2\n",
    "points[3] = 4\n",
    "points[4] = 2\n",
    "points[5] = 7"
   ]
  },
  {
   "cell_type": "code",
   "execution_count": 10,
   "metadata": {},
   "outputs": [
    {
     "data": {
      "text/plain": [
       "tensor([2., 1., 2., 4., 2., 7.])"
      ]
     },
     "execution_count": 10,
     "metadata": {},
     "output_type": "execute_result"
    }
   ],
   "source": [
    "points"
   ]
  },
  {
   "cell_type": "code",
   "execution_count": 11,
   "metadata": {},
   "outputs": [],
   "source": [
    "points = torch.tensor([[1, 0], [2, 1]])"
   ]
  },
  {
   "cell_type": "code",
   "execution_count": 12,
   "metadata": {},
   "outputs": [
    {
     "data": {
      "text/plain": [
       "tensor([[1, 0],\n",
       "        [2, 1]])"
      ]
     },
     "execution_count": 12,
     "metadata": {},
     "output_type": "execute_result"
    }
   ],
   "source": [
    "points"
   ]
  },
  {
   "cell_type": "code",
   "execution_count": 13,
   "metadata": {},
   "outputs": [
    {
     "data": {
      "text/plain": [
       "torch.Size([2, 2])"
      ]
     },
     "execution_count": 13,
     "metadata": {},
     "output_type": "execute_result"
    }
   ],
   "source": [
    "points.shape"
   ]
  },
  {
   "cell_type": "code",
   "execution_count": 14,
   "metadata": {},
   "outputs": [],
   "source": [
    "some_list = list(range(6))"
   ]
  },
  {
   "cell_type": "code",
   "execution_count": 15,
   "metadata": {},
   "outputs": [
    {
     "data": {
      "text/plain": [
       "[0, 1, 2, 3, 4, 5]"
      ]
     },
     "execution_count": 15,
     "metadata": {},
     "output_type": "execute_result"
    }
   ],
   "source": [
    "some_list[:]"
   ]
  },
  {
   "cell_type": "code",
   "execution_count": 16,
   "metadata": {},
   "outputs": [
    {
     "data": {
      "text/plain": [
       "[1, 2, 3]"
      ]
     },
     "execution_count": 16,
     "metadata": {},
     "output_type": "execute_result"
    }
   ],
   "source": [
    "some_list[1:4]"
   ]
  },
  {
   "cell_type": "code",
   "execution_count": 17,
   "metadata": {},
   "outputs": [
    {
     "data": {
      "text/plain": [
       "[1, 2, 3, 4, 5]"
      ]
     },
     "execution_count": 17,
     "metadata": {},
     "output_type": "execute_result"
    }
   ],
   "source": [
    "some_list[1:]"
   ]
  },
  {
   "cell_type": "code",
   "execution_count": 18,
   "metadata": {},
   "outputs": [
    {
     "data": {
      "text/plain": [
       "[1, 3]"
      ]
     },
     "execution_count": 18,
     "metadata": {},
     "output_type": "execute_result"
    }
   ],
   "source": [
    "some_list[1:4:2]"
   ]
  },
  {
   "cell_type": "code",
   "execution_count": 19,
   "metadata": {},
   "outputs": [
    {
     "data": {
      "text/plain": [
       "tensor([1])"
      ]
     },
     "execution_count": 19,
     "metadata": {},
     "output_type": "execute_result"
    }
   ],
   "source": [
    "points[1:4, 1]"
   ]
  },
  {
   "cell_type": "code",
   "execution_count": 20,
   "metadata": {},
   "outputs": [
    {
     "data": {
      "text/plain": [
       "tensor([[2, 1]])"
      ]
     },
     "execution_count": 20,
     "metadata": {},
     "output_type": "execute_result"
    }
   ],
   "source": [
    "points[1:4, :]"
   ]
  },
  {
   "cell_type": "code",
   "execution_count": 21,
   "metadata": {},
   "outputs": [
    {
     "data": {
      "text/plain": [
       "tensor([[[-0.1554, -0.3625, -1.6193,  1.4358, -0.1120],\n",
       "         [-1.4643,  1.4108,  1.4409, -0.3366, -1.1812],\n",
       "         [ 1.3411,  0.1369, -0.4419, -0.0415,  0.5687],\n",
       "         [-1.6723,  0.4076, -1.5008,  0.1257,  0.3284],\n",
       "         [-0.4060, -0.1101, -0.1461, -0.3180,  0.1683]],\n",
       "\n",
       "        [[-1.5791, -0.4326,  1.0832, -0.0863, -0.5212],\n",
       "         [-0.1243, -0.5203,  0.3981, -0.9052, -0.8252],\n",
       "         [ 2.4720,  0.6260, -0.5255,  2.0168,  1.0088],\n",
       "         [-0.3059, -0.0758,  0.5007, -0.1390,  1.1389],\n",
       "         [ 0.6920,  0.5468, -0.6798, -0.0390, -0.9794]],\n",
       "\n",
       "        [[ 0.9841,  0.9288, -0.8192, -0.3874, -1.5695],\n",
       "         [-1.1479,  0.4633,  1.8301, -1.8545,  0.2378],\n",
       "         [ 1.4872,  0.8915,  0.1997,  0.4021, -1.0791],\n",
       "         [-0.0937,  0.3267, -1.5016, -0.6994,  0.4320],\n",
       "         [ 1.7675,  1.9269,  1.3499, -0.6218, -0.9838]]])"
      ]
     },
     "execution_count": 21,
     "metadata": {},
     "output_type": "execute_result"
    }
   ],
   "source": [
    "img_t = torch.randn(3, 5, 5)\n",
    "img_t"
   ]
  },
  {
   "cell_type": "code",
   "execution_count": 22,
   "metadata": {},
   "outputs": [
    {
     "data": {
      "text/plain": [
       "tensor([-1.1520,  0.0725, -0.7207])"
      ]
     },
     "execution_count": 22,
     "metadata": {},
     "output_type": "execute_result"
    }
   ],
   "source": [
    "weights = torch.randn(3)\n",
    "weights"
   ]
  },
  {
   "cell_type": "code",
   "execution_count": 23,
   "metadata": {},
   "outputs": [
    {
     "data": {
      "text/plain": [
       "tensor([[[[ 0.9857, -0.7614,  0.5941, -0.8720,  0.1474],\n",
       "          [-0.1309, -0.0303,  1.5221, -0.5224,  0.7178],\n",
       "          [ 0.5530, -0.1119,  1.2744, -0.6342,  1.5520],\n",
       "          [-1.6183, -0.6684,  0.1056, -1.6693,  0.1960],\n",
       "          [-0.5958, -1.5432, -1.8044, -0.7501, -0.8205]],\n",
       "\n",
       "         [[ 0.2486, -1.1776,  0.3748, -1.2043, -0.0410],\n",
       "          [ 0.7014, -0.2012,  1.2298, -0.5176,  0.1875],\n",
       "          [ 1.1055, -1.4769, -0.0292, -1.1334, -0.1070],\n",
       "          [ 2.1807,  0.5759, -0.9458, -1.1906, -1.2562],\n",
       "          [ 0.4261, -0.6863,  0.8711,  1.8250, -1.7039]],\n",
       "\n",
       "         [[ 0.1030, -0.2375,  2.4720,  0.2670,  1.0871],\n",
       "          [ 0.2362,  0.4059, -1.7336,  0.8691,  0.2346],\n",
       "          [ 2.3396, -0.2813, -0.1937, -0.5241,  0.9665],\n",
       "          [ 0.5807,  0.1559,  1.3070, -1.4458, -0.2023],\n",
       "          [-0.7647,  0.6131,  1.3330, -0.2407,  0.1710]]],\n",
       "\n",
       "\n",
       "        [[[-0.6315,  0.5774,  1.2925,  0.7333, -0.1471],\n",
       "          [ 1.8111,  0.7721,  0.0398, -0.6678, -0.1425],\n",
       "          [ 0.8842,  1.7982, -0.4694,  0.2368, -1.1795],\n",
       "          [ 0.1849, -1.4213,  1.3514, -1.5869, -0.2234],\n",
       "          [-0.1669, -0.7952, -1.1260,  1.0642,  0.0179]],\n",
       "\n",
       "         [[-0.0635, -0.9481,  0.8388,  0.7271, -0.0456],\n",
       "          [-0.3445, -2.2607,  0.6985,  1.4202,  1.4385],\n",
       "          [ 0.4766, -0.6960, -1.2385,  1.1396,  0.4583],\n",
       "          [-0.8223, -1.3394, -1.1236,  0.4051, -0.5781],\n",
       "          [-1.6670,  1.4522, -0.8499, -1.3492,  0.1191]],\n",
       "\n",
       "         [[ 0.3157, -0.5203,  1.1128,  0.2805, -2.1415],\n",
       "          [ 0.3719, -0.3186, -0.8671,  1.1738, -2.1615],\n",
       "          [ 0.2677, -0.3340, -2.2290,  0.0545,  0.7541],\n",
       "          [ 1.2683, -0.4649, -1.4033, -1.0807,  1.1603],\n",
       "          [ 1.5458,  0.5770,  1.3174,  0.5989,  0.6523]]]])"
      ]
     },
     "execution_count": 23,
     "metadata": {},
     "output_type": "execute_result"
    }
   ],
   "source": [
    "batch_t = torch.randn(2, 3, 5, 5)\n",
    "batch_t"
   ]
  },
  {
   "cell_type": "code",
   "execution_count": 24,
   "metadata": {},
   "outputs": [
    {
     "data": {
      "text/plain": [
       "tensor([[-0.2501,  0.0446, -0.4518,  0.3207, -0.7342],\n",
       "        [-0.9122,  0.4513,  1.2230, -1.0321, -0.5895],\n",
       "        [ 1.7668,  0.5515, -0.2559,  0.7924,  0.1661],\n",
       "        [-0.6906,  0.2195, -0.8339, -0.2376,  0.6331],\n",
       "        [ 0.6845,  0.7879,  0.1747, -0.3263, -0.5983]])"
      ]
     },
     "execution_count": 24,
     "metadata": {},
     "output_type": "execute_result"
    }
   ],
   "source": [
    "img_gray_naive = img_t.mean(-3)\n",
    "img_gray_naive"
   ]
  },
  {
   "cell_type": "code",
   "execution_count": 25,
   "metadata": {},
   "outputs": [
    {
     "data": {
      "text/plain": [
       "tensor([[[ 0.4458, -0.7255,  1.1470, -0.6031,  0.3978],\n",
       "         [ 0.2689,  0.0581,  0.3394, -0.0570,  0.3800],\n",
       "         [ 1.3327, -0.6234,  0.3505, -0.7639,  0.8039],\n",
       "         [ 0.3810,  0.0211,  0.1556, -1.4352, -0.4208],\n",
       "         [-0.3115, -0.5388,  0.1332,  0.2781, -0.7845]],\n",
       "\n",
       "        [[-0.1264, -0.2970,  1.0814,  0.5803, -0.7780],\n",
       "         [ 0.6128, -0.6024, -0.0429,  0.6421, -0.2885],\n",
       "         [ 0.5428,  0.2561, -1.3123,  0.4770,  0.0110],\n",
       "         [ 0.2103, -1.0752, -0.3919, -0.7542,  0.1196],\n",
       "         [-0.0960,  0.4113, -0.2195,  0.1046,  0.2631]]])"
      ]
     },
     "execution_count": 25,
     "metadata": {},
     "output_type": "execute_result"
    }
   ],
   "source": [
    "batch_t_naive = batch_t.mean(-3) # RGB 채널은 뒤에서 3번째에 있으므로. 이에 대해 모든 평균\n",
    "batch_t_naive"
   ]
  },
  {
   "cell_type": "code",
   "execution_count": 26,
   "metadata": {},
   "outputs": [
    {
     "data": {
      "text/plain": [
       "torch.Size([5, 5])"
      ]
     },
     "execution_count": 26,
     "metadata": {},
     "output_type": "execute_result"
    }
   ],
   "source": [
    "img_gray_naive.shape"
   ]
  },
  {
   "cell_type": "code",
   "execution_count": 27,
   "metadata": {},
   "outputs": [
    {
     "data": {
      "text/plain": [
       "torch.Size([2, 5, 5])"
      ]
     },
     "execution_count": 27,
     "metadata": {},
     "output_type": "execute_result"
    }
   ],
   "source": [
    "batch_t_naive.shape"
   ]
  },
  {
   "cell_type": "code",
   "execution_count": 28,
   "metadata": {},
   "outputs": [
    {
     "data": {
      "text/plain": [
       "(torch.Size([2, 3, 5, 5]), torch.Size([2, 3, 5, 5]), torch.Size([3, 1, 1]))"
      ]
     },
     "execution_count": 28,
     "metadata": {},
     "output_type": "execute_result"
    }
   ],
   "source": [
    "unsqueeze_weights = weights.unsqueeze(-1).unsqueeze(-1)\n",
    "img_weights = (img_t * unsqueeze_weights)\n",
    "batch_weights = (batch_t * unsqueeze_weights)\n",
    "img_gray_weighted = img_weights.sum(-3)\n",
    "batch_gray_weighted = batch_weights.sum(-3)\n",
    "batch_weights.shape, batch_t.shape, unsqueeze_weights.shape"
   ]
  },
  {
   "cell_type": "code",
   "execution_count": 29,
   "metadata": {},
   "outputs": [
    {
     "data": {
      "text/plain": [
       "torch.Size([3])"
      ]
     },
     "execution_count": 29,
     "metadata": {},
     "output_type": "execute_result"
    }
   ],
   "source": [
    "weights.shape"
   ]
  },
  {
   "cell_type": "code",
   "execution_count": 30,
   "metadata": {},
   "outputs": [
    {
     "data": {
      "text/plain": [
       "torch.Size([3, 1, 1])"
      ]
     },
     "execution_count": 30,
     "metadata": {},
     "output_type": "execute_result"
    }
   ],
   "source": [
    "unsqueeze_weights.shape"
   ]
  },
  {
   "cell_type": "code",
   "execution_count": 31,
   "metadata": {},
   "outputs": [
    {
     "name": "stderr",
     "output_type": "stream",
     "text": [
      "/var/folders/gj/jnywjty93y99mk904fhg73br0000gn/T/ipykernel_3869/2936218150.py:1: UserWarning: Named tensors and all their associated APIs are an experimental feature and subject to change. Please do not use them for anything important until they are released as stable. (Triggered internally at  /Users/runner/work/pytorch/pytorch/pytorch/c10/core/TensorImpl.h:1408.)\n",
      "  weights_named = torch.randn(3, names=['channels'])\n"
     ]
    },
    {
     "data": {
      "text/plain": [
       "tensor([-0.5639, -0.6315,  0.1974], names=('channels',))"
      ]
     },
     "execution_count": 31,
     "metadata": {},
     "output_type": "execute_result"
    }
   ],
   "source": [
    "weights_named = torch.randn(3, names=['channels'])\n",
    "weights_named"
   ]
  },
  {
   "cell_type": "code",
   "execution_count": 32,
   "metadata": {},
   "outputs": [
    {
     "data": {
      "text/plain": [
       "(tensor([[[-0.1554, -0.3625, -1.6193,  1.4358, -0.1120],\n",
       "          [-1.4643,  1.4108,  1.4409, -0.3366, -1.1812],\n",
       "          [ 1.3411,  0.1369, -0.4419, -0.0415,  0.5687],\n",
       "          [-1.6723,  0.4076, -1.5008,  0.1257,  0.3284],\n",
       "          [-0.4060, -0.1101, -0.1461, -0.3180,  0.1683]],\n",
       " \n",
       "         [[-1.5791, -0.4326,  1.0832, -0.0863, -0.5212],\n",
       "          [-0.1243, -0.5203,  0.3981, -0.9052, -0.8252],\n",
       "          [ 2.4720,  0.6260, -0.5255,  2.0168,  1.0088],\n",
       "          [-0.3059, -0.0758,  0.5007, -0.1390,  1.1389],\n",
       "          [ 0.6920,  0.5468, -0.6798, -0.0390, -0.9794]],\n",
       " \n",
       "         [[ 0.9841,  0.9288, -0.8192, -0.3874, -1.5695],\n",
       "          [-1.1479,  0.4633,  1.8301, -1.8545,  0.2378],\n",
       "          [ 1.4872,  0.8915,  0.1997,  0.4021, -1.0791],\n",
       "          [-0.0937,  0.3267, -1.5016, -0.6994,  0.4320],\n",
       "          [ 1.7675,  1.9269,  1.3499, -0.6218, -0.9838]]],\n",
       "        names=('channels', 'rows', 'columns')),\n",
       " tensor([[[[ 0.9857, -0.7614,  0.5941, -0.8720,  0.1474],\n",
       "           [-0.1309, -0.0303,  1.5221, -0.5224,  0.7178],\n",
       "           [ 0.5530, -0.1119,  1.2744, -0.6342,  1.5520],\n",
       "           [-1.6183, -0.6684,  0.1056, -1.6693,  0.1960],\n",
       "           [-0.5958, -1.5432, -1.8044, -0.7501, -0.8205]],\n",
       " \n",
       "          [[ 0.2486, -1.1776,  0.3748, -1.2043, -0.0410],\n",
       "           [ 0.7014, -0.2012,  1.2298, -0.5176,  0.1875],\n",
       "           [ 1.1055, -1.4769, -0.0292, -1.1334, -0.1070],\n",
       "           [ 2.1807,  0.5759, -0.9458, -1.1906, -1.2562],\n",
       "           [ 0.4261, -0.6863,  0.8711,  1.8250, -1.7039]],\n",
       " \n",
       "          [[ 0.1030, -0.2375,  2.4720,  0.2670,  1.0871],\n",
       "           [ 0.2362,  0.4059, -1.7336,  0.8691,  0.2346],\n",
       "           [ 2.3396, -0.2813, -0.1937, -0.5241,  0.9665],\n",
       "           [ 0.5807,  0.1559,  1.3070, -1.4458, -0.2023],\n",
       "           [-0.7647,  0.6131,  1.3330, -0.2407,  0.1710]]],\n",
       " \n",
       " \n",
       "         [[[-0.6315,  0.5774,  1.2925,  0.7333, -0.1471],\n",
       "           [ 1.8111,  0.7721,  0.0398, -0.6678, -0.1425],\n",
       "           [ 0.8842,  1.7982, -0.4694,  0.2368, -1.1795],\n",
       "           [ 0.1849, -1.4213,  1.3514, -1.5869, -0.2234],\n",
       "           [-0.1669, -0.7952, -1.1260,  1.0642,  0.0179]],\n",
       " \n",
       "          [[-0.0635, -0.9481,  0.8388,  0.7271, -0.0456],\n",
       "           [-0.3445, -2.2607,  0.6985,  1.4202,  1.4385],\n",
       "           [ 0.4766, -0.6960, -1.2385,  1.1396,  0.4583],\n",
       "           [-0.8223, -1.3394, -1.1236,  0.4051, -0.5781],\n",
       "           [-1.6670,  1.4522, -0.8499, -1.3492,  0.1191]],\n",
       " \n",
       "          [[ 0.3157, -0.5203,  1.1128,  0.2805, -2.1415],\n",
       "           [ 0.3719, -0.3186, -0.8671,  1.1738, -2.1615],\n",
       "           [ 0.2677, -0.3340, -2.2290,  0.0545,  0.7541],\n",
       "           [ 1.2683, -0.4649, -1.4033, -1.0807,  1.1603],\n",
       "           [ 1.5458,  0.5770,  1.3174,  0.5989,  0.6523]]]],\n",
       "        names=(None, 'channels', 'rows', 'columns')))"
      ]
     },
     "execution_count": 32,
     "metadata": {},
     "output_type": "execute_result"
    }
   ],
   "source": [
    "img_named = img_t.refine_names(..., 'channels', 'rows', 'columns')\n",
    "batch_named = batch_t.refine_names(..., 'channels', 'rows', 'columns')\n",
    "#...으로 해두면 기존의 차원을 건들지 않는다.\n",
    "img_named, batch_named"
   ]
  },
  {
   "cell_type": "code",
   "execution_count": 33,
   "metadata": {},
   "outputs": [
    {
     "data": {
      "text/plain": [
       "(torch.Size([3, 1, 1]), ('channels', 'rows', 'columns'))"
      ]
     },
     "execution_count": 33,
     "metadata": {},
     "output_type": "execute_result"
    }
   ],
   "source": [
    "weights_aligned = weights_named.align_as(img_named)\n",
    "weights_aligned.shape, weights_aligned.names"
   ]
  },
  {
   "cell_type": "code",
   "execution_count": 34,
   "metadata": {},
   "outputs": [
    {
     "data": {
      "text/plain": [
       "(torch.Size([5, 5]), ('rows', 'columns'))"
      ]
     },
     "execution_count": 34,
     "metadata": {},
     "output_type": "execute_result"
    }
   ],
   "source": [
    "gray_named = (img_named * weights_aligned).sum('channels')\n",
    "gray_named.shape, gray_named.names"
   ]
  },
  {
   "cell_type": "code",
   "execution_count": 35,
   "metadata": {},
   "outputs": [
    {
     "data": {
      "text/plain": [
       "(torch.Size([5, 5]), (None, None))"
      ]
     },
     "execution_count": 35,
     "metadata": {},
     "output_type": "execute_result"
    }
   ],
   "source": [
    "gray_plain = gray_named.rename(None)\n",
    "gray_plain.shape, gray_plain.names"
   ]
  },
  {
   "cell_type": "code",
   "execution_count": 36,
   "metadata": {},
   "outputs": [],
   "source": [
    "double_points = torch.ones(10, 2, dtype=torch.double)\n",
    "short_points = torch.tensor([[1, 2], [3, 4]], dtype=torch.short)"
   ]
  },
  {
   "cell_type": "code",
   "execution_count": 37,
   "metadata": {},
   "outputs": [
    {
     "data": {
      "text/plain": [
       "(torch.Size([10, 2]), torch.float64, torch.Size([2, 2]), torch.int16)"
      ]
     },
     "execution_count": 37,
     "metadata": {},
     "output_type": "execute_result"
    }
   ],
   "source": [
    "double_points.shape, double_points.dtype, short_points.shape, short_points.dtype"
   ]
  },
  {
   "cell_type": "code",
   "execution_count": 38,
   "metadata": {},
   "outputs": [],
   "source": [
    "double_points = torch.zeros(10, 2).double()\n",
    "short_points = torch.ones(10, 2).short()"
   ]
  },
  {
   "cell_type": "code",
   "execution_count": 39,
   "metadata": {},
   "outputs": [
    {
     "data": {
      "text/plain": [
       "(torch.Size([10, 2]), torch.float64, torch.Size([10, 2]), torch.int16)"
      ]
     },
     "execution_count": 39,
     "metadata": {},
     "output_type": "execute_result"
    }
   ],
   "source": [
    "double_points.shape, double_points.dtype, short_points.shape, short_points.dtype"
   ]
  },
  {
   "cell_type": "code",
   "execution_count": 40,
   "metadata": {},
   "outputs": [],
   "source": [
    "double_points = torch.zeros(10, 2).to(torch.double)\n",
    "short_points = torch.ones(10, 2).to(dtype=torch.short)"
   ]
  },
  {
   "cell_type": "code",
   "execution_count": 41,
   "metadata": {},
   "outputs": [
    {
     "data": {
      "text/plain": [
       "(torch.Size([10, 2]), torch.float64, torch.Size([10, 2]), torch.int16)"
      ]
     },
     "execution_count": 41,
     "metadata": {},
     "output_type": "execute_result"
    }
   ],
   "source": [
    "double_points.shape, double_points.dtype, short_points.shape, short_points.dtype"
   ]
  },
  {
   "cell_type": "code",
   "execution_count": 42,
   "metadata": {},
   "outputs": [
    {
     "data": {
      "text/plain": [
       "(torch.Size([3, 2]), torch.Size([2, 3]))"
      ]
     },
     "execution_count": 42,
     "metadata": {},
     "output_type": "execute_result"
    }
   ],
   "source": [
    "a = torch.ones(3, 2)\n",
    "a_t = torch.transpose(a, 0, 1)\n",
    "a.shape, a_t.shape"
   ]
  },
  {
   "cell_type": "code",
   "execution_count": 43,
   "metadata": {},
   "outputs": [
    {
     "data": {
      "text/plain": [
       "(torch.Size([3, 2]), torch.Size([2, 3]))"
      ]
     },
     "execution_count": 43,
     "metadata": {},
     "output_type": "execute_result"
    }
   ],
   "source": [
    "a = torch.ones(3, 2)\n",
    "a_t = a.transpose(0, 1)\n",
    "a.shape, a_t.shape"
   ]
  },
  {
   "cell_type": "code",
   "execution_count": 44,
   "metadata": {},
   "outputs": [
    {
     "data": {
      "text/plain": [
       "tensor([[1., 1.],\n",
       "        [1., 1.],\n",
       "        [1., 1.]])"
      ]
     },
     "execution_count": 44,
     "metadata": {},
     "output_type": "execute_result"
    }
   ],
   "source": [
    "a = torch.ones(3, 2)\n",
    "a"
   ]
  },
  {
   "cell_type": "code",
   "execution_count": 45,
   "metadata": {},
   "outputs": [
    {
     "data": {
      "text/plain": [
       "tensor([[0., 0.],\n",
       "        [0., 0.],\n",
       "        [0., 0.]])"
      ]
     },
     "execution_count": 45,
     "metadata": {},
     "output_type": "execute_result"
    }
   ],
   "source": [
    "a.zero_()\n",
    "a"
   ]
  },
  {
   "cell_type": "code",
   "execution_count": 46,
   "metadata": {},
   "outputs": [
    {
     "data": {
      "text/plain": [
       "torch.Size([3, 4, 5])"
      ]
     },
     "execution_count": 46,
     "metadata": {},
     "output_type": "execute_result"
    }
   ],
   "source": [
    "some_t = torch.ones(3, 4, 5)\n",
    "trans_t = some_t.transpose(0, 2)\n",
    "some_t.shape"
   ]
  },
  {
   "cell_type": "code",
   "execution_count": 47,
   "metadata": {},
   "outputs": [
    {
     "data": {
      "text/plain": [
       "torch.Size([5, 4, 3])"
      ]
     },
     "execution_count": 47,
     "metadata": {},
     "output_type": "execute_result"
    }
   ],
   "source": [
    "trans_t.shape"
   ]
  },
  {
   "cell_type": "code",
   "execution_count": 48,
   "metadata": {},
   "outputs": [
    {
     "data": {
      "text/plain": [
       "(20, 5, 1)"
      ]
     },
     "execution_count": 48,
     "metadata": {},
     "output_type": "execute_result"
    }
   ],
   "source": [
    "some_t.stride()"
   ]
  },
  {
   "cell_type": "code",
   "execution_count": 49,
   "metadata": {},
   "outputs": [
    {
     "data": {
      "text/plain": [
       "(1, 5, 20)"
      ]
     },
     "execution_count": 49,
     "metadata": {},
     "output_type": "execute_result"
    }
   ],
   "source": [
    "trans_t.stride()"
   ]
  },
  {
   "cell_type": "code",
   "execution_count": 55,
   "metadata": {},
   "outputs": [
    {
     "data": {
      "text/plain": [
       "False"
      ]
     },
     "execution_count": 55,
     "metadata": {},
     "output_type": "execute_result"
    }
   ],
   "source": [
    "torch.cuda.is_available()"
   ]
  },
  {
   "cell_type": "code",
   "execution_count": null,
   "metadata": {},
   "outputs": [],
   "source": []
  }
 ],
 "metadata": {
  "kernelspec": {
   "display_name": "Python 3.9.12 ('base')",
   "language": "python",
   "name": "python3"
  },
  "language_info": {
   "codemirror_mode": {
    "name": "ipython",
    "version": 3
   },
   "file_extension": ".py",
   "mimetype": "text/x-python",
   "name": "python",
   "nbconvert_exporter": "python",
   "pygments_lexer": "ipython3",
   "version": "3.9.12"
  },
  "orig_nbformat": 4,
  "vscode": {
   "interpreter": {
    "hash": "40d3a090f54c6569ab1632332b64b2c03c39dcf918b08424e98f38b5ae0af88f"
   }
  }
 },
 "nbformat": 4,
 "nbformat_minor": 2
}
