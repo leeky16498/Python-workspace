{
 "cells": [
  {
   "cell_type": "code",
   "execution_count": 143,
   "metadata": {},
   "outputs": [],
   "source": [
    "import pandas as pd\n",
    "import numpy as np "
   ]
  },
  {
   "cell_type": "code",
   "execution_count": 144,
   "metadata": {},
   "outputs": [],
   "source": [
    "df = pd.read_csv(\"/Users/kyungyunlee/Desktop/PYTHON/data.csv\")"
   ]
  },
  {
   "cell_type": "code",
   "execution_count": 145,
   "metadata": {},
   "outputs": [
    {
     "name": "stdout",
     "output_type": "stream",
     "text": [
      "<class 'pandas.core.frame.DataFrame'>\n",
      "RangeIndex: 201 entries, 0 to 200\n",
      "Data columns (total 2 columns):\n",
      " #   Column   Non-Null Count  Dtype  \n",
      "---  ------   --------------  -----  \n",
      " 0   x_value  201 non-null    float64\n",
      " 1   y_value  201 non-null    int64  \n",
      "dtypes: float64(1), int64(1)\n",
      "memory usage: 3.3 KB\n"
     ]
    }
   ],
   "source": [
    "df.head()\n",
    "df.info()"
   ]
  },
  {
   "cell_type": "code",
   "execution_count": 147,
   "metadata": {},
   "outputs": [],
   "source": [
    "df[\"peak_num\"] = 0\n",
    "cond1 = df.y_value > df.y_value.shift()\n",
    "cond2 = df.y_value > df.y_value.shift(-1)\n",
    "df.loc[cond1&cond2, \"peak_num\"] = 1"
   ]
  },
  {
   "cell_type": "code",
   "execution_count": 149,
   "metadata": {},
   "outputs": [
    {
     "data": {
      "text/plain": [
       "',x_value,y_value,peak_num,time_gap,frequencies(HZ)\\n11,0.342345,475,1,,\\n17,0.498351,476,1,0.15600599999999998,6.410009871415203\\n23,0.654325,475,1,0.15597400000000006,6.411324964417144\\n29,0.809509,476,1,0.155184,6.443963295185071\\n35,0.994417,476,1,0.18490799999999996,5.408094836351052\\n41,1.165163,476,1,0.17074599999999995,5.856652571656146\\n47,1.333611,476,1,0.16844800000000015,5.936550151975679\\n53,1.493357,476,1,0.15974599999999994,6.259937651020998\\n59,1.651272,476,1,0.15791500000000003,6.332520659848652\\n65,1.809161,476,1,0.15788899999999995,6.333563452805454\\n71,1.965205,477,1,0.15604400000000007,6.4084488990284765\\n77,2.123305,477,1,0.15810000000000013,6.32511068943706\\n83,2.280911,476,1,0.1576059999999999,6.344936106493411\\n89,2.440712,476,1,0.15980099999999986,6.257783117752711\\n95,2.597497,477,1,0.15678500000000017,6.378161176132914\\n101,2.756154,477,1,0.15865699999999983,6.302905008918618\\n107,2.913,477,1,0.15684599999999982,6.375680603904474\\n113,3.069464,477,1,0.15646400000000016,6.3912465487268575\\n119,3.228286,477,1,0.15882200000000024,6.296356927881519\\n125,3.386795,477,1,0.158509,6.308790037158773\\n'"
      ]
     },
     "execution_count": 149,
     "metadata": {},
     "output_type": "execute_result"
    }
   ],
   "source": [
    "df = df.loc[df[\"peak_num\"] == 1]\n",
    "df[\"time_gap\"] = df.x_value - df.x_value.shift()\n",
    "df[\"frequencies(HZ)\"] = 1 / df[\"time_gap\"]\n",
    "df_a = df.copy()\n"
   ]
  },
  {
   "cell_type": "code",
   "execution_count": null,
   "metadata": {},
   "outputs": [],
   "source": []
  }
 ],
 "metadata": {
  "kernelspec": {
   "display_name": "Python 3.10.5 64-bit",
   "language": "python",
   "name": "python3"
  },
  "language_info": {
   "codemirror_mode": {
    "name": "ipython",
    "version": 3
   },
   "file_extension": ".py",
   "mimetype": "text/x-python",
   "name": "python",
   "nbconvert_exporter": "python",
   "pygments_lexer": "ipython3",
   "version": "3.10.5"
  },
  "orig_nbformat": 4,
  "vscode": {
   "interpreter": {
    "hash": "31f2aee4e71d21fbe5cf8b01ff0e069b9275f58929596ceb00d14d90e3e16cd6"
   }
  }
 },
 "nbformat": 4,
 "nbformat_minor": 2
}
