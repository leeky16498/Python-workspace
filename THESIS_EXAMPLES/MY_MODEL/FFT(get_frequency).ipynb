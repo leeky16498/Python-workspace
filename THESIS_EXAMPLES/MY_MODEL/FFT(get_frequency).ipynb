{
 "cells": [
  {
   "cell_type": "code",
   "execution_count": 24,
   "metadata": {},
   "outputs": [],
   "source": [
    "import numpy as np \n",
    "from scipy import fftpack \n",
    "import matplotlib.pyplot as plt\n",
    "import pandas as pd\n",
    "plt.style.use(\"seaborn\")"
   ]
  },
  {
   "cell_type": "code",
   "execution_count": 25,
   "metadata": {},
   "outputs": [
    {
     "data": {
      "text/html": [
       "<div>\n",
       "<style scoped>\n",
       "    .dataframe tbody tr th:only-of-type {\n",
       "        vertical-align: middle;\n",
       "    }\n",
       "\n",
       "    .dataframe tbody tr th {\n",
       "        vertical-align: top;\n",
       "    }\n",
       "\n",
       "    .dataframe thead th {\n",
       "        text-align: right;\n",
       "    }\n",
       "</style>\n",
       "<table border=\"1\" class=\"dataframe\">\n",
       "  <thead>\n",
       "    <tr style=\"text-align: right;\">\n",
       "      <th></th>\n",
       "      <th>time</th>\n",
       "      <th>y_value</th>\n",
       "    </tr>\n",
       "  </thead>\n",
       "  <tbody>\n",
       "    <tr>\n",
       "      <th>0</th>\n",
       "      <td>0.004076</td>\n",
       "      <td>355</td>\n",
       "    </tr>\n",
       "    <tr>\n",
       "      <th>1</th>\n",
       "      <td>0.230173</td>\n",
       "      <td>920</td>\n",
       "    </tr>\n",
       "    <tr>\n",
       "      <th>2</th>\n",
       "      <td>0.230173</td>\n",
       "      <td>920</td>\n",
       "    </tr>\n",
       "    <tr>\n",
       "      <th>3</th>\n",
       "      <td>0.230173</td>\n",
       "      <td>726</td>\n",
       "    </tr>\n",
       "    <tr>\n",
       "      <th>4</th>\n",
       "      <td>0.230173</td>\n",
       "      <td>0</td>\n",
       "    </tr>\n",
       "    <tr>\n",
       "      <th>...</th>\n",
       "      <td>...</td>\n",
       "      <td>...</td>\n",
       "    </tr>\n",
       "    <tr>\n",
       "      <th>87</th>\n",
       "      <td>6.776997</td>\n",
       "      <td>371</td>\n",
       "    </tr>\n",
       "    <tr>\n",
       "      <th>88</th>\n",
       "      <td>6.776997</td>\n",
       "      <td>469</td>\n",
       "    </tr>\n",
       "    <tr>\n",
       "      <th>89</th>\n",
       "      <td>6.776997</td>\n",
       "      <td>397</td>\n",
       "    </tr>\n",
       "    <tr>\n",
       "      <th>90</th>\n",
       "      <td>6.914278</td>\n",
       "      <td>345</td>\n",
       "    </tr>\n",
       "    <tr>\n",
       "      <th>91</th>\n",
       "      <td>7.053197</td>\n",
       "      <td>345</td>\n",
       "    </tr>\n",
       "  </tbody>\n",
       "</table>\n",
       "<p>92 rows × 2 columns</p>\n",
       "</div>"
      ],
      "text/plain": [
       "        time  y_value\n",
       "0   0.004076      355\n",
       "1   0.230173      920\n",
       "2   0.230173      920\n",
       "3   0.230173      726\n",
       "4   0.230173        0\n",
       "..       ...      ...\n",
       "87  6.776997      371\n",
       "88  6.776997      469\n",
       "89  6.776997      397\n",
       "90  6.914278      345\n",
       "91  7.053197      345\n",
       "\n",
       "[92 rows x 2 columns]"
      ]
     },
     "execution_count": 25,
     "metadata": {},
     "output_type": "execute_result"
    }
   ],
   "source": [
    "df = pd.read_csv(\"/Users/kyungyunlee/Desktop/PYTHON_FOLDER/data.csv\")\n",
    "df"
   ]
  },
  {
   "cell_type": "code",
   "execution_count": 26,
   "metadata": {},
   "outputs": [
    {
     "name": "stdout",
     "output_type": "stream",
     "text": [
      "<class 'pandas.core.frame.DataFrame'>\n",
      "RangeIndex: 92 entries, 0 to 91\n",
      "Data columns (total 2 columns):\n",
      " #   Column   Non-Null Count  Dtype  \n",
      "---  ------   --------------  -----  \n",
      " 0   time     92 non-null     float64\n",
      " 1   y_value  92 non-null     int64  \n",
      "dtypes: float64(1), int64(1)\n",
      "memory usage: 1.6 KB\n"
     ]
    }
   ],
   "source": [
    "df.info()"
   ]
  },
  {
   "cell_type": "code",
   "execution_count": 27,
   "metadata": {},
   "outputs": [
    {
     "data": {
      "text/html": [
       "<div>\n",
       "<style scoped>\n",
       "    .dataframe tbody tr th:only-of-type {\n",
       "        vertical-align: middle;\n",
       "    }\n",
       "\n",
       "    .dataframe tbody tr th {\n",
       "        vertical-align: top;\n",
       "    }\n",
       "\n",
       "    .dataframe thead th {\n",
       "        text-align: right;\n",
       "    }\n",
       "</style>\n",
       "<table border=\"1\" class=\"dataframe\">\n",
       "  <thead>\n",
       "    <tr style=\"text-align: right;\">\n",
       "      <th></th>\n",
       "      <th>time</th>\n",
       "      <th>y_value</th>\n",
       "    </tr>\n",
       "  </thead>\n",
       "  <tbody>\n",
       "    <tr>\n",
       "      <th>count</th>\n",
       "      <td>92.000000</td>\n",
       "      <td>92.000000</td>\n",
       "    </tr>\n",
       "    <tr>\n",
       "      <th>mean</th>\n",
       "      <td>3.596107</td>\n",
       "      <td>394.804348</td>\n",
       "    </tr>\n",
       "    <tr>\n",
       "      <th>std</th>\n",
       "      <td>2.062366</td>\n",
       "      <td>102.175806</td>\n",
       "    </tr>\n",
       "    <tr>\n",
       "      <th>min</th>\n",
       "      <td>0.004076</td>\n",
       "      <td>0.000000</td>\n",
       "    </tr>\n",
       "    <tr>\n",
       "      <th>25%</th>\n",
       "      <td>1.982624</td>\n",
       "      <td>356.750000</td>\n",
       "    </tr>\n",
       "    <tr>\n",
       "      <th>50%</th>\n",
       "      <td>3.532625</td>\n",
       "      <td>377.500000</td>\n",
       "    </tr>\n",
       "    <tr>\n",
       "      <th>75%</th>\n",
       "      <td>5.249583</td>\n",
       "      <td>398.500000</td>\n",
       "    </tr>\n",
       "    <tr>\n",
       "      <th>max</th>\n",
       "      <td>7.053197</td>\n",
       "      <td>920.000000</td>\n",
       "    </tr>\n",
       "  </tbody>\n",
       "</table>\n",
       "</div>"
      ],
      "text/plain": [
       "            time     y_value\n",
       "count  92.000000   92.000000\n",
       "mean    3.596107  394.804348\n",
       "std     2.062366  102.175806\n",
       "min     0.004076    0.000000\n",
       "25%     1.982624  356.750000\n",
       "50%     3.532625  377.500000\n",
       "75%     5.249583  398.500000\n",
       "max     7.053197  920.000000"
      ]
     },
     "execution_count": 27,
     "metadata": {},
     "output_type": "execute_result"
    }
   ],
   "source": [
    "df.describe()"
   ]
  },
  {
   "cell_type": "code",
   "execution_count": 31,
   "metadata": {},
   "outputs": [
    {
     "data": {
      "text/plain": [
       "[0.004076,\n",
       " 0.230173,\n",
       " 0.230173,\n",
       " 0.230173,\n",
       " 0.230173,\n",
       " 0.230173,\n",
       " 0.361718,\n",
       " 0.361718,\n",
       " 0.494089,\n",
       " 0.625705,\n",
       " 0.625705,\n",
       " 0.756815,\n",
       " 0.889111,\n",
       " 1.017148,\n",
       " 1.166969,\n",
       " 1.309582,\n",
       " 1.442449,\n",
       " 1.587594,\n",
       " 1.718859,\n",
       " 1.850641,\n",
       " 1.850641,\n",
       " 1.850641,\n",
       " 1.982624,\n",
       " 1.982624,\n",
       " 2.115913,\n",
       " 2.115913,\n",
       " 2.251797,\n",
       " 2.392289,\n",
       " 2.392289,\n",
       " 2.392289,\n",
       " 2.529904,\n",
       " 2.529904,\n",
       " 2.671367,\n",
       " 2.671367,\n",
       " 2.820552,\n",
       " 2.820552,\n",
       " 2.820552,\n",
       " 2.958503,\n",
       " 2.958503,\n",
       " 2.958503,\n",
       " 3.10507,\n",
       " 3.244239,\n",
       " 3.390563,\n",
       " 3.390563,\n",
       " 3.390563,\n",
       " 3.532625,\n",
       " 3.532625,\n",
       " 3.676343,\n",
       " 3.676343,\n",
       " 3.806819,\n",
       " 3.939531,\n",
       " 3.939531,\n",
       " 4.079713,\n",
       " 4.221949,\n",
       " 4.361976,\n",
       " 4.361976,\n",
       " 4.503417,\n",
       " 4.503417,\n",
       " 4.503417,\n",
       " 4.637236,\n",
       " 4.637236,\n",
       " 4.784568,\n",
       " 4.784568,\n",
       " 4.784568,\n",
       " 4.928813,\n",
       " 5.074325,\n",
       " 5.074325,\n",
       " 5.214455,\n",
       " 5.214455,\n",
       " 5.354967,\n",
       " 5.490673,\n",
       " 5.490673,\n",
       " 5.631938,\n",
       " 5.775118,\n",
       " 5.915936,\n",
       " 6.061919,\n",
       " 6.061919,\n",
       " 6.061919,\n",
       " 6.207743,\n",
       " 6.207743,\n",
       " 6.347093,\n",
       " 6.347093,\n",
       " 6.488108,\n",
       " 6.488108,\n",
       " 6.629134,\n",
       " 6.629134,\n",
       " 6.629134,\n",
       " 6.776997,\n",
       " 6.776997,\n",
       " 6.776997,\n",
       " 6.914278,\n",
       " 7.053197]"
      ]
     },
     "execution_count": 31,
     "metadata": {},
     "output_type": "execute_result"
    }
   ],
   "source": [
    "time_vec = df[\"time\"]\n",
    "time_vec = time_vec.to_list()\n",
    "time_vec"
   ]
  },
  {
   "cell_type": "code",
   "execution_count": 80,
   "metadata": {},
   "outputs": [
    {
     "data": {
      "text/plain": [
       "array([355,   0,   0,   0,   0, 387, 370, 392, 374, 374, 337, 337, 358,\n",
       "       372, 358, 358, 433, 344, 338, 434, 337, 369, 423, 379, 357, 385,\n",
       "       357, 369, 469, 396, 381, 469, 379, 338, 393, 379, 338, 444, 357,\n",
       "       389, 376, 359, 359, 403, 389, 435, 390, 423, 359, 373, 421, 356,\n",
       "       382, 349, 395, 349, 359, 473, 386, 371, 474, 354, 408, 396, 354,\n",
       "       380, 431, 361, 392, 349, 421, 349, 396, 346, 339, 434, 339, 370,\n",
       "       480, 379, 391, 354, 415, 355, 364, 471, 391, 371, 469, 397, 345,\n",
       "       345])"
      ]
     },
     "execution_count": 80,
     "metadata": {},
     "output_type": "execute_result"
    }
   ],
   "source": [
    "sig = df[\"y_value\"]\n",
    "sig = np.where(sig > 550, 0, sig)\n",
    "sig"
   ]
  },
  {
   "cell_type": "code",
   "execution_count": 81,
   "metadata": {},
   "outputs": [
    {
     "data": {
      "text/plain": [
       "array([ 3.37560000e+04   -0.j        , -1.71601331e+03 +463.28907041j,\n",
       "       -1.40359700e+03 +770.73897383j, -1.04305095e+03+1039.46485183j,\n",
       "       -1.15449888e+03+1001.46997684j, -1.23859013e+03 +949.90257777j,\n",
       "       -4.69783147e+02+1203.77121057j, -8.23613392e+02+1064.37489205j,\n",
       "       -4.09415875e+02+1283.66288391j, -3.87271371e+02+1484.18124924j,\n",
       "       -9.93857128e+01 +859.44393071j,  9.64765659e+00 +864.83644238j,\n",
       "        5.96209884e+02 +950.13197478j,  6.73100148e+02 +248.98646755j,\n",
       "        5.66837139e+02 +558.46977216j,  4.71197449e+02 +301.08682205j,\n",
       "        4.52043533e+02 +272.99895412j,  3.97609923e+02  -93.16442437j,\n",
       "        3.79517182e+02  -70.00470457j,  1.55568001e+02  -57.56972351j,\n",
       "        2.54754251e+02 -206.48447379j,  3.03841715e+02 -246.35665539j,\n",
       "        2.71651911e+01 +114.74730024j, -5.10000000e+01  -21.j        ,\n",
       "        1.82959916e+02 -276.20651999j, -9.22653887e+01 -273.79337298j,\n",
       "        2.98079990e+02   +5.82292904j,  1.43313083e+02 +464.26678865j,\n",
       "        7.58928147e+01 +470.63683307j,  5.46934931e+02+1191.20816606j,\n",
       "        8.07313354e-01  +62.3055297j , -3.19405864e+02 -108.74857771j,\n",
       "        3.22389867e+02 +918.56982498j,  2.52395567e+02 +330.37089652j,\n",
       "        2.92289677e+02 +203.58100782j,  3.17246814e+02 +334.74362866j,\n",
       "       -2.68983535e+02 -477.58514979j,  6.35782447e+02 -296.17242692j,\n",
       "        4.06910178e+02  +51.99750564j,  6.55722856e+02  +14.07398879j,\n",
       "        2.58192075e+02  -71.89299302j,  2.35252542e+01 -358.21251692j,\n",
       "        1.35659191e+02 -105.67282494j,  1.45925673e+02 -274.914745j  ,\n",
       "       -2.48044052e+02  +39.7734606j ,  1.34398893e+02 -469.62466281j,\n",
       "        1.22000000e+02   -0.j        ,  1.34398893e+02 +469.62466281j,\n",
       "       -2.48044052e+02  -39.7734606j ,  1.45925673e+02 +274.914745j  ,\n",
       "        1.35659191e+02 +105.67282494j,  2.35252542e+01 +358.21251692j,\n",
       "        2.58192075e+02  +71.89299302j,  6.55722856e+02  -14.07398879j,\n",
       "        4.06910178e+02  -51.99750564j,  6.35782447e+02 +296.17242692j,\n",
       "       -2.68983535e+02 +477.58514979j,  3.17246814e+02 -334.74362866j,\n",
       "        2.92289677e+02 -203.58100782j,  2.52395567e+02 -330.37089652j,\n",
       "        3.22389867e+02 -918.56982498j, -3.19405864e+02 +108.74857771j,\n",
       "        8.07313354e-01  -62.3055297j ,  5.46934931e+02-1191.20816606j,\n",
       "        7.58928147e+01 -470.63683307j,  1.43313083e+02 -464.26678865j,\n",
       "        2.98079990e+02   -5.82292904j, -9.22653887e+01 +273.79337298j,\n",
       "        1.82959916e+02 +276.20651999j, -5.10000000e+01  +21.j        ,\n",
       "        2.71651911e+01 -114.74730024j,  3.03841715e+02 +246.35665539j,\n",
       "        2.54754251e+02 +206.48447379j,  1.55568001e+02  +57.56972351j,\n",
       "        3.79517182e+02  +70.00470457j,  3.97609923e+02  +93.16442437j,\n",
       "        4.52043533e+02 -272.99895412j,  4.71197449e+02 -301.08682205j,\n",
       "        5.66837139e+02 -558.46977216j,  6.73100148e+02 -248.98646755j,\n",
       "        5.96209884e+02 -950.13197478j,  9.64765659e+00 -864.83644238j,\n",
       "       -9.93857128e+01 -859.44393071j, -3.87271371e+02-1484.18124924j,\n",
       "       -4.09415875e+02-1283.66288391j, -8.23613392e+02-1064.37489205j,\n",
       "       -4.69783147e+02-1203.77121057j, -1.23859013e+03 -949.90257777j,\n",
       "       -1.15449888e+03-1001.46997684j, -1.04305095e+03-1039.46485183j,\n",
       "       -1.40359700e+03 -770.73897383j, -1.71601331e+03 -463.28907041j])"
      ]
     },
     "execution_count": 81,
     "metadata": {},
     "output_type": "execute_result"
    }
   ],
   "source": [
    "sig_fft = fftpack.fft(sig)\n",
    "sig_fft"
   ]
  },
  {
   "cell_type": "code",
   "execution_count": 82,
   "metadata": {},
   "outputs": [],
   "source": [
    "amplitude = np.abs(sig_fft)"
   ]
  },
  {
   "cell_type": "code",
   "execution_count": 83,
   "metadata": {},
   "outputs": [],
   "source": [
    "power = amplitude ** 2"
   ]
  },
  {
   "cell_type": "code",
   "execution_count": 84,
   "metadata": {},
   "outputs": [],
   "source": [
    "angle = np.angle(sig_fft)"
   ]
  },
  {
   "cell_type": "code",
   "execution_count": 85,
   "metadata": {},
   "outputs": [
    {
     "name": "stdout",
     "output_type": "stream",
     "text": [
      "[ 0.          0.01086957  0.02173913  0.0326087   0.04347826  0.05434783\n",
      "  0.06521739  0.07608696  0.08695652  0.09782609  0.10869565  0.11956522\n",
      "  0.13043478  0.14130435  0.15217391  0.16304348  0.17391304  0.18478261\n",
      "  0.19565217  0.20652174  0.2173913   0.22826087  0.23913043  0.25\n",
      "  0.26086957  0.27173913  0.2826087   0.29347826  0.30434783  0.31521739\n",
      "  0.32608696  0.33695652  0.34782609  0.35869565  0.36956522  0.38043478\n",
      "  0.39130435  0.40217391  0.41304348  0.42391304  0.43478261  0.44565217\n",
      "  0.45652174  0.4673913   0.47826087  0.48913043 -0.5        -0.48913043\n",
      " -0.47826087 -0.4673913  -0.45652174 -0.44565217 -0.43478261 -0.42391304\n",
      " -0.41304348 -0.40217391 -0.39130435 -0.38043478 -0.36956522 -0.35869565\n",
      " -0.34782609 -0.33695652 -0.32608696 -0.31521739 -0.30434783 -0.29347826\n",
      " -0.2826087  -0.27173913 -0.26086957 -0.25       -0.23913043 -0.22826087\n",
      " -0.2173913  -0.20652174 -0.19565217 -0.18478261 -0.17391304 -0.16304348\n",
      " -0.15217391 -0.14130435 -0.13043478 -0.11956522 -0.10869565 -0.09782609\n",
      " -0.08695652 -0.07608696 -0.06521739 -0.05434783 -0.04347826 -0.0326087\n",
      " -0.02173913 -0.01086957]\n"
     ]
    }
   ],
   "source": [
    "sample_freq = fftpack.fftfreq(sig.size)\n",
    "print(sample_freq)"
   ]
  },
  {
   "cell_type": "code",
   "execution_count": 86,
   "metadata": {},
   "outputs": [],
   "source": [
    "amp_freq = np.array([amplitude, sample_freq])"
   ]
  },
  {
   "cell_type": "code",
   "execution_count": 87,
   "metadata": {},
   "outputs": [],
   "source": [
    "amp_position = amp_freq[0,:].argmax()"
   ]
  },
  {
   "cell_type": "code",
   "execution_count": 88,
   "metadata": {},
   "outputs": [],
   "source": [
    "peak_freq = amp_freq[1, amp_position]"
   ]
  },
  {
   "cell_type": "code",
   "execution_count": 89,
   "metadata": {},
   "outputs": [],
   "source": [
    "high_freq_fft = sig_fft.copy()"
   ]
  },
  {
   "cell_type": "code",
   "execution_count": 90,
   "metadata": {},
   "outputs": [],
   "source": [
    "high_freq_fft[np.abs(sample_freq) > peak_freq] = 0"
   ]
  },
  {
   "cell_type": "code",
   "execution_count": 91,
   "metadata": {},
   "outputs": [
    {
     "data": {
      "text/plain": [
       "array([366.91304348+0.j, 366.91304348+0.j, 366.91304348+0.j,\n",
       "       366.91304348+0.j, 366.91304348+0.j, 366.91304348+0.j,\n",
       "       366.91304348+0.j, 366.91304348+0.j, 366.91304348+0.j,\n",
       "       366.91304348+0.j, 366.91304348+0.j, 366.91304348+0.j,\n",
       "       366.91304348+0.j, 366.91304348+0.j, 366.91304348+0.j,\n",
       "       366.91304348+0.j, 366.91304348+0.j, 366.91304348+0.j,\n",
       "       366.91304348+0.j, 366.91304348+0.j, 366.91304348+0.j,\n",
       "       366.91304348+0.j, 366.91304348+0.j, 366.91304348+0.j,\n",
       "       366.91304348+0.j, 366.91304348+0.j, 366.91304348+0.j,\n",
       "       366.91304348+0.j, 366.91304348+0.j, 366.91304348+0.j,\n",
       "       366.91304348+0.j, 366.91304348+0.j, 366.91304348+0.j,\n",
       "       366.91304348+0.j, 366.91304348+0.j, 366.91304348+0.j,\n",
       "       366.91304348+0.j, 366.91304348+0.j, 366.91304348+0.j,\n",
       "       366.91304348+0.j, 366.91304348+0.j, 366.91304348+0.j,\n",
       "       366.91304348+0.j, 366.91304348+0.j, 366.91304348+0.j,\n",
       "       366.91304348+0.j, 366.91304348+0.j, 366.91304348+0.j,\n",
       "       366.91304348+0.j, 366.91304348+0.j, 366.91304348+0.j,\n",
       "       366.91304348+0.j, 366.91304348+0.j, 366.91304348+0.j,\n",
       "       366.91304348+0.j, 366.91304348+0.j, 366.91304348+0.j,\n",
       "       366.91304348+0.j, 366.91304348+0.j, 366.91304348+0.j,\n",
       "       366.91304348+0.j, 366.91304348+0.j, 366.91304348+0.j,\n",
       "       366.91304348+0.j, 366.91304348+0.j, 366.91304348+0.j,\n",
       "       366.91304348+0.j, 366.91304348+0.j, 366.91304348+0.j,\n",
       "       366.91304348+0.j, 366.91304348+0.j, 366.91304348+0.j,\n",
       "       366.91304348+0.j, 366.91304348+0.j, 366.91304348+0.j,\n",
       "       366.91304348+0.j, 366.91304348+0.j, 366.91304348+0.j,\n",
       "       366.91304348+0.j, 366.91304348+0.j, 366.91304348+0.j,\n",
       "       366.91304348+0.j, 366.91304348+0.j, 366.91304348+0.j,\n",
       "       366.91304348+0.j, 366.91304348+0.j, 366.91304348+0.j,\n",
       "       366.91304348+0.j, 366.91304348+0.j, 366.91304348+0.j,\n",
       "       366.91304348+0.j, 366.91304348+0.j])"
      ]
     },
     "execution_count": 91,
     "metadata": {},
     "output_type": "execute_result"
    }
   ],
   "source": [
    "filttered_sig = fftpack.ifft(high_freq_fft)\n",
    "filttered_sig"
   ]
  },
  {
   "cell_type": "code",
   "execution_count": 92,
   "metadata": {},
   "outputs": [
    {
     "name": "stderr",
     "output_type": "stream",
     "text": [
      "/opt/anaconda3/lib/python3.9/site-packages/matplotlib/cbook/__init__.py:1298: ComplexWarning: Casting complex values to real discards the imaginary part\n",
      "  return np.asarray(x, float)\n"
     ]
    },
    {
     "data": {
      "image/png": "[encoded data removed]",
      "text/plain": [
       "<Figure size 576x396 with 1 Axes>"
      ]
     },
     "metadata": {},
     "output_type": "display_data"
    }
   ],
   "source": [
    "plt.plot(time_vec, filttered_sig)\n",
    "plt.plot(time_vec, sig)\n",
    "plt.show()"
   ]
  },
  {
   "cell_type": "code",
   "execution_count": null,
   "metadata": {},
   "outputs": [],
   "source": []
  }
 ],
 "metadata": {
  "kernelspec": {
   "display_name": "Python 3.9.12 ('base')",
   "language": "python",
   "name": "python3"
  },
  "language_info": {
   "codemirror_mode": {
    "name": "ipython",
    "version": 3
   },
   "file_extension": ".py",
   "mimetype": "text/x-python",
   "name": "python",
   "nbconvert_exporter": "python",
   "pygments_lexer": "ipython3",
   "version": "3.9.12"
  },
  "orig_nbformat": 4,
  "vscode": {
   "interpreter": {
    "hash": "40d3a090f54c6569ab1632332b64b2c03c39dcf918b08424e98f38b5ae0af88f"
   }
  }
 },
 "nbformat": 4,
 "nbformat_minor": 2
}
